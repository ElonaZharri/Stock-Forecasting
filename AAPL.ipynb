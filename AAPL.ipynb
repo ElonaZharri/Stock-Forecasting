{
 "cells": [
  {
   "cell_type": "code",
   "execution_count": 32,
   "metadata": {},
   "outputs": [
    {
     "name": "stdout",
     "output_type": "stream",
     "text": [
      "<class 'pandas.core.frame.DataFrame'>\n",
      "DatetimeIndex: 6193 entries, 1996-01-02 to 2020-08-06\n",
      "Data columns (total 6 columns):\n",
      " #   Column     Non-Null Count  Dtype  \n",
      "---  ------     --------------  -----  \n",
      " 0   Open       6193 non-null   float64\n",
      " 1   High       6193 non-null   float64\n",
      " 2   Low        6193 non-null   float64\n",
      " 3   Close      6193 non-null   float64\n",
      " 4   Adj Close  6193 non-null   float64\n",
      " 5   Volume     6193 non-null   int64  \n",
      "dtypes: float64(5), int64(1)\n",
      "memory usage: 338.7 KB\n"
     ]
    }
   ],
   "source": [
    "# import pandas, numpy, and matplotlib libraries\n",
    "import pandas as pd\n",
    "import numpy as np\n",
    "import matplotlib.pyplot as plt\n",
    "import seaborn as sns\n",
    "\n",
    "# create a dataframe from a cvs file\n",
    "df = pd.read_csv('AAPL.csv', parse_dates=True, index_col = 'Date' )\n",
    "# checking the dimensionality of the dataframe\n",
    "df.shape\n",
    "# viewing the top reacords of the dataframe\n",
    "df.head()\n",
    "# checking for duplicate records and dropping them if any\n",
    "df.drop_duplicates()\n",
    "df.info()"
   ]
  },
  {
   "cell_type": "code",
   "execution_count": 10,
   "metadata": {},
   "outputs": [
    {
     "data": {
      "text/html": [
       "<div>\n",
       "<style scoped>\n",
       "    .dataframe tbody tr th:only-of-type {\n",
       "        vertical-align: middle;\n",
       "    }\n",
       "\n",
       "    .dataframe tbody tr th {\n",
       "        vertical-align: top;\n",
       "    }\n",
       "\n",
       "    .dataframe thead th {\n",
       "        text-align: right;\n",
       "    }\n",
       "</style>\n",
       "<table border=\"1\" class=\"dataframe\">\n",
       "  <thead>\n",
       "    <tr style=\"text-align: right;\">\n",
       "      <th></th>\n",
       "      <th>Open</th>\n",
       "      <th>High</th>\n",
       "      <th>Low</th>\n",
       "      <th>Close</th>\n",
       "      <th>Adj Close</th>\n",
       "      <th>Volume</th>\n",
       "    </tr>\n",
       "  </thead>\n",
       "  <tbody>\n",
       "    <tr>\n",
       "      <th>count</th>\n",
       "      <td>6193.000000</td>\n",
       "      <td>6193.000000</td>\n",
       "      <td>6193.000000</td>\n",
       "      <td>6193.000000</td>\n",
       "      <td>6193.000000</td>\n",
       "      <td>6.193000e+03</td>\n",
       "    </tr>\n",
       "    <tr>\n",
       "      <th>mean</th>\n",
       "      <td>56.237443</td>\n",
       "      <td>56.820016</td>\n",
       "      <td>55.671111</td>\n",
       "      <td>56.272008</td>\n",
       "      <td>52.994036</td>\n",
       "      <td>1.096375e+08</td>\n",
       "    </tr>\n",
       "    <tr>\n",
       "      <th>std</th>\n",
       "      <td>74.910837</td>\n",
       "      <td>75.740761</td>\n",
       "      <td>74.210479</td>\n",
       "      <td>75.039504</td>\n",
       "      <td>73.670390</td>\n",
       "      <td>9.725212e+07</td>\n",
       "    </tr>\n",
       "    <tr>\n",
       "      <th>min</th>\n",
       "      <td>0.459821</td>\n",
       "      <td>0.473214</td>\n",
       "      <td>0.455357</td>\n",
       "      <td>0.462054</td>\n",
       "      <td>0.399999</td>\n",
       "      <td>9.835000e+06</td>\n",
       "    </tr>\n",
       "    <tr>\n",
       "      <th>25%</th>\n",
       "      <td>1.633929</td>\n",
       "      <td>1.665179</td>\n",
       "      <td>1.600714</td>\n",
       "      <td>1.634286</td>\n",
       "      <td>1.414797</td>\n",
       "      <td>4.438730e+07</td>\n",
       "    </tr>\n",
       "    <tr>\n",
       "      <th>50%</th>\n",
       "      <td>18.492857</td>\n",
       "      <td>18.900000</td>\n",
       "      <td>18.090000</td>\n",
       "      <td>18.485714</td>\n",
       "      <td>16.003035</td>\n",
       "      <td>8.156190e+07</td>\n",
       "    </tr>\n",
       "    <tr>\n",
       "      <th>75%</th>\n",
       "      <td>94.040001</td>\n",
       "      <td>94.820000</td>\n",
       "      <td>93.040001</td>\n",
       "      <td>94.019997</td>\n",
       "      <td>84.512062</td>\n",
       "      <td>1.429260e+08</td>\n",
       "    </tr>\n",
       "    <tr>\n",
       "      <th>max</th>\n",
       "      <td>441.619995</td>\n",
       "      <td>457.649994</td>\n",
       "      <td>439.190002</td>\n",
       "      <td>455.609985</td>\n",
       "      <td>455.609985</td>\n",
       "      <td>1.855410e+09</td>\n",
       "    </tr>\n",
       "  </tbody>\n",
       "</table>\n",
       "</div>"
      ],
      "text/plain": [
       "              Open         High          Low        Close    Adj Close  \\\n",
       "count  6193.000000  6193.000000  6193.000000  6193.000000  6193.000000   \n",
       "mean     56.237443    56.820016    55.671111    56.272008    52.994036   \n",
       "std      74.910837    75.740761    74.210479    75.039504    73.670390   \n",
       "min       0.459821     0.473214     0.455357     0.462054     0.399999   \n",
       "25%       1.633929     1.665179     1.600714     1.634286     1.414797   \n",
       "50%      18.492857    18.900000    18.090000    18.485714    16.003035   \n",
       "75%      94.040001    94.820000    93.040001    94.019997    84.512062   \n",
       "max     441.619995   457.649994   439.190002   455.609985   455.609985   \n",
       "\n",
       "             Volume  \n",
       "count  6.193000e+03  \n",
       "mean   1.096375e+08  \n",
       "std    9.725212e+07  \n",
       "min    9.835000e+06  \n",
       "25%    4.438730e+07  \n",
       "50%    8.156190e+07  \n",
       "75%    1.429260e+08  \n",
       "max    1.855410e+09  "
      ]
     },
     "execution_count": 10,
     "metadata": {},
     "output_type": "execute_result"
    }
   ],
   "source": [
    "# Basic descriptive statistics for each column \n",
    "df.describe()"
   ]
  },
  {
   "cell_type": "code",
   "execution_count": 11,
   "metadata": {},
   "outputs": [
    {
     "data": {
      "text/plain": [
       "0.514008      13\n",
       "0.525602      10\n",
       "0.765215       8\n",
       "0.664732       8\n",
       "0.711109       8\n",
       "              ..\n",
       "11.145237      1\n",
       "47.437740      1\n",
       "23.492554      1\n",
       "217.065186     1\n",
       "66.986145      1\n",
       "Name: Adj Close, Length: 5218, dtype: int64"
      ]
     },
     "execution_count": 11,
     "metadata": {},
     "output_type": "execute_result"
    }
   ],
   "source": [
    "df['Adj Close'].value_counts()"
   ]
  },
  {
   "cell_type": "code",
   "execution_count": 12,
   "metadata": {},
   "outputs": [
    {
     "data": {
      "text/html": [
       "<div>\n",
       "<style scoped>\n",
       "    .dataframe tbody tr th:only-of-type {\n",
       "        vertical-align: middle;\n",
       "    }\n",
       "\n",
       "    .dataframe tbody tr th {\n",
       "        vertical-align: top;\n",
       "    }\n",
       "\n",
       "    .dataframe thead th {\n",
       "        text-align: right;\n",
       "    }\n",
       "</style>\n",
       "<table border=\"1\" class=\"dataframe\">\n",
       "  <thead>\n",
       "    <tr style=\"text-align: right;\">\n",
       "      <th></th>\n",
       "      <th>Date</th>\n",
       "      <th>Open</th>\n",
       "      <th>High</th>\n",
       "      <th>Low</th>\n",
       "      <th>Close</th>\n",
       "      <th>Adj Close</th>\n",
       "      <th>Volume</th>\n",
       "    </tr>\n",
       "  </thead>\n",
       "  <tbody>\n",
       "    <tr>\n",
       "      <th>6188</th>\n",
       "      <td>2020-07-31</td>\n",
       "      <td>411.540009</td>\n",
       "      <td>425.660004</td>\n",
       "      <td>403.299988</td>\n",
       "      <td>425.040009</td>\n",
       "      <td>425.040009</td>\n",
       "      <td>93584200</td>\n",
       "    </tr>\n",
       "    <tr>\n",
       "      <th>6189</th>\n",
       "      <td>2020-08-03</td>\n",
       "      <td>432.799988</td>\n",
       "      <td>446.549988</td>\n",
       "      <td>431.570007</td>\n",
       "      <td>435.750000</td>\n",
       "      <td>435.750000</td>\n",
       "      <td>77037800</td>\n",
       "    </tr>\n",
       "    <tr>\n",
       "      <th>6190</th>\n",
       "      <td>2020-08-04</td>\n",
       "      <td>436.529999</td>\n",
       "      <td>443.160004</td>\n",
       "      <td>433.549988</td>\n",
       "      <td>438.660004</td>\n",
       "      <td>438.660004</td>\n",
       "      <td>43267900</td>\n",
       "    </tr>\n",
       "    <tr>\n",
       "      <th>6191</th>\n",
       "      <td>2020-08-05</td>\n",
       "      <td>437.510010</td>\n",
       "      <td>441.570007</td>\n",
       "      <td>435.589996</td>\n",
       "      <td>440.250000</td>\n",
       "      <td>440.250000</td>\n",
       "      <td>30498000</td>\n",
       "    </tr>\n",
       "    <tr>\n",
       "      <th>6192</th>\n",
       "      <td>2020-08-06</td>\n",
       "      <td>441.619995</td>\n",
       "      <td>457.649994</td>\n",
       "      <td>439.190002</td>\n",
       "      <td>455.609985</td>\n",
       "      <td>455.609985</td>\n",
       "      <td>50490000</td>\n",
       "    </tr>\n",
       "  </tbody>\n",
       "</table>\n",
       "</div>"
      ],
      "text/plain": [
       "            Date        Open        High         Low       Close   Adj Close  \\\n",
       "6188  2020-07-31  411.540009  425.660004  403.299988  425.040009  425.040009   \n",
       "6189  2020-08-03  432.799988  446.549988  431.570007  435.750000  435.750000   \n",
       "6190  2020-08-04  436.529999  443.160004  433.549988  438.660004  438.660004   \n",
       "6191  2020-08-05  437.510010  441.570007  435.589996  440.250000  440.250000   \n",
       "6192  2020-08-06  441.619995  457.649994  439.190002  455.609985  455.609985   \n",
       "\n",
       "        Volume  \n",
       "6188  93584200  \n",
       "6189  77037800  \n",
       "6190  43267900  \n",
       "6191  30498000  \n",
       "6192  50490000  "
      ]
     },
     "execution_count": 12,
     "metadata": {},
     "output_type": "execute_result"
    }
   ],
   "source": [
    "df.tail()"
   ]
  },
  {
   "cell_type": "code",
   "execution_count": 14,
   "metadata": {},
   "outputs": [
    {
     "data": {
      "image/png": "[encoded data removed]",
      "text/plain": [
       "<Figure size 432x288 with 1 Axes>"
      ]
     },
     "metadata": {
      "needs_background": "light"
     },
     "output_type": "display_data"
    }
   ],
   "source": [
    "df['Adj Close'].plot()\n",
    "plt.show()"
   ]
  },
  {
   "cell_type": "code",
   "execution_count": 17,
   "metadata": {},
   "outputs": [
    {
     "data": {
      "image/png": "[encoded data removed]",
      "text/plain": [
       "<Figure size 432x288 with 2 Axes>"
      ]
     },
     "metadata": {
      "needs_background": "light"
     },
     "output_type": "display_data"
    }
   ],
   "source": [
    "df.loc[ slice('1996','2020'), ['Close','Adj Close']].plot(subplots=True)\n",
    "plt.show()"
   ]
  },
  {
   "cell_type": "code",
   "execution_count": 26,
   "metadata": {},
   "outputs": [
    {
     "data": {
      "text/plain": [
       "<AxesSubplot:>"
      ]
     },
     "execution_count": 26,
     "metadata": {},
     "output_type": "execute_result"
    },
    {
     "data": {
      "image/png": "[encoded data removed]",
      "text/plain": [
       "<Figure size 432x288 with 2 Axes>"
      ]
     },
     "metadata": {
      "needs_background": "light"
     },
     "output_type": "display_data"
    }
   ],
   "source": [
    "# try to find correlation between attributes\n",
    "data = df[['Adj Close','Volume']]\n",
    "correlation = data.corr(method='pearson')\n",
    "sns.heatmap(correlation)"
   ]
  },
  {
   "cell_type": "code",
   "execution_count": 25,
   "metadata": {},
   "outputs": [
    {
     "data": {
      "text/plain": [
       "Text(0.5, 1.0, 'Correlation matrix')"
      ]
     },
     "execution_count": 25,
     "metadata": {},
     "output_type": "execute_result"
    },
    {
     "data": {
      "image/png": "[encoded data removed]",
      "text/plain": [
       "<Figure size 432x288 with 2 Axes>"
      ]
     },
     "metadata": {
      "needs_background": "light"
     },
     "output_type": "display_data"
    }
   ],
   "source": [
    "# referral https://raphaelvallat.com/correlation.html\n",
    "corrs = df.corr()\n",
    "mask = np.zeros_like(corrs)\n",
    "mask[np.triu_indices_from(mask)] = True\n",
    "sns.heatmap(corrs, cmap='Spectral_r', mask=mask, square=True, vmin=-.4, vmax=.4)\n",
    "plt.title('Correlation matrix')"
   ]
  },
  {
   "cell_type": "code",
   "execution_count": 59,
   "metadata": {},
   "outputs": [
    {
     "data": {
      "text/html": [
       "<div>\n",
       "<style scoped>\n",
       "    .dataframe tbody tr th:only-of-type {\n",
       "        vertical-align: middle;\n",
       "    }\n",
       "\n",
       "    .dataframe tbody tr th {\n",
       "        vertical-align: top;\n",
       "    }\n",
       "\n",
       "    .dataframe thead th {\n",
       "        text-align: right;\n",
       "    }\n",
       "</style>\n",
       "<table border=\"1\" class=\"dataframe\">\n",
       "  <thead>\n",
       "    <tr style=\"text-align: right;\">\n",
       "      <th></th>\n",
       "      <th>Open</th>\n",
       "      <th>High</th>\n",
       "      <th>Low</th>\n",
       "      <th>Close</th>\n",
       "      <th>Adj Close</th>\n",
       "      <th>Volume</th>\n",
       "      <th>SMA</th>\n",
       "    </tr>\n",
       "    <tr>\n",
       "      <th>Date</th>\n",
       "      <th></th>\n",
       "      <th></th>\n",
       "      <th></th>\n",
       "      <th></th>\n",
       "      <th></th>\n",
       "      <th></th>\n",
       "      <th></th>\n",
       "    </tr>\n",
       "  </thead>\n",
       "  <tbody>\n",
       "    <tr>\n",
       "      <th>1996-01-02</th>\n",
       "      <td>1.151786</td>\n",
       "      <td>1.151786</td>\n",
       "      <td>1.133929</td>\n",
       "      <td>1.147321</td>\n",
       "      <td>0.993233</td>\n",
       "      <td>34823600</td>\n",
       "      <td>NaN</td>\n",
       "    </tr>\n",
       "    <tr>\n",
       "      <th>1996-01-03</th>\n",
       "      <td>1.142857</td>\n",
       "      <td>1.174107</td>\n",
       "      <td>1.138393</td>\n",
       "      <td>1.147321</td>\n",
       "      <td>0.993233</td>\n",
       "      <td>107458400</td>\n",
       "      <td>NaN</td>\n",
       "    </tr>\n",
       "    <tr>\n",
       "      <th>1996-01-04</th>\n",
       "      <td>1.156250</td>\n",
       "      <td>1.156250</td>\n",
       "      <td>1.120536</td>\n",
       "      <td>1.127232</td>\n",
       "      <td>0.975842</td>\n",
       "      <td>75045600</td>\n",
       "      <td>NaN</td>\n",
       "    </tr>\n",
       "    <tr>\n",
       "      <th>1996-01-05</th>\n",
       "      <td>1.129464</td>\n",
       "      <td>1.223214</td>\n",
       "      <td>1.120536</td>\n",
       "      <td>1.223214</td>\n",
       "      <td>1.058933</td>\n",
       "      <td>111482000</td>\n",
       "      <td>1.005310</td>\n",
       "    </tr>\n",
       "    <tr>\n",
       "      <th>1996-01-08</th>\n",
       "      <td>1.232143</td>\n",
       "      <td>1.267857</td>\n",
       "      <td>1.214286</td>\n",
       "      <td>1.236607</td>\n",
       "      <td>1.070527</td>\n",
       "      <td>30335200</td>\n",
       "      <td>1.024634</td>\n",
       "    </tr>\n",
       "  </tbody>\n",
       "</table>\n",
       "</div>"
      ],
      "text/plain": [
       "                Open      High       Low     Close  Adj Close     Volume  \\\n",
       "Date                                                                       \n",
       "1996-01-02  1.151786  1.151786  1.133929  1.147321   0.993233   34823600   \n",
       "1996-01-03  1.142857  1.174107  1.138393  1.147321   0.993233  107458400   \n",
       "1996-01-04  1.156250  1.156250  1.120536  1.127232   0.975842   75045600   \n",
       "1996-01-05  1.129464  1.223214  1.120536  1.223214   1.058933  111482000   \n",
       "1996-01-08  1.232143  1.267857  1.214286  1.236607   1.070527   30335200   \n",
       "\n",
       "                 SMA  \n",
       "Date                  \n",
       "1996-01-02       NaN  \n",
       "1996-01-03       NaN  \n",
       "1996-01-04       NaN  \n",
       "1996-01-05  1.005310  \n",
       "1996-01-08  1.024634  "
      ]
     },
     "execution_count": 59,
     "metadata": {},
     "output_type": "execute_result"
    }
   ],
   "source": [
    "# design a function to calculate the simple moving average\n",
    "# SMA uses a sliding window to take the average over a set number of time periods \n",
    "# It is an equally weighted mean of the previous n data\n",
    "# SMA = (Sum(price, n)) / n    \n",
    "# Where: n = Time Period\n",
    "def sma(x,n):\n",
    "    return pd.DataFrame(x).rolling(window=n).mean()\n",
    "\n",
    "# add a new column in df to store the SMA\n",
    "df['SMA']= sma(df['Adj Close'],4) \n",
    "df.head()"
   ]
  },
  {
   "cell_type": "code",
   "execution_count": null,
   "metadata": {},
   "outputs": [],
   "source": []
  }
 ],
 "metadata": {
  "kernelspec": {
   "display_name": "Python 3",
   "language": "python",
   "name": "python3"
  },
  "language_info": {
   "codemirror_mode": {
    "name": "ipython",
    "version": 3
   },
   "file_extension": ".py",
   "mimetype": "text/x-python",
   "name": "python",
   "nbconvert_exporter": "python",
   "pygments_lexer": "ipython3",
   "version": "3.7.6"
  }
 },
 "nbformat": 4,
 "nbformat_minor": 4
}
