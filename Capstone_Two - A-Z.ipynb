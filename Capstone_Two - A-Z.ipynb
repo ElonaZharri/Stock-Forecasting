{
 "cells": [
  {
   "cell_type": "markdown",
   "id": "dd001d1d",
   "metadata": {},
   "source": [
    "# Stock Forecasting"
   ]
  },
  {
   "cell_type": "markdown",
   "id": "e0147dee",
   "metadata": {},
   "source": [
    "Time Series is a collection of data points collected at constant time intervals.\n",
    "It is time dependent. \n",
    "Along with an increasing or decreasing trend, most TS have some form of seasonality trends, i.e. variations specific to a particular time frame. For example, if you see the sales of a woolen jacket over time, you will invariably find higher sales in winter seasons."
   ]
  },
  {
   "cell_type": "code",
   "execution_count": 1,
   "id": "596577b7",
   "metadata": {},
   "outputs": [],
   "source": [
    "import numpy as np\n",
    "import pandas as pd\n",
    "import matplotlib.pyplot as plt\n",
    "import seaborn as sns\n",
    "from datetime import datetime"
   ]
  },
  {
   "cell_type": "markdown",
   "id": "10846be4",
   "metadata": {},
   "source": [
    "# Loading and Handling Time Series in Pandas"
   ]
  },
  {
   "cell_type": "code",
   "execution_count": 2,
   "id": "b80495c7",
   "metadata": {},
   "outputs": [
    {
     "data": {
      "text/html": [
       "<div>\n",
       "<style scoped>\n",
       "    .dataframe tbody tr th:only-of-type {\n",
       "        vertical-align: middle;\n",
       "    }\n",
       "\n",
       "    .dataframe tbody tr th {\n",
       "        vertical-align: top;\n",
       "    }\n",
       "\n",
       "    .dataframe thead th {\n",
       "        text-align: right;\n",
       "    }\n",
       "</style>\n",
       "<table border=\"1\" class=\"dataframe\">\n",
       "  <thead>\n",
       "    <tr style=\"text-align: right;\">\n",
       "      <th></th>\n",
       "      <th>Date</th>\n",
       "      <th>Open</th>\n",
       "      <th>High</th>\n",
       "      <th>Low</th>\n",
       "      <th>Close</th>\n",
       "      <th>Adj Close</th>\n",
       "      <th>Volume</th>\n",
       "    </tr>\n",
       "  </thead>\n",
       "  <tbody>\n",
       "    <tr>\n",
       "      <th>0</th>\n",
       "      <td>1996-01-02</td>\n",
       "      <td>1.151786</td>\n",
       "      <td>1.151786</td>\n",
       "      <td>1.133929</td>\n",
       "      <td>1.147321</td>\n",
       "      <td>0.993233</td>\n",
       "      <td>34823600</td>\n",
       "    </tr>\n",
       "    <tr>\n",
       "      <th>1</th>\n",
       "      <td>1996-01-03</td>\n",
       "      <td>1.142857</td>\n",
       "      <td>1.174107</td>\n",
       "      <td>1.138393</td>\n",
       "      <td>1.147321</td>\n",
       "      <td>0.993233</td>\n",
       "      <td>107458400</td>\n",
       "    </tr>\n",
       "    <tr>\n",
       "      <th>2</th>\n",
       "      <td>1996-01-04</td>\n",
       "      <td>1.156250</td>\n",
       "      <td>1.156250</td>\n",
       "      <td>1.120536</td>\n",
       "      <td>1.127232</td>\n",
       "      <td>0.975842</td>\n",
       "      <td>75045600</td>\n",
       "    </tr>\n",
       "    <tr>\n",
       "      <th>3</th>\n",
       "      <td>1996-01-05</td>\n",
       "      <td>1.129464</td>\n",
       "      <td>1.223214</td>\n",
       "      <td>1.120536</td>\n",
       "      <td>1.223214</td>\n",
       "      <td>1.058933</td>\n",
       "      <td>111482000</td>\n",
       "    </tr>\n",
       "    <tr>\n",
       "      <th>4</th>\n",
       "      <td>1996-01-08</td>\n",
       "      <td>1.232143</td>\n",
       "      <td>1.267857</td>\n",
       "      <td>1.214286</td>\n",
       "      <td>1.236607</td>\n",
       "      <td>1.070527</td>\n",
       "      <td>30335200</td>\n",
       "    </tr>\n",
       "  </tbody>\n",
       "</table>\n",
       "</div>"
      ],
      "text/plain": [
       "         Date      Open      High       Low     Close  Adj Close     Volume\n",
       "0  1996-01-02  1.151786  1.151786  1.133929  1.147321   0.993233   34823600\n",
       "1  1996-01-03  1.142857  1.174107  1.138393  1.147321   0.993233  107458400\n",
       "2  1996-01-04  1.156250  1.156250  1.120536  1.127232   0.975842   75045600\n",
       "3  1996-01-05  1.129464  1.223214  1.120536  1.223214   1.058933  111482000\n",
       "4  1996-01-08  1.232143  1.267857  1.214286  1.236607   1.070527   30335200"
      ]
     },
     "execution_count": 2,
     "metadata": {},
     "output_type": "execute_result"
    }
   ],
   "source": [
    "# load the raw data\n",
    "apple = pd.read_csv(\"AAPL.csv\")\n",
    "apple.head()"
   ]
  },
  {
   "cell_type": "code",
   "execution_count": 3,
   "id": "ce4e943f",
   "metadata": {},
   "outputs": [
    {
     "name": "stdout",
     "output_type": "stream",
     "text": [
      "<class 'pandas.core.frame.DataFrame'>\n",
      "RangeIndex: 6193 entries, 0 to 6192\n",
      "Data columns (total 7 columns):\n",
      " #   Column     Non-Null Count  Dtype  \n",
      "---  ------     --------------  -----  \n",
      " 0   Date       6193 non-null   object \n",
      " 1   Open       6193 non-null   float64\n",
      " 2   High       6193 non-null   float64\n",
      " 3   Low        6193 non-null   float64\n",
      " 4   Close      6193 non-null   float64\n",
      " 5   Adj Close  6193 non-null   float64\n",
      " 6   Volume     6193 non-null   int64  \n",
      "dtypes: float64(5), int64(1), object(1)\n",
      "memory usage: 338.8+ KB\n"
     ]
    }
   ],
   "source": [
    "# identify the data type\n",
    "apple.info()"
   ]
  },
  {
   "cell_type": "markdown",
   "id": "210357c0",
   "metadata": {},
   "source": [
    "# Time Series Data Structure\n",
    "3 types of structures are used with TS data:\n",
    "    - DatetimeIndex (mostly used)\n",
    "    - PeriodIndex\n",
    "    - TimedeltaIndex\n",
    "Why do we need to convert the time into datetime while working with TS data?\n",
    "Time series data can come in with so many different formats. But not all of those formats are friendly to python’s pandas’ library. The most convenient format is the timestamp format for Pandas. But most of the time time-series data come in string formats. That is the reason why we need to change the date type from object to timestamp."
   ]
  },
  {
   "cell_type": "markdown",
   "id": "1a746cf5",
   "metadata": {},
   "source": [
    "We will make it to the DatetimeIndex format and put it as the index column.\n",
    "Because when the ‘date’ column is the index column we will be able to resample it very easily. "
   ]
  },
  {
   "cell_type": "code",
   "execution_count": 4,
   "id": "f549cada",
   "metadata": {},
   "outputs": [
    {
     "data": {
      "text/html": [
       "<div>\n",
       "<style scoped>\n",
       "    .dataframe tbody tr th:only-of-type {\n",
       "        vertical-align: middle;\n",
       "    }\n",
       "\n",
       "    .dataframe tbody tr th {\n",
       "        vertical-align: top;\n",
       "    }\n",
       "\n",
       "    .dataframe thead th {\n",
       "        text-align: right;\n",
       "    }\n",
       "</style>\n",
       "<table border=\"1\" class=\"dataframe\">\n",
       "  <thead>\n",
       "    <tr style=\"text-align: right;\">\n",
       "      <th></th>\n",
       "      <th>Open</th>\n",
       "      <th>High</th>\n",
       "      <th>Low</th>\n",
       "      <th>Close</th>\n",
       "      <th>Adj Close</th>\n",
       "      <th>Volume</th>\n",
       "    </tr>\n",
       "    <tr>\n",
       "      <th>Date</th>\n",
       "      <th></th>\n",
       "      <th></th>\n",
       "      <th></th>\n",
       "      <th></th>\n",
       "      <th></th>\n",
       "      <th></th>\n",
       "    </tr>\n",
       "  </thead>\n",
       "  <tbody>\n",
       "    <tr>\n",
       "      <th>2020-07-31</th>\n",
       "      <td>411.540009</td>\n",
       "      <td>425.660004</td>\n",
       "      <td>403.299988</td>\n",
       "      <td>425.040009</td>\n",
       "      <td>425.040009</td>\n",
       "      <td>93584200</td>\n",
       "    </tr>\n",
       "    <tr>\n",
       "      <th>2020-08-03</th>\n",
       "      <td>432.799988</td>\n",
       "      <td>446.549988</td>\n",
       "      <td>431.570007</td>\n",
       "      <td>435.750000</td>\n",
       "      <td>435.750000</td>\n",
       "      <td>77037800</td>\n",
       "    </tr>\n",
       "    <tr>\n",
       "      <th>2020-08-04</th>\n",
       "      <td>436.529999</td>\n",
       "      <td>443.160004</td>\n",
       "      <td>433.549988</td>\n",
       "      <td>438.660004</td>\n",
       "      <td>438.660004</td>\n",
       "      <td>43267900</td>\n",
       "    </tr>\n",
       "    <tr>\n",
       "      <th>2020-08-05</th>\n",
       "      <td>437.510010</td>\n",
       "      <td>441.570007</td>\n",
       "      <td>435.589996</td>\n",
       "      <td>440.250000</td>\n",
       "      <td>440.250000</td>\n",
       "      <td>30498000</td>\n",
       "    </tr>\n",
       "    <tr>\n",
       "      <th>2020-08-06</th>\n",
       "      <td>441.619995</td>\n",
       "      <td>457.649994</td>\n",
       "      <td>439.190002</td>\n",
       "      <td>455.609985</td>\n",
       "      <td>455.609985</td>\n",
       "      <td>50490000</td>\n",
       "    </tr>\n",
       "  </tbody>\n",
       "</table>\n",
       "</div>"
      ],
      "text/plain": [
       "                  Open        High         Low       Close   Adj Close  \\\n",
       "Date                                                                     \n",
       "2020-07-31  411.540009  425.660004  403.299988  425.040009  425.040009   \n",
       "2020-08-03  432.799988  446.549988  431.570007  435.750000  435.750000   \n",
       "2020-08-04  436.529999  443.160004  433.549988  438.660004  438.660004   \n",
       "2020-08-05  437.510010  441.570007  435.589996  440.250000  440.250000   \n",
       "2020-08-06  441.619995  457.649994  439.190002  455.609985  455.609985   \n",
       "\n",
       "              Volume  \n",
       "Date                  \n",
       "2020-07-31  93584200  \n",
       "2020-08-03  77037800  \n",
       "2020-08-04  43267900  \n",
       "2020-08-05  30498000  \n",
       "2020-08-06  50490000  "
      ]
     },
     "execution_count": 4,
     "metadata": {},
     "output_type": "execute_result"
    }
   ],
   "source": [
    "apple = pd.read_csv(\"AAPL.csv\", parse_dates=['Date'], index_col=\"Date\")\n",
    "apple.tail()"
   ]
  },
  {
   "cell_type": "markdown",
   "id": "5cfeac13",
   "metadata": {},
   "source": [
    "# Why is resampling important?\n",
    "Because we do not always need all the data in a huge dataset. For example, we may need only the data from June 2019. \n",
    "If your date format is in DatetimeIndex, it is very easy:"
   ]
  },
  {
   "cell_type": "code",
   "execution_count": 5,
   "id": "52c797c7",
   "metadata": {},
   "outputs": [
    {
     "name": "stderr",
     "output_type": "stream",
     "text": [
      "/Users/elonazharri/opt/anaconda3/lib/python3.7/site-packages/ipykernel_launcher.py:1: FutureWarning: Indexing a DataFrame with a datetimelike index using a single string to slice the rows, like `frame[string]`, is deprecated and will be removed in a future version. Use `frame.loc[string]` instead.\n",
      "  \"\"\"Entry point for launching an IPython kernel.\n"
     ]
    },
    {
     "data": {
      "text/html": [
       "<div>\n",
       "<style scoped>\n",
       "    .dataframe tbody tr th:only-of-type {\n",
       "        vertical-align: middle;\n",
       "    }\n",
       "\n",
       "    .dataframe tbody tr th {\n",
       "        vertical-align: top;\n",
       "    }\n",
       "\n",
       "    .dataframe thead th {\n",
       "        text-align: right;\n",
       "    }\n",
       "</style>\n",
       "<table border=\"1\" class=\"dataframe\">\n",
       "  <thead>\n",
       "    <tr style=\"text-align: right;\">\n",
       "      <th></th>\n",
       "      <th>Open</th>\n",
       "      <th>High</th>\n",
       "      <th>Low</th>\n",
       "      <th>Close</th>\n",
       "      <th>Adj Close</th>\n",
       "      <th>Volume</th>\n",
       "    </tr>\n",
       "    <tr>\n",
       "      <th>Date</th>\n",
       "      <th></th>\n",
       "      <th></th>\n",
       "      <th></th>\n",
       "      <th></th>\n",
       "      <th></th>\n",
       "      <th></th>\n",
       "    </tr>\n",
       "  </thead>\n",
       "  <tbody>\n",
       "    <tr>\n",
       "      <th>2019-01-02</th>\n",
       "      <td>154.889999</td>\n",
       "      <td>158.850006</td>\n",
       "      <td>154.229996</td>\n",
       "      <td>157.919998</td>\n",
       "      <td>154.794983</td>\n",
       "      <td>37039700</td>\n",
       "    </tr>\n",
       "    <tr>\n",
       "      <th>2019-01-03</th>\n",
       "      <td>143.979996</td>\n",
       "      <td>145.720001</td>\n",
       "      <td>142.000000</td>\n",
       "      <td>142.190002</td>\n",
       "      <td>139.376251</td>\n",
       "      <td>91312200</td>\n",
       "    </tr>\n",
       "    <tr>\n",
       "      <th>2019-01-04</th>\n",
       "      <td>144.529999</td>\n",
       "      <td>148.550003</td>\n",
       "      <td>143.800003</td>\n",
       "      <td>148.259995</td>\n",
       "      <td>145.326126</td>\n",
       "      <td>58607100</td>\n",
       "    </tr>\n",
       "    <tr>\n",
       "      <th>2019-01-07</th>\n",
       "      <td>148.699997</td>\n",
       "      <td>148.830002</td>\n",
       "      <td>145.899994</td>\n",
       "      <td>147.929993</td>\n",
       "      <td>145.002686</td>\n",
       "      <td>54777800</td>\n",
       "    </tr>\n",
       "    <tr>\n",
       "      <th>2019-01-08</th>\n",
       "      <td>149.559998</td>\n",
       "      <td>151.820007</td>\n",
       "      <td>148.520004</td>\n",
       "      <td>150.750000</td>\n",
       "      <td>147.766861</td>\n",
       "      <td>41025300</td>\n",
       "    </tr>\n",
       "    <tr>\n",
       "      <th>...</th>\n",
       "      <td>...</td>\n",
       "      <td>...</td>\n",
       "      <td>...</td>\n",
       "      <td>...</td>\n",
       "      <td>...</td>\n",
       "      <td>...</td>\n",
       "    </tr>\n",
       "    <tr>\n",
       "      <th>2019-12-24</th>\n",
       "      <td>284.690002</td>\n",
       "      <td>284.890015</td>\n",
       "      <td>282.920013</td>\n",
       "      <td>284.269989</td>\n",
       "      <td>282.831299</td>\n",
       "      <td>12119700</td>\n",
       "    </tr>\n",
       "    <tr>\n",
       "      <th>2019-12-26</th>\n",
       "      <td>284.820007</td>\n",
       "      <td>289.980011</td>\n",
       "      <td>284.700012</td>\n",
       "      <td>289.910004</td>\n",
       "      <td>288.442780</td>\n",
       "      <td>23280300</td>\n",
       "    </tr>\n",
       "    <tr>\n",
       "      <th>2019-12-27</th>\n",
       "      <td>291.119995</td>\n",
       "      <td>293.970001</td>\n",
       "      <td>288.119995</td>\n",
       "      <td>289.799988</td>\n",
       "      <td>288.333313</td>\n",
       "      <td>36566500</td>\n",
       "    </tr>\n",
       "    <tr>\n",
       "      <th>2019-12-30</th>\n",
       "      <td>289.459991</td>\n",
       "      <td>292.690002</td>\n",
       "      <td>285.220001</td>\n",
       "      <td>291.519989</td>\n",
       "      <td>290.044617</td>\n",
       "      <td>36028600</td>\n",
       "    </tr>\n",
       "    <tr>\n",
       "      <th>2019-12-31</th>\n",
       "      <td>289.929993</td>\n",
       "      <td>293.679993</td>\n",
       "      <td>289.519989</td>\n",
       "      <td>293.649994</td>\n",
       "      <td>292.163818</td>\n",
       "      <td>25201400</td>\n",
       "    </tr>\n",
       "  </tbody>\n",
       "</table>\n",
       "<p>252 rows × 6 columns</p>\n",
       "</div>"
      ],
      "text/plain": [
       "                  Open        High         Low       Close   Adj Close  \\\n",
       "Date                                                                     \n",
       "2019-01-02  154.889999  158.850006  154.229996  157.919998  154.794983   \n",
       "2019-01-03  143.979996  145.720001  142.000000  142.190002  139.376251   \n",
       "2019-01-04  144.529999  148.550003  143.800003  148.259995  145.326126   \n",
       "2019-01-07  148.699997  148.830002  145.899994  147.929993  145.002686   \n",
       "2019-01-08  149.559998  151.820007  148.520004  150.750000  147.766861   \n",
       "...                ...         ...         ...         ...         ...   \n",
       "2019-12-24  284.690002  284.890015  282.920013  284.269989  282.831299   \n",
       "2019-12-26  284.820007  289.980011  284.700012  289.910004  288.442780   \n",
       "2019-12-27  291.119995  293.970001  288.119995  289.799988  288.333313   \n",
       "2019-12-30  289.459991  292.690002  285.220001  291.519989  290.044617   \n",
       "2019-12-31  289.929993  293.679993  289.519989  293.649994  292.163818   \n",
       "\n",
       "              Volume  \n",
       "Date                  \n",
       "2019-01-02  37039700  \n",
       "2019-01-03  91312200  \n",
       "2019-01-04  58607100  \n",
       "2019-01-07  54777800  \n",
       "2019-01-08  41025300  \n",
       "...              ...  \n",
       "2019-12-24  12119700  \n",
       "2019-12-26  23280300  \n",
       "2019-12-27  36566500  \n",
       "2019-12-30  36028600  \n",
       "2019-12-31  25201400  \n",
       "\n",
       "[252 rows x 6 columns]"
      ]
     },
     "execution_count": 5,
     "metadata": {},
     "output_type": "execute_result"
    }
   ],
   "source": [
    "apple['2019']"
   ]
  },
  {
   "cell_type": "code",
   "execution_count": 6,
   "id": "5fb46407",
   "metadata": {},
   "outputs": [
    {
     "data": {
      "text/plain": [
       "Open         2.894600e+02\n",
       "High         2.926900e+02\n",
       "Low          2.852200e+02\n",
       "Close        2.915200e+02\n",
       "Adj Close    2.900446e+02\n",
       "Volume       3.602860e+07\n",
       "Name: 2019-12-30 00:00:00, dtype: float64"
      ]
     },
     "execution_count": 6,
     "metadata": {},
     "output_type": "execute_result"
    }
   ],
   "source": [
    "# Or we can get the data for a single day\n",
    "apple.loc['2019-12-30']"
   ]
  },
  {
   "cell_type": "code",
   "execution_count": 7,
   "id": "f7919744",
   "metadata": {},
   "outputs": [
    {
     "data": {
      "text/plain": [
       "Open         0\n",
       "High         0\n",
       "Low          0\n",
       "Close        0\n",
       "Adj Close    0\n",
       "Volume       0\n",
       "dtype: int64"
      ]
     },
     "execution_count": 7,
     "metadata": {},
     "output_type": "execute_result"
    }
   ],
   "source": [
    "# Check if there is any missing data\n",
    "apple.isna().sum()"
   ]
  },
  {
   "cell_type": "code",
   "execution_count": 8,
   "id": "67efed0e",
   "metadata": {},
   "outputs": [],
   "source": [
    "# dropping Close column, as we will use the Adjusted Close column for our model\n",
    "apple = apple.drop('Close', axis=1)"
   ]
  },
  {
   "cell_type": "code",
   "execution_count": 9,
   "id": "a9008f90",
   "metadata": {},
   "outputs": [],
   "source": [
    "apple = apple.rename(columns={\"Adj Close\": \"Close\"})"
   ]
  },
  {
   "cell_type": "code",
   "execution_count": 10,
   "id": "5acbbe32",
   "metadata": {},
   "outputs": [
    {
     "data": {
      "text/html": [
       "<div>\n",
       "<style scoped>\n",
       "    .dataframe tbody tr th:only-of-type {\n",
       "        vertical-align: middle;\n",
       "    }\n",
       "\n",
       "    .dataframe tbody tr th {\n",
       "        vertical-align: top;\n",
       "    }\n",
       "\n",
       "    .dataframe thead th {\n",
       "        text-align: right;\n",
       "    }\n",
       "</style>\n",
       "<table border=\"1\" class=\"dataframe\">\n",
       "  <thead>\n",
       "    <tr style=\"text-align: right;\">\n",
       "      <th></th>\n",
       "      <th>Open</th>\n",
       "      <th>High</th>\n",
       "      <th>Low</th>\n",
       "      <th>Close</th>\n",
       "      <th>Volume</th>\n",
       "    </tr>\n",
       "    <tr>\n",
       "      <th>Date</th>\n",
       "      <th></th>\n",
       "      <th></th>\n",
       "      <th></th>\n",
       "      <th></th>\n",
       "      <th></th>\n",
       "    </tr>\n",
       "  </thead>\n",
       "  <tbody>\n",
       "    <tr>\n",
       "      <th>1996-01-02</th>\n",
       "      <td>1.151786</td>\n",
       "      <td>1.151786</td>\n",
       "      <td>1.133929</td>\n",
       "      <td>0.993233</td>\n",
       "      <td>34823600</td>\n",
       "    </tr>\n",
       "    <tr>\n",
       "      <th>1996-01-03</th>\n",
       "      <td>1.142857</td>\n",
       "      <td>1.174107</td>\n",
       "      <td>1.138393</td>\n",
       "      <td>0.993233</td>\n",
       "      <td>107458400</td>\n",
       "    </tr>\n",
       "    <tr>\n",
       "      <th>1996-01-04</th>\n",
       "      <td>1.156250</td>\n",
       "      <td>1.156250</td>\n",
       "      <td>1.120536</td>\n",
       "      <td>0.975842</td>\n",
       "      <td>75045600</td>\n",
       "    </tr>\n",
       "    <tr>\n",
       "      <th>1996-01-05</th>\n",
       "      <td>1.129464</td>\n",
       "      <td>1.223214</td>\n",
       "      <td>1.120536</td>\n",
       "      <td>1.058933</td>\n",
       "      <td>111482000</td>\n",
       "    </tr>\n",
       "    <tr>\n",
       "      <th>1996-01-08</th>\n",
       "      <td>1.232143</td>\n",
       "      <td>1.267857</td>\n",
       "      <td>1.214286</td>\n",
       "      <td>1.070527</td>\n",
       "      <td>30335200</td>\n",
       "    </tr>\n",
       "    <tr>\n",
       "      <th>...</th>\n",
       "      <td>...</td>\n",
       "      <td>...</td>\n",
       "      <td>...</td>\n",
       "      <td>...</td>\n",
       "      <td>...</td>\n",
       "    </tr>\n",
       "    <tr>\n",
       "      <th>2020-07-31</th>\n",
       "      <td>411.540009</td>\n",
       "      <td>425.660004</td>\n",
       "      <td>403.299988</td>\n",
       "      <td>425.040009</td>\n",
       "      <td>93584200</td>\n",
       "    </tr>\n",
       "    <tr>\n",
       "      <th>2020-08-03</th>\n",
       "      <td>432.799988</td>\n",
       "      <td>446.549988</td>\n",
       "      <td>431.570007</td>\n",
       "      <td>435.750000</td>\n",
       "      <td>77037800</td>\n",
       "    </tr>\n",
       "    <tr>\n",
       "      <th>2020-08-04</th>\n",
       "      <td>436.529999</td>\n",
       "      <td>443.160004</td>\n",
       "      <td>433.549988</td>\n",
       "      <td>438.660004</td>\n",
       "      <td>43267900</td>\n",
       "    </tr>\n",
       "    <tr>\n",
       "      <th>2020-08-05</th>\n",
       "      <td>437.510010</td>\n",
       "      <td>441.570007</td>\n",
       "      <td>435.589996</td>\n",
       "      <td>440.250000</td>\n",
       "      <td>30498000</td>\n",
       "    </tr>\n",
       "    <tr>\n",
       "      <th>2020-08-06</th>\n",
       "      <td>441.619995</td>\n",
       "      <td>457.649994</td>\n",
       "      <td>439.190002</td>\n",
       "      <td>455.609985</td>\n",
       "      <td>50490000</td>\n",
       "    </tr>\n",
       "  </tbody>\n",
       "</table>\n",
       "<p>6193 rows × 5 columns</p>\n",
       "</div>"
      ],
      "text/plain": [
       "                  Open        High         Low       Close     Volume\n",
       "Date                                                                 \n",
       "1996-01-02    1.151786    1.151786    1.133929    0.993233   34823600\n",
       "1996-01-03    1.142857    1.174107    1.138393    0.993233  107458400\n",
       "1996-01-04    1.156250    1.156250    1.120536    0.975842   75045600\n",
       "1996-01-05    1.129464    1.223214    1.120536    1.058933  111482000\n",
       "1996-01-08    1.232143    1.267857    1.214286    1.070527   30335200\n",
       "...                ...         ...         ...         ...        ...\n",
       "2020-07-31  411.540009  425.660004  403.299988  425.040009   93584200\n",
       "2020-08-03  432.799988  446.549988  431.570007  435.750000   77037800\n",
       "2020-08-04  436.529999  443.160004  433.549988  438.660004   43267900\n",
       "2020-08-05  437.510010  441.570007  435.589996  440.250000   30498000\n",
       "2020-08-06  441.619995  457.649994  439.190002  455.609985   50490000\n",
       "\n",
       "[6193 rows x 5 columns]"
      ]
     },
     "execution_count": 10,
     "metadata": {},
     "output_type": "execute_result"
    }
   ],
   "source": [
    "apple"
   ]
  },
  {
   "cell_type": "code",
   "execution_count": 11,
   "id": "9d2ed084",
   "metadata": {},
   "outputs": [
    {
     "data": {
      "text/html": [
       "<div>\n",
       "<style scoped>\n",
       "    .dataframe tbody tr th:only-of-type {\n",
       "        vertical-align: middle;\n",
       "    }\n",
       "\n",
       "    .dataframe tbody tr th {\n",
       "        vertical-align: top;\n",
       "    }\n",
       "\n",
       "    .dataframe thead th {\n",
       "        text-align: right;\n",
       "    }\n",
       "</style>\n",
       "<table border=\"1\" class=\"dataframe\">\n",
       "  <thead>\n",
       "    <tr style=\"text-align: right;\">\n",
       "      <th></th>\n",
       "      <th>Open</th>\n",
       "      <th>High</th>\n",
       "      <th>Low</th>\n",
       "      <th>Close</th>\n",
       "      <th>Volume</th>\n",
       "    </tr>\n",
       "  </thead>\n",
       "  <tbody>\n",
       "    <tr>\n",
       "      <th>Open</th>\n",
       "      <td>1.000000</td>\n",
       "      <td>0.999920</td>\n",
       "      <td>0.999916</td>\n",
       "      <td>0.998900</td>\n",
       "      <td>-0.359337</td>\n",
       "    </tr>\n",
       "    <tr>\n",
       "      <th>High</th>\n",
       "      <td>0.999920</td>\n",
       "      <td>1.000000</td>\n",
       "      <td>0.999868</td>\n",
       "      <td>0.999056</td>\n",
       "      <td>-0.357955</td>\n",
       "    </tr>\n",
       "    <tr>\n",
       "      <th>Low</th>\n",
       "      <td>0.999916</td>\n",
       "      <td>0.999868</td>\n",
       "      <td>1.000000</td>\n",
       "      <td>0.998961</td>\n",
       "      <td>-0.361110</td>\n",
       "    </tr>\n",
       "    <tr>\n",
       "      <th>Close</th>\n",
       "      <td>0.998900</td>\n",
       "      <td>0.999056</td>\n",
       "      <td>0.998961</td>\n",
       "      <td>1.000000</td>\n",
       "      <td>-0.360740</td>\n",
       "    </tr>\n",
       "    <tr>\n",
       "      <th>Volume</th>\n",
       "      <td>-0.359337</td>\n",
       "      <td>-0.357955</td>\n",
       "      <td>-0.361110</td>\n",
       "      <td>-0.360740</td>\n",
       "      <td>1.000000</td>\n",
       "    </tr>\n",
       "  </tbody>\n",
       "</table>\n",
       "</div>"
      ],
      "text/plain": [
       "            Open      High       Low     Close    Volume\n",
       "Open    1.000000  0.999920  0.999916  0.998900 -0.359337\n",
       "High    0.999920  1.000000  0.999868  0.999056 -0.357955\n",
       "Low     0.999916  0.999868  1.000000  0.998961 -0.361110\n",
       "Close   0.998900  0.999056  0.998961  1.000000 -0.360740\n",
       "Volume -0.359337 -0.357955 -0.361110 -0.360740  1.000000"
      ]
     },
     "execution_count": 11,
     "metadata": {},
     "output_type": "execute_result"
    }
   ],
   "source": [
    "# Call the .corr() method on the apple dataset to view the relationships among the features of the dataset\n",
    "apple.corr()"
   ]
  },
  {
   "cell_type": "markdown",
   "id": "754ecbba",
   "metadata": {},
   "source": [
    "# How to Check Stationarity of our TS data?"
   ]
  },
  {
   "cell_type": "markdown",
   "id": "17793a30",
   "metadata": {},
   "source": [
    "We can check stationarity using the following:\n",
    "- Plotting Rolling Statistics: We can plot the moving average or moving variance and see if it varies with time. By moving average/variance I mean that at any instant ‘t’, we’ll take the average/variance of the last year, i.e. last 12 months.\n",
    "\n",
    "- Dickey-Fuller Test: This is one of the statistical tests for checking stationarity. Here the null hypothesis is that the TS is non-stationary. The test results comprise of a Test Statistic and some Critical Values for difference confidence levels. If the ‘Test Statistic’ is less than the ‘Critical Value’, we can reject the null hypothesis and say that the series is stationary."
   ]
  },
  {
   "cell_type": "markdown",
   "id": "0f1499bc",
   "metadata": {},
   "source": [
    "## Plotting Rolling Statistics:"
   ]
  },
  {
   "cell_type": "code",
   "execution_count": 12,
   "id": "96afc793",
   "metadata": {},
   "outputs": [
    {
     "name": "stdout",
     "output_type": "stream",
     "text": [
      "Date\n",
      "1996-01-02           NaN\n",
      "1996-01-03           NaN\n",
      "1996-01-04           NaN\n",
      "1996-01-05           NaN\n",
      "1996-01-08           NaN\n",
      "                 ...    \n",
      "2020-07-31    385.497500\n",
      "2020-08-03    389.635834\n",
      "2020-08-04    394.081668\n",
      "2020-08-05    397.983335\n",
      "2020-08-06    403.617500\n",
      "Name: Close, Length: 6193, dtype: float64 Date\n",
      "1996-01-02          NaN\n",
      "1996-01-03          NaN\n",
      "1996-01-04          NaN\n",
      "1996-01-05          NaN\n",
      "1996-01-08          NaN\n",
      "                ...    \n",
      "2020-07-31    14.446283\n",
      "2020-08-03    20.483029\n",
      "2020-08-04    24.794740\n",
      "2020-08-05    28.140854\n",
      "2020-08-06    32.405418\n",
      "Name: Close, Length: 6193, dtype: float64\n"
     ]
    }
   ],
   "source": [
    "rolmean = apple['Close'].rolling(window=12).mean()\n",
    "rolstd = apple['Close'].rolling(window=12).std()\n",
    "print(rolmean, rolstd)"
   ]
  },
  {
   "cell_type": "code",
   "execution_count": 13,
   "id": "9a13a975",
   "metadata": {},
   "outputs": [
    {
     "data": {
      "image/png": "[encoded data removed]",
      "text/plain": [
       "<Figure size 432x288 with 1 Axes>"
      ]
     },
     "metadata": {
      "needs_background": "light"
     },
     "output_type": "display_data"
    }
   ],
   "source": [
    "orig = plt.plot(apple['Close'], color='black', label='Original')\n",
    "mean = plt.plot(rolmean, color='red', label='Mean')\n",
    "std = plt.plot(rolstd, color='blue', label='Std')\n",
    "plt.legend(loc='best')\n",
    "plt.title = (\"Rolling mean and STD\")\n",
    "plt.show(block=False)"
   ]
  },
  {
   "cell_type": "markdown",
   "id": "8474bf35",
   "metadata": {},
   "source": [
    "## Dickey-Fuller Test:"
   ]
  },
  {
   "cell_type": "code",
   "execution_count": 14,
   "id": "f0387dda",
   "metadata": {},
   "outputs": [
    {
     "name": "stdout",
     "output_type": "stream",
     "text": [
      "Results of Dickey-Fuller Test:\n",
      "Test Statistic                    5.150154\n",
      "p-value                           1.000000\n",
      "#Lags Used                       34.000000\n",
      "Number of Observations Used    6158.000000\n",
      "Critical Value (1%)              -3.431412\n",
      "Critical Value (5%)              -2.862009\n",
      "Critical Value (10%)             -2.567020\n",
      "dtype: float64\n"
     ]
    }
   ],
   "source": [
    "# checking the stationarity of the data by using adfuller test\n",
    "from statsmodels.tsa.stattools import adfuller\n",
    "def test_stationarity(timeseries):\n",
    "    #Perform Dickey-Fuller test:\n",
    "    print('Results of Dickey-Fuller Test:')\n",
    "    dftest = adfuller(timeseries, autolag='AIC')\n",
    "    dfoutput = pd.Series(dftest[0:4], index=['Test Statistic','p-value','#Lags Used','Number of Observations Used'])\n",
    "    for key,value in dftest[4].items():\n",
    "        dfoutput['Critical Value (%s)'%key] = value\n",
    "    print(dfoutput)\n",
    "    \n",
    "test_stationarity(apple['Close'])"
   ]
  },
  {
   "cell_type": "markdown",
   "id": "41c623e9",
   "metadata": {},
   "source": [
    "Null hypothesis in ADF test is that Data is not stationary. \n",
    "- if Test Statistic < Critical Values => Rejects the null hypothesis.\n",
    "- if Test Statistic >Critical Values => failed to reject the null hypothesis."
   ]
  },
  {
   "cell_type": "markdown",
   "id": "c7f0812d",
   "metadata": {},
   "source": [
    "From the results of Dickey-Fuller Test, the p-value is not less than 5%, so we can not reject the null hypothesis that the series is a random walk.\n",
    "As we know that a random walk is a non-stationary series, our next step is to make the series stationary."
   ]
  },
  {
   "cell_type": "markdown",
   "id": "4ecf6edd",
   "metadata": {},
   "source": [
    "# Estimating & Eliminating Trend"
   ]
  },
  {
   "cell_type": "markdown",
   "id": "fed99051",
   "metadata": {},
   "source": [
    "One of the first tricks to reduce trend can be transformation. For example, in this case we can clearly see that the there is an exponential growth and significant positive trend. So we can apply transformation which penalize higher values more than smaller values. These can be taking a log, square root, cube root, etc. \n",
    "We can first take the differences and than take a log transform to bring the data close to stationarity."
   ]
  },
  {
   "cell_type": "code",
   "execution_count": 15,
   "id": "79548d9e",
   "metadata": {},
   "outputs": [
    {
     "data": {
      "image/png": "[encoded data removed]",
      "text/plain": [
       "<Figure size 432x288 with 2 Axes>"
      ]
     },
     "metadata": {
      "needs_background": "light"
     },
     "output_type": "display_data"
    }
   ],
   "source": [
    "# Calculating and visualizing the difference\n",
    "fig, (ax1, ax2) = plt.subplots(1, 2)\n",
    "fig.suptitle('Non-Stationary into Stationary')\n",
    "# apple data as a non-stationary random walk\n",
    "ax1.plot(apple['Close'])\n",
    "# by computing the first differences, it becomes a stationary white noise process\n",
    "ax2.plot(apple['Close'].diff().diff())\n",
    "plt.show()"
   ]
  },
  {
   "cell_type": "markdown",
   "id": "84e4c41b",
   "metadata": {},
   "source": [
    "So we can use some techniques to estimate or model this trend and then remove it from the series. There can be many ways of doing it and some of most commonly used are:\n",
    "\n",
    "- Aggregation – taking average for a time period like monthly/weekly averages\n",
    "- Smoothing – taking rolling averages\n",
    "- Polynomial Fitting – fit a regression model"
   ]
  },
  {
   "cell_type": "code",
   "execution_count": 16,
   "id": "4acdb96e",
   "metadata": {},
   "outputs": [
    {
     "data": {
      "image/png": "[encoded data removed]",
      "text/plain": [
       "<Figure size 432x288 with 1 Axes>"
      ]
     },
     "metadata": {
      "needs_background": "light"
     },
     "output_type": "display_data"
    },
    {
     "name": "stdout",
     "output_type": "stream",
     "text": [
      "Results of Dicky-Fuller Test:\n",
      "Test Statistic                    0.070866\n",
      "p-value                           0.964015\n",
      "#Lags Used                       22.000000\n",
      "Number of Observations Used    6170.000000\n",
      "Critical Value(1%                -3.431410\n",
      "Critical Value(5%                -2.862009\n",
      "Critical Value(10%               -2.567019\n",
      "dtype: float64\n"
     ]
    }
   ],
   "source": [
    "# Taking the log\n",
    "appleLogScale = np.log(apple['Close'])\n",
    "\n",
    "# Smoothing the data\n",
    "# Here we can take the average over the past 1 year, i.e. last 12 values.\n",
    "moving_avg = appleLogScale.rolling(window = 12).mean()\n",
    "movingSTD = appleLogScale.rolling(window=12).std()\n",
    "orig = plt.plot(appleLogScale , color='black', label='Original')\n",
    "mean = plt.plot(moving_avg, color='red', label='Mean')\n",
    "std = plt.plot(movingSTD, color='blue', label='Std')\n",
    "plt.legend(loc='best')\n",
    "plt.title = (\"Rolling mean and STD\")\n",
    "plt.show(block=False)\n",
    "\n",
    "\n",
    "from statsmodels.tsa.stattools import adfuller\n",
    "\n",
    "print(\"Results of Dicky-Fuller Test:\")\n",
    "dftest = adfuller(appleLogScale, autolag='AIC')\n",
    "\n",
    "dfoutput = pd.Series(dftest[0:4], index=['Test Statistic', 'p-value', '#Lags Used', 'Number of Observations Used'])\n",
    "for key,value in dftest[4].items():\n",
    "    dfoutput['Critical Value(%s' %key] = value\n",
    "    \n",
    "print(dfoutput)"
   ]
  },
  {
   "cell_type": "markdown",
   "id": "cb325ae9",
   "metadata": {},
   "source": [
    "By taking only the log of the series we simply eliminate the exponatial growth. Applying the difference and the log at the same time, the transformed series looks stationary."
   ]
  },
  {
   "cell_type": "code",
   "execution_count": 17,
   "id": "45e33942",
   "metadata": {},
   "outputs": [],
   "source": [
    "appleLogScaleMinusMA = appleLogScale - moving_avg\n",
    "appleLogScaleMinusMA.dropna(inplace=True)"
   ]
  },
  {
   "cell_type": "code",
   "execution_count": 18,
   "id": "446a22f7",
   "metadata": {},
   "outputs": [
    {
     "data": {
      "text/plain": [
       "Date\n",
       "1996-01-17    0.012254\n",
       "1996-01-18   -0.049838\n",
       "1996-01-19   -0.110546\n",
       "1996-01-22   -0.086987\n",
       "1996-01-23   -0.044121\n",
       "1996-01-24   -0.018629\n",
       "1996-01-25   -0.076034\n",
       "1996-01-26   -0.054392\n",
       "1996-01-29   -0.089298\n",
       "1996-01-30   -0.135607\n",
       "1996-01-31   -0.106621\n",
       "1996-02-01   -0.063395\n",
       "Name: Close, dtype: float64"
      ]
     },
     "execution_count": 18,
     "metadata": {},
     "output_type": "execute_result"
    }
   ],
   "source": [
    "appleLogScaleMinusMA.head(12)"
   ]
  },
  {
   "cell_type": "code",
   "execution_count": 19,
   "id": "8f457c0e",
   "metadata": {},
   "outputs": [
    {
     "data": {
      "image/png": "[encoded data removed]",
      "text/plain": [
       "<Figure size 432x288 with 1 Axes>"
      ]
     },
     "metadata": {
      "needs_background": "light"
     },
     "output_type": "display_data"
    }
   ],
   "source": [
    "plt.plot(appleLogScaleMinusMA)\n",
    "plt.show()"
   ]
  },
  {
   "cell_type": "code",
   "execution_count": 20,
   "id": "510a7268",
   "metadata": {},
   "outputs": [
    {
     "name": "stdout",
     "output_type": "stream",
     "text": [
      "Results of Dickey-Fuller Test:\n",
      "Test Statistic                -1.614457e+01\n",
      "p-value                        4.637799e-29\n",
      "#Lags Used                     1.700000e+01\n",
      "Number of Observations Used    6.164000e+03\n",
      "Critical Value (1%)           -3.431411e+00\n",
      "Critical Value (5%)           -2.862009e+00\n",
      "Critical Value (10%)          -2.567020e+00\n",
      "dtype: float64\n"
     ]
    }
   ],
   "source": [
    "test_stationarity(appleLogScaleMinusMA)"
   ]
  },
  {
   "cell_type": "markdown",
   "id": "686b6ff2",
   "metadata": {},
   "source": [
    "This looks like a much better series.\n",
    "However, a drawback in this particular approach is that the time-period has to be strictly defined. In this case we can take yearly averages but in complex situations like forecasting a stock price, its difficult to come up with a number. So we take a ‘weighted moving average’ where more recent values are given a higher weight. There can be many technique for assigning weights. A popular one is exponentially weighted moving average where weights are assigned to all the previous values with a decay factor."
   ]
  },
  {
   "cell_type": "code",
   "execution_count": 21,
   "id": "24e03be0",
   "metadata": {},
   "outputs": [
    {
     "data": {
      "text/plain": [
       "[<matplotlib.lines.Line2D at 0x7fc6842a5190>]"
      ]
     },
     "execution_count": 21,
     "metadata": {},
     "output_type": "execute_result"
    },
    {
     "data": {
      "image/png": "[encoded data removed]",
      "text/plain": [
       "<Figure size 432x288 with 1 Axes>"
      ]
     },
     "metadata": {
      "needs_background": "light"
     },
     "output_type": "display_data"
    }
   ],
   "source": [
    "exponentialWeightedAVG = appleLogScale.ewm(halflife=12, min_periods=0, adjust=True).mean()\n",
    "plt.plot(exponentialWeightedAVG,  color='red')\n",
    "plt.plot(appleLogScale)"
   ]
  },
  {
   "cell_type": "code",
   "execution_count": 22,
   "id": "64ee07f0",
   "metadata": {},
   "outputs": [
    {
     "name": "stdout",
     "output_type": "stream",
     "text": [
      "Results of Dickey-Fuller Test:\n",
      "Test Statistic                -9.936328e+00\n",
      "p-value                        2.737526e-17\n",
      "#Lags Used                     2.200000e+01\n",
      "Number of Observations Used    6.170000e+03\n",
      "Critical Value (1%)           -3.431410e+00\n",
      "Critical Value (5%)           -2.862009e+00\n",
      "Critical Value (10%)          -2.567019e+00\n",
      "dtype: float64\n"
     ]
    }
   ],
   "source": [
    "# Save it on the dataframe \n",
    "appleLogScaleMinusMovingEWA = appleLogScale - exponentialWeightedAVG\n",
    "test_stationarity(appleLogScaleMinusMovingEWA)"
   ]
  },
  {
   "cell_type": "code",
   "execution_count": 23,
   "id": "2159eee6",
   "metadata": {},
   "outputs": [],
   "source": [
    "apple['Close']=appleLogScaleMinusMovingEWA"
   ]
  },
  {
   "cell_type": "code",
   "execution_count": 24,
   "id": "3c2f035c",
   "metadata": {},
   "outputs": [
    {
     "data": {
      "text/html": [
       "<div>\n",
       "<style scoped>\n",
       "    .dataframe tbody tr th:only-of-type {\n",
       "        vertical-align: middle;\n",
       "    }\n",
       "\n",
       "    .dataframe tbody tr th {\n",
       "        vertical-align: top;\n",
       "    }\n",
       "\n",
       "    .dataframe thead th {\n",
       "        text-align: right;\n",
       "    }\n",
       "</style>\n",
       "<table border=\"1\" class=\"dataframe\">\n",
       "  <thead>\n",
       "    <tr style=\"text-align: right;\">\n",
       "      <th></th>\n",
       "      <th>Open</th>\n",
       "      <th>High</th>\n",
       "      <th>Low</th>\n",
       "      <th>Close</th>\n",
       "      <th>Volume</th>\n",
       "    </tr>\n",
       "    <tr>\n",
       "      <th>Date</th>\n",
       "      <th></th>\n",
       "      <th></th>\n",
       "      <th></th>\n",
       "      <th></th>\n",
       "      <th></th>\n",
       "    </tr>\n",
       "  </thead>\n",
       "  <tbody>\n",
       "    <tr>\n",
       "      <th>1996-01-02</th>\n",
       "      <td>1.151786</td>\n",
       "      <td>1.151786</td>\n",
       "      <td>1.133929</td>\n",
       "      <td>0.000000</td>\n",
       "      <td>34823600</td>\n",
       "    </tr>\n",
       "    <tr>\n",
       "      <th>1996-01-03</th>\n",
       "      <td>1.142857</td>\n",
       "      <td>1.174107</td>\n",
       "      <td>1.138393</td>\n",
       "      <td>0.000000</td>\n",
       "      <td>107458400</td>\n",
       "    </tr>\n",
       "    <tr>\n",
       "      <th>1996-01-04</th>\n",
       "      <td>1.156250</td>\n",
       "      <td>1.156250</td>\n",
       "      <td>1.120536</td>\n",
       "      <td>-0.011433</td>\n",
       "      <td>75045600</td>\n",
       "    </tr>\n",
       "    <tr>\n",
       "      <th>1996-01-05</th>\n",
       "      <td>1.129464</td>\n",
       "      <td>1.223214</td>\n",
       "      <td>1.120536</td>\n",
       "      <td>0.051162</td>\n",
       "      <td>111482000</td>\n",
       "    </tr>\n",
       "    <tr>\n",
       "      <th>1996-01-08</th>\n",
       "      <td>1.232143</td>\n",
       "      <td>1.267857</td>\n",
       "      <td>1.214286</td>\n",
       "      <td>0.048168</td>\n",
       "      <td>30335200</td>\n",
       "    </tr>\n",
       "    <tr>\n",
       "      <th>...</th>\n",
       "      <td>...</td>\n",
       "      <td>...</td>\n",
       "      <td>...</td>\n",
       "      <td>...</td>\n",
       "      <td>...</td>\n",
       "    </tr>\n",
       "    <tr>\n",
       "      <th>2020-07-31</th>\n",
       "      <td>411.540009</td>\n",
       "      <td>425.660004</td>\n",
       "      <td>403.299988</td>\n",
       "      <td>0.139794</td>\n",
       "      <td>93584200</td>\n",
       "    </tr>\n",
       "    <tr>\n",
       "      <th>2020-08-03</th>\n",
       "      <td>432.799988</td>\n",
       "      <td>446.549988</td>\n",
       "      <td>431.570007</td>\n",
       "      <td>0.155437</td>\n",
       "      <td>77037800</td>\n",
       "    </tr>\n",
       "    <tr>\n",
       "      <th>2020-08-04</th>\n",
       "      <td>436.529999</td>\n",
       "      <td>443.160004</td>\n",
       "      <td>433.549988</td>\n",
       "      <td>0.152995</td>\n",
       "      <td>43267900</td>\n",
       "    </tr>\n",
       "    <tr>\n",
       "      <th>2020-08-05</th>\n",
       "      <td>437.510010</td>\n",
       "      <td>441.570007</td>\n",
       "      <td>435.589996</td>\n",
       "      <td>0.147823</td>\n",
       "      <td>30498000</td>\n",
       "    </tr>\n",
       "    <tr>\n",
       "      <th>2020-08-06</th>\n",
       "      <td>441.619995</td>\n",
       "      <td>457.649994</td>\n",
       "      <td>439.190002</td>\n",
       "      <td>0.171896</td>\n",
       "      <td>50490000</td>\n",
       "    </tr>\n",
       "  </tbody>\n",
       "</table>\n",
       "<p>6193 rows × 5 columns</p>\n",
       "</div>"
      ],
      "text/plain": [
       "                  Open        High         Low     Close     Volume\n",
       "Date                                                               \n",
       "1996-01-02    1.151786    1.151786    1.133929  0.000000   34823600\n",
       "1996-01-03    1.142857    1.174107    1.138393  0.000000  107458400\n",
       "1996-01-04    1.156250    1.156250    1.120536 -0.011433   75045600\n",
       "1996-01-05    1.129464    1.223214    1.120536  0.051162  111482000\n",
       "1996-01-08    1.232143    1.267857    1.214286  0.048168   30335200\n",
       "...                ...         ...         ...       ...        ...\n",
       "2020-07-31  411.540009  425.660004  403.299988  0.139794   93584200\n",
       "2020-08-03  432.799988  446.549988  431.570007  0.155437   77037800\n",
       "2020-08-04  436.529999  443.160004  433.549988  0.152995   43267900\n",
       "2020-08-05  437.510010  441.570007  435.589996  0.147823   30498000\n",
       "2020-08-06  441.619995  457.649994  439.190002  0.171896   50490000\n",
       "\n",
       "[6193 rows x 5 columns]"
      ]
     },
     "execution_count": 24,
     "metadata": {},
     "output_type": "execute_result"
    }
   ],
   "source": [
    "#appleLogScaleMinusMovingEWA.head()\n",
    "apple"
   ]
  },
  {
   "cell_type": "markdown",
   "id": "c368612f",
   "metadata": {},
   "source": [
    "# Plotting ACF and PACF"
   ]
  },
  {
   "cell_type": "markdown",
   "id": "57a0e0a7",
   "metadata": {},
   "source": [
    "The next step is to determine the tuning parameters of the model by looking at the autocorrelation and partial autocorrelation graphs."
   ]
  },
  {
   "cell_type": "code",
   "execution_count": 25,
   "id": "5d90a075",
   "metadata": {},
   "outputs": [
    {
     "data": {
      "image/png": "[encoded data removed]",
      "text/plain": [
       "<Figure size 432x288 with 1 Axes>"
      ]
     },
     "execution_count": 25,
     "metadata": {},
     "output_type": "execute_result"
    },
    {
     "data": {
      "image/png": "[encoded data removed]",
      "text/plain": [
       "<Figure size 432x288 with 1 Axes>"
      ]
     },
     "metadata": {
      "needs_background": "light"
     },
     "output_type": "display_data"
    }
   ],
   "source": [
    "from statsmodels.graphics.tsaplots import plot_pacf, plot_acf\n",
    "plot_acf(apple['Close'])"
   ]
  },
  {
   "cell_type": "code",
   "execution_count": 26,
   "id": "56b3f7bc",
   "metadata": {},
   "outputs": [
    {
     "data": {
      "image/png": "[encoded data removed]",
      "text/plain": [
       "<Figure size 432x288 with 1 Axes>"
      ]
     },
     "execution_count": 26,
     "metadata": {},
     "output_type": "execute_result"
    },
    {
     "data": {
      "image/png": "[encoded data removed]",
      "text/plain": [
       "<Figure size 432x288 with 1 Axes>"
      ]
     },
     "metadata": {
      "needs_background": "light"
     },
     "output_type": "display_data"
    }
   ],
   "source": [
    "plot_pacf(apple['Close'])"
   ]
  },
  {
   "cell_type": "markdown",
   "id": "9f22e763",
   "metadata": {},
   "source": [
    "# Feature engineering"
   ]
  },
  {
   "cell_type": "markdown",
   "id": "41490a26",
   "metadata": {},
   "source": [
    "## Moving Average Cross Strategy"
   ]
  },
  {
   "cell_type": "code",
   "execution_count": 27,
   "id": "373a1852",
   "metadata": {},
   "outputs": [],
   "source": [
    "import datetime\n",
    "from tabulate import tabulate\n",
    "import warnings\n",
    "warnings.filterwarnings('ignore')\n",
    "\n",
    "def MovingAverage(df, start_date = '1996-01-02', end_date = '2020-08-06', \n",
    "                               short_window = 20, long_window = 50, moving_avg = 'SMA'):\n",
    "    '''\n",
    "    The function takes the dataset, time-duration of analysis, \n",
    "    look-back periods and the moving-average type(SMA or EMA) as input \n",
    "    and returns the respective MA Crossover chart along with the buy/sell signals for the given period.\n",
    "    '''\n",
    "    \n",
    "    # start_date - (str)start analysis from this date (format: 'YYYY-MM-DD') Eg: '2018-01-01'\n",
    "    # end_date - (str)end analysis on this date (format: 'YYYY-MM-DD') Eg: '2020-01-01'\n",
    "    # short_window - (int)lookback period for short-term moving average. Eg: 5, 10, 20 \n",
    "    # long_window - (int)lookback period for long-term moving average. Eg: 50, 100, 200\n",
    "    # moving_avg - (str)the type of moving average to use ('SMA' or 'EMA')\n",
    "    # display_table - (bool)whether to display the date and price table at buy/sell positions(True/False)\n",
    "    \n",
    "    \n",
    "    #df['Close'] = df.loc[start_date:end_date,'Close'] # assign new colun name\n",
    "    df.dropna(axis = 0, inplace = True) # remove any null rows \n",
    "    \n",
    "    # column names for long and short moving average columns\n",
    "    short_window_col = str(short_window) + '_' + moving_avg\n",
    "    long_window_col = str(long_window) + '_' + moving_avg  \n",
    "  \n",
    "    if moving_avg == 'SMA':\n",
    "        # Create a short simple moving average column\n",
    "        df[short_window_col] = df['Close'].rolling(window = short_window, min_periods = 1).mean()\n",
    "\n",
    "        # Create a long simple moving average column\n",
    "        df[long_window_col] = df['Close'].rolling(window = long_window, min_periods = 1).mean()\n",
    "\n",
    "    elif moving_avg == 'EMA':\n",
    "        # Create short exponential moving average column\n",
    "        df[short_window_col] = df['Close'].ewm(span = short_window, adjust = False).mean()\n",
    "\n",
    "        # Create a long exponential moving average column\n",
    "        df[long_window_col] = df['Close'].ewm(span = long_window, adjust = False).mean()"
   ]
  },
  {
   "cell_type": "code",
   "execution_count": 28,
   "id": "c1bcf95f",
   "metadata": {},
   "outputs": [],
   "source": [
    "MovingAverage(apple)"
   ]
  },
  {
   "cell_type": "code",
   "execution_count": 29,
   "id": "18a9ad92",
   "metadata": {},
   "outputs": [
    {
     "data": {
      "text/html": [
       "<div>\n",
       "<style scoped>\n",
       "    .dataframe tbody tr th:only-of-type {\n",
       "        vertical-align: middle;\n",
       "    }\n",
       "\n",
       "    .dataframe tbody tr th {\n",
       "        vertical-align: top;\n",
       "    }\n",
       "\n",
       "    .dataframe thead th {\n",
       "        text-align: right;\n",
       "    }\n",
       "</style>\n",
       "<table border=\"1\" class=\"dataframe\">\n",
       "  <thead>\n",
       "    <tr style=\"text-align: right;\">\n",
       "      <th></th>\n",
       "      <th>Open</th>\n",
       "      <th>High</th>\n",
       "      <th>Low</th>\n",
       "      <th>Close</th>\n",
       "      <th>Volume</th>\n",
       "      <th>20_SMA</th>\n",
       "      <th>50_SMA</th>\n",
       "    </tr>\n",
       "    <tr>\n",
       "      <th>Date</th>\n",
       "      <th></th>\n",
       "      <th></th>\n",
       "      <th></th>\n",
       "      <th></th>\n",
       "      <th></th>\n",
       "      <th></th>\n",
       "      <th></th>\n",
       "    </tr>\n",
       "  </thead>\n",
       "  <tbody>\n",
       "    <tr>\n",
       "      <th>1996-01-02</th>\n",
       "      <td>1.151786</td>\n",
       "      <td>1.151786</td>\n",
       "      <td>1.133929</td>\n",
       "      <td>0.000000</td>\n",
       "      <td>34823600</td>\n",
       "      <td>0.000000</td>\n",
       "      <td>0.000000</td>\n",
       "    </tr>\n",
       "    <tr>\n",
       "      <th>1996-01-03</th>\n",
       "      <td>1.142857</td>\n",
       "      <td>1.174107</td>\n",
       "      <td>1.138393</td>\n",
       "      <td>0.000000</td>\n",
       "      <td>107458400</td>\n",
       "      <td>0.000000</td>\n",
       "      <td>0.000000</td>\n",
       "    </tr>\n",
       "    <tr>\n",
       "      <th>1996-01-04</th>\n",
       "      <td>1.156250</td>\n",
       "      <td>1.156250</td>\n",
       "      <td>1.120536</td>\n",
       "      <td>-0.011433</td>\n",
       "      <td>75045600</td>\n",
       "      <td>-0.003811</td>\n",
       "      <td>-0.003811</td>\n",
       "    </tr>\n",
       "    <tr>\n",
       "      <th>1996-01-05</th>\n",
       "      <td>1.129464</td>\n",
       "      <td>1.223214</td>\n",
       "      <td>1.120536</td>\n",
       "      <td>0.051162</td>\n",
       "      <td>111482000</td>\n",
       "      <td>0.009932</td>\n",
       "      <td>0.009932</td>\n",
       "    </tr>\n",
       "    <tr>\n",
       "      <th>1996-01-08</th>\n",
       "      <td>1.232143</td>\n",
       "      <td>1.267857</td>\n",
       "      <td>1.214286</td>\n",
       "      <td>0.048168</td>\n",
       "      <td>30335200</td>\n",
       "      <td>0.017579</td>\n",
       "      <td>0.017579</td>\n",
       "    </tr>\n",
       "    <tr>\n",
       "      <th>...</th>\n",
       "      <td>...</td>\n",
       "      <td>...</td>\n",
       "      <td>...</td>\n",
       "      <td>...</td>\n",
       "      <td>...</td>\n",
       "      <td>...</td>\n",
       "      <td>...</td>\n",
       "    </tr>\n",
       "    <tr>\n",
       "      <th>2020-07-31</th>\n",
       "      <td>411.540009</td>\n",
       "      <td>425.660004</td>\n",
       "      <td>403.299988</td>\n",
       "      <td>0.139794</td>\n",
       "      <td>93584200</td>\n",
       "      <td>0.074798</td>\n",
       "      <td>0.079375</td>\n",
       "    </tr>\n",
       "    <tr>\n",
       "      <th>2020-08-03</th>\n",
       "      <td>432.799988</td>\n",
       "      <td>446.549988</td>\n",
       "      <td>431.570007</td>\n",
       "      <td>0.155437</td>\n",
       "      <td>77037800</td>\n",
       "      <td>0.077831</td>\n",
       "      <td>0.080935</td>\n",
       "    </tr>\n",
       "    <tr>\n",
       "      <th>2020-08-04</th>\n",
       "      <td>436.529999</td>\n",
       "      <td>443.160004</td>\n",
       "      <td>433.549988</td>\n",
       "      <td>0.152995</td>\n",
       "      <td>43267900</td>\n",
       "      <td>0.081154</td>\n",
       "      <td>0.082413</td>\n",
       "    </tr>\n",
       "    <tr>\n",
       "      <th>2020-08-05</th>\n",
       "      <td>437.510010</td>\n",
       "      <td>441.570007</td>\n",
       "      <td>435.589996</td>\n",
       "      <td>0.147823</td>\n",
       "      <td>30498000</td>\n",
       "      <td>0.083375</td>\n",
       "      <td>0.084003</td>\n",
       "    </tr>\n",
       "    <tr>\n",
       "      <th>2020-08-06</th>\n",
       "      <td>441.619995</td>\n",
       "      <td>457.649994</td>\n",
       "      <td>439.190002</td>\n",
       "      <td>0.171896</td>\n",
       "      <td>50490000</td>\n",
       "      <td>0.086887</td>\n",
       "      <td>0.086070</td>\n",
       "    </tr>\n",
       "  </tbody>\n",
       "</table>\n",
       "<p>6193 rows × 7 columns</p>\n",
       "</div>"
      ],
      "text/plain": [
       "                  Open        High         Low     Close     Volume    20_SMA  \\\n",
       "Date                                                                            \n",
       "1996-01-02    1.151786    1.151786    1.133929  0.000000   34823600  0.000000   \n",
       "1996-01-03    1.142857    1.174107    1.138393  0.000000  107458400  0.000000   \n",
       "1996-01-04    1.156250    1.156250    1.120536 -0.011433   75045600 -0.003811   \n",
       "1996-01-05    1.129464    1.223214    1.120536  0.051162  111482000  0.009932   \n",
       "1996-01-08    1.232143    1.267857    1.214286  0.048168   30335200  0.017579   \n",
       "...                ...         ...         ...       ...        ...       ...   \n",
       "2020-07-31  411.540009  425.660004  403.299988  0.139794   93584200  0.074798   \n",
       "2020-08-03  432.799988  446.549988  431.570007  0.155437   77037800  0.077831   \n",
       "2020-08-04  436.529999  443.160004  433.549988  0.152995   43267900  0.081154   \n",
       "2020-08-05  437.510010  441.570007  435.589996  0.147823   30498000  0.083375   \n",
       "2020-08-06  441.619995  457.649994  439.190002  0.171896   50490000  0.086887   \n",
       "\n",
       "              50_SMA  \n",
       "Date                  \n",
       "1996-01-02  0.000000  \n",
       "1996-01-03  0.000000  \n",
       "1996-01-04 -0.003811  \n",
       "1996-01-05  0.009932  \n",
       "1996-01-08  0.017579  \n",
       "...              ...  \n",
       "2020-07-31  0.079375  \n",
       "2020-08-03  0.080935  \n",
       "2020-08-04  0.082413  \n",
       "2020-08-05  0.084003  \n",
       "2020-08-06  0.086070  \n",
       "\n",
       "[6193 rows x 7 columns]"
      ]
     },
     "execution_count": 29,
     "metadata": {},
     "output_type": "execute_result"
    }
   ],
   "source": [
    "apple "
   ]
  },
  {
   "cell_type": "markdown",
   "id": "1468c86e",
   "metadata": {},
   "source": [
    "# MACD - Moving Average Convergence Divergence"
   ]
  },
  {
   "cell_type": "code",
   "execution_count": 30,
   "id": "731f50f9",
   "metadata": {},
   "outputs": [
    {
     "data": {
      "text/html": [
       "<div>\n",
       "<style scoped>\n",
       "    .dataframe tbody tr th:only-of-type {\n",
       "        vertical-align: middle;\n",
       "    }\n",
       "\n",
       "    .dataframe tbody tr th {\n",
       "        vertical-align: top;\n",
       "    }\n",
       "\n",
       "    .dataframe thead th {\n",
       "        text-align: right;\n",
       "    }\n",
       "</style>\n",
       "<table border=\"1\" class=\"dataframe\">\n",
       "  <thead>\n",
       "    <tr style=\"text-align: right;\">\n",
       "      <th></th>\n",
       "      <th>MACD</th>\n",
       "      <th>MACD_Signal</th>\n",
       "      <th>Hist</th>\n",
       "    </tr>\n",
       "    <tr>\n",
       "      <th>Date</th>\n",
       "      <th></th>\n",
       "      <th></th>\n",
       "      <th></th>\n",
       "    </tr>\n",
       "  </thead>\n",
       "  <tbody>\n",
       "    <tr>\n",
       "      <th>1996-01-02</th>\n",
       "      <td>0.000000</td>\n",
       "      <td>0.000000</td>\n",
       "      <td>0.000000</td>\n",
       "    </tr>\n",
       "    <tr>\n",
       "      <th>1996-01-03</th>\n",
       "      <td>0.000000</td>\n",
       "      <td>0.000000</td>\n",
       "      <td>0.000000</td>\n",
       "    </tr>\n",
       "    <tr>\n",
       "      <th>1996-01-04</th>\n",
       "      <td>-0.000912</td>\n",
       "      <td>-0.000182</td>\n",
       "      <td>-0.000730</td>\n",
       "    </tr>\n",
       "    <tr>\n",
       "      <th>1996-01-05</th>\n",
       "      <td>0.003377</td>\n",
       "      <td>0.000529</td>\n",
       "      <td>0.002848</td>\n",
       "    </tr>\n",
       "    <tr>\n",
       "      <th>1996-01-08</th>\n",
       "      <td>0.006460</td>\n",
       "      <td>0.001716</td>\n",
       "      <td>0.004745</td>\n",
       "    </tr>\n",
       "    <tr>\n",
       "      <th>...</th>\n",
       "      <td>...</td>\n",
       "      <td>...</td>\n",
       "      <td>...</td>\n",
       "    </tr>\n",
       "    <tr>\n",
       "      <th>2020-07-31</th>\n",
       "      <td>-0.005215</td>\n",
       "      <td>-0.007642</td>\n",
       "      <td>0.002428</td>\n",
       "    </tr>\n",
       "    <tr>\n",
       "      <th>2020-08-03</th>\n",
       "      <td>0.002279</td>\n",
       "      <td>-0.005658</td>\n",
       "      <td>0.007937</td>\n",
       "    </tr>\n",
       "    <tr>\n",
       "      <th>2020-08-04</th>\n",
       "      <td>0.007929</td>\n",
       "      <td>-0.002941</td>\n",
       "      <td>0.010870</td>\n",
       "    </tr>\n",
       "    <tr>\n",
       "      <th>2020-08-05</th>\n",
       "      <td>0.011853</td>\n",
       "      <td>0.000018</td>\n",
       "      <td>0.011835</td>\n",
       "    </tr>\n",
       "    <tr>\n",
       "      <th>2020-08-06</th>\n",
       "      <td>0.016713</td>\n",
       "      <td>0.003357</td>\n",
       "      <td>0.013356</td>\n",
       "    </tr>\n",
       "  </tbody>\n",
       "</table>\n",
       "<p>6193 rows × 3 columns</p>\n",
       "</div>"
      ],
      "text/plain": [
       "                MACD  MACD_Signal      Hist\n",
       "Date                                       \n",
       "1996-01-02  0.000000     0.000000  0.000000\n",
       "1996-01-03  0.000000     0.000000  0.000000\n",
       "1996-01-04 -0.000912    -0.000182 -0.000730\n",
       "1996-01-05  0.003377     0.000529  0.002848\n",
       "1996-01-08  0.006460     0.001716  0.004745\n",
       "...              ...          ...       ...\n",
       "2020-07-31 -0.005215    -0.007642  0.002428\n",
       "2020-08-03  0.002279    -0.005658  0.007937\n",
       "2020-08-04  0.007929    -0.002941  0.010870\n",
       "2020-08-05  0.011853     0.000018  0.011835\n",
       "2020-08-06  0.016713     0.003357  0.013356\n",
       "\n",
       "[6193 rows x 3 columns]"
      ]
     },
     "execution_count": 30,
     "metadata": {},
     "output_type": "execute_result"
    }
   ],
   "source": [
    "# MACD Calculation\n",
    "def get_macd(df, slow=26, fast=12, smooth=9, start_date = '1996-01-02', end_date = '2020-08-06',):\n",
    "    \n",
    "    # isolate the closing price\n",
    "    closingPrice = df.loc[start_date:end_date,'Close']\n",
    "    \n",
    "    exp1 = closingPrice.ewm(span = fast, adjust = False).mean()\n",
    "    exp2 = closingPrice.ewm(span = slow, adjust = False).mean()\n",
    "    macd = pd.DataFrame(exp1 - exp2).rename(columns = {'Close':'MACD'})\n",
    "    signal = pd.DataFrame(macd.ewm(span = smooth, adjust = False).mean()).rename(columns = {'MACD':'MACD_Signal'})\n",
    "    hist = pd.DataFrame(macd['MACD'] - signal['MACD_Signal']).rename(columns = {0:'Hist'})\n",
    "    frames =  [macd, signal, hist]\n",
    "    df = pd.concat(frames, join = 'inner', axis = 1)\n",
    "    return df\n",
    "\n",
    "get_macd(apple)\n",
    "# Drop the histogram column"
   ]
  },
  {
   "cell_type": "code",
   "execution_count": 31,
   "id": "429673c7",
   "metadata": {},
   "outputs": [],
   "source": [
    "apple= pd.concat([apple,get_macd(apple)], axis=1)"
   ]
  },
  {
   "cell_type": "code",
   "execution_count": 32,
   "id": "97b9084f",
   "metadata": {},
   "outputs": [],
   "source": [
    "apple.drop(['Hist'], axis=1, inplace=True)"
   ]
  },
  {
   "cell_type": "code",
   "execution_count": 33,
   "id": "186956e7",
   "metadata": {},
   "outputs": [
    {
     "data": {
      "text/html": [
       "<div>\n",
       "<style scoped>\n",
       "    .dataframe tbody tr th:only-of-type {\n",
       "        vertical-align: middle;\n",
       "    }\n",
       "\n",
       "    .dataframe tbody tr th {\n",
       "        vertical-align: top;\n",
       "    }\n",
       "\n",
       "    .dataframe thead th {\n",
       "        text-align: right;\n",
       "    }\n",
       "</style>\n",
       "<table border=\"1\" class=\"dataframe\">\n",
       "  <thead>\n",
       "    <tr style=\"text-align: right;\">\n",
       "      <th></th>\n",
       "      <th>Open</th>\n",
       "      <th>High</th>\n",
       "      <th>Low</th>\n",
       "      <th>Close</th>\n",
       "      <th>Volume</th>\n",
       "      <th>20_SMA</th>\n",
       "      <th>50_SMA</th>\n",
       "      <th>MACD</th>\n",
       "      <th>MACD_Signal</th>\n",
       "    </tr>\n",
       "    <tr>\n",
       "      <th>Date</th>\n",
       "      <th></th>\n",
       "      <th></th>\n",
       "      <th></th>\n",
       "      <th></th>\n",
       "      <th></th>\n",
       "      <th></th>\n",
       "      <th></th>\n",
       "      <th></th>\n",
       "      <th></th>\n",
       "    </tr>\n",
       "  </thead>\n",
       "  <tbody>\n",
       "    <tr>\n",
       "      <th>1996-01-02</th>\n",
       "      <td>1.151786</td>\n",
       "      <td>1.151786</td>\n",
       "      <td>1.133929</td>\n",
       "      <td>0.000000</td>\n",
       "      <td>34823600</td>\n",
       "      <td>0.000000</td>\n",
       "      <td>0.000000</td>\n",
       "      <td>0.000000</td>\n",
       "      <td>0.000000</td>\n",
       "    </tr>\n",
       "    <tr>\n",
       "      <th>1996-01-03</th>\n",
       "      <td>1.142857</td>\n",
       "      <td>1.174107</td>\n",
       "      <td>1.138393</td>\n",
       "      <td>0.000000</td>\n",
       "      <td>107458400</td>\n",
       "      <td>0.000000</td>\n",
       "      <td>0.000000</td>\n",
       "      <td>0.000000</td>\n",
       "      <td>0.000000</td>\n",
       "    </tr>\n",
       "    <tr>\n",
       "      <th>1996-01-04</th>\n",
       "      <td>1.156250</td>\n",
       "      <td>1.156250</td>\n",
       "      <td>1.120536</td>\n",
       "      <td>-0.011433</td>\n",
       "      <td>75045600</td>\n",
       "      <td>-0.003811</td>\n",
       "      <td>-0.003811</td>\n",
       "      <td>-0.000912</td>\n",
       "      <td>-0.000182</td>\n",
       "    </tr>\n",
       "    <tr>\n",
       "      <th>1996-01-05</th>\n",
       "      <td>1.129464</td>\n",
       "      <td>1.223214</td>\n",
       "      <td>1.120536</td>\n",
       "      <td>0.051162</td>\n",
       "      <td>111482000</td>\n",
       "      <td>0.009932</td>\n",
       "      <td>0.009932</td>\n",
       "      <td>0.003377</td>\n",
       "      <td>0.000529</td>\n",
       "    </tr>\n",
       "    <tr>\n",
       "      <th>1996-01-08</th>\n",
       "      <td>1.232143</td>\n",
       "      <td>1.267857</td>\n",
       "      <td>1.214286</td>\n",
       "      <td>0.048168</td>\n",
       "      <td>30335200</td>\n",
       "      <td>0.017579</td>\n",
       "      <td>0.017579</td>\n",
       "      <td>0.006460</td>\n",
       "      <td>0.001716</td>\n",
       "    </tr>\n",
       "    <tr>\n",
       "      <th>...</th>\n",
       "      <td>...</td>\n",
       "      <td>...</td>\n",
       "      <td>...</td>\n",
       "      <td>...</td>\n",
       "      <td>...</td>\n",
       "      <td>...</td>\n",
       "      <td>...</td>\n",
       "      <td>...</td>\n",
       "      <td>...</td>\n",
       "    </tr>\n",
       "    <tr>\n",
       "      <th>2020-07-31</th>\n",
       "      <td>411.540009</td>\n",
       "      <td>425.660004</td>\n",
       "      <td>403.299988</td>\n",
       "      <td>0.139794</td>\n",
       "      <td>93584200</td>\n",
       "      <td>0.074798</td>\n",
       "      <td>0.079375</td>\n",
       "      <td>-0.005215</td>\n",
       "      <td>-0.007642</td>\n",
       "    </tr>\n",
       "    <tr>\n",
       "      <th>2020-08-03</th>\n",
       "      <td>432.799988</td>\n",
       "      <td>446.549988</td>\n",
       "      <td>431.570007</td>\n",
       "      <td>0.155437</td>\n",
       "      <td>77037800</td>\n",
       "      <td>0.077831</td>\n",
       "      <td>0.080935</td>\n",
       "      <td>0.002279</td>\n",
       "      <td>-0.005658</td>\n",
       "    </tr>\n",
       "    <tr>\n",
       "      <th>2020-08-04</th>\n",
       "      <td>436.529999</td>\n",
       "      <td>443.160004</td>\n",
       "      <td>433.549988</td>\n",
       "      <td>0.152995</td>\n",
       "      <td>43267900</td>\n",
       "      <td>0.081154</td>\n",
       "      <td>0.082413</td>\n",
       "      <td>0.007929</td>\n",
       "      <td>-0.002941</td>\n",
       "    </tr>\n",
       "    <tr>\n",
       "      <th>2020-08-05</th>\n",
       "      <td>437.510010</td>\n",
       "      <td>441.570007</td>\n",
       "      <td>435.589996</td>\n",
       "      <td>0.147823</td>\n",
       "      <td>30498000</td>\n",
       "      <td>0.083375</td>\n",
       "      <td>0.084003</td>\n",
       "      <td>0.011853</td>\n",
       "      <td>0.000018</td>\n",
       "    </tr>\n",
       "    <tr>\n",
       "      <th>2020-08-06</th>\n",
       "      <td>441.619995</td>\n",
       "      <td>457.649994</td>\n",
       "      <td>439.190002</td>\n",
       "      <td>0.171896</td>\n",
       "      <td>50490000</td>\n",
       "      <td>0.086887</td>\n",
       "      <td>0.086070</td>\n",
       "      <td>0.016713</td>\n",
       "      <td>0.003357</td>\n",
       "    </tr>\n",
       "  </tbody>\n",
       "</table>\n",
       "<p>6193 rows × 9 columns</p>\n",
       "</div>"
      ],
      "text/plain": [
       "                  Open        High         Low     Close     Volume    20_SMA  \\\n",
       "Date                                                                            \n",
       "1996-01-02    1.151786    1.151786    1.133929  0.000000   34823600  0.000000   \n",
       "1996-01-03    1.142857    1.174107    1.138393  0.000000  107458400  0.000000   \n",
       "1996-01-04    1.156250    1.156250    1.120536 -0.011433   75045600 -0.003811   \n",
       "1996-01-05    1.129464    1.223214    1.120536  0.051162  111482000  0.009932   \n",
       "1996-01-08    1.232143    1.267857    1.214286  0.048168   30335200  0.017579   \n",
       "...                ...         ...         ...       ...        ...       ...   \n",
       "2020-07-31  411.540009  425.660004  403.299988  0.139794   93584200  0.074798   \n",
       "2020-08-03  432.799988  446.549988  431.570007  0.155437   77037800  0.077831   \n",
       "2020-08-04  436.529999  443.160004  433.549988  0.152995   43267900  0.081154   \n",
       "2020-08-05  437.510010  441.570007  435.589996  0.147823   30498000  0.083375   \n",
       "2020-08-06  441.619995  457.649994  439.190002  0.171896   50490000  0.086887   \n",
       "\n",
       "              50_SMA      MACD  MACD_Signal  \n",
       "Date                                         \n",
       "1996-01-02  0.000000  0.000000     0.000000  \n",
       "1996-01-03  0.000000  0.000000     0.000000  \n",
       "1996-01-04 -0.003811 -0.000912    -0.000182  \n",
       "1996-01-05  0.009932  0.003377     0.000529  \n",
       "1996-01-08  0.017579  0.006460     0.001716  \n",
       "...              ...       ...          ...  \n",
       "2020-07-31  0.079375 -0.005215    -0.007642  \n",
       "2020-08-03  0.080935  0.002279    -0.005658  \n",
       "2020-08-04  0.082413  0.007929    -0.002941  \n",
       "2020-08-05  0.084003  0.011853     0.000018  \n",
       "2020-08-06  0.086070  0.016713     0.003357  \n",
       "\n",
       "[6193 rows x 9 columns]"
      ]
     },
     "execution_count": 33,
     "metadata": {},
     "output_type": "execute_result"
    }
   ],
   "source": [
    "apple"
   ]
  },
  {
   "cell_type": "markdown",
   "id": "ee9e7b0a",
   "metadata": {},
   "source": [
    "# RSI "
   ]
  },
  {
   "cell_type": "code",
   "execution_count": 34,
   "id": "96add603",
   "metadata": {},
   "outputs": [
    {
     "data": {
      "text/html": [
       "<div>\n",
       "<style scoped>\n",
       "    .dataframe tbody tr th:only-of-type {\n",
       "        vertical-align: middle;\n",
       "    }\n",
       "\n",
       "    .dataframe tbody tr th {\n",
       "        vertical-align: top;\n",
       "    }\n",
       "\n",
       "    .dataframe thead th {\n",
       "        text-align: right;\n",
       "    }\n",
       "</style>\n",
       "<table border=\"1\" class=\"dataframe\">\n",
       "  <thead>\n",
       "    <tr style=\"text-align: right;\">\n",
       "      <th></th>\n",
       "      <th>Open</th>\n",
       "      <th>High</th>\n",
       "      <th>Low</th>\n",
       "      <th>Close</th>\n",
       "      <th>Volume</th>\n",
       "      <th>20_SMA</th>\n",
       "      <th>50_SMA</th>\n",
       "      <th>MACD</th>\n",
       "      <th>MACD_Signal</th>\n",
       "      <th>RSI_14</th>\n",
       "    </tr>\n",
       "    <tr>\n",
       "      <th>Date</th>\n",
       "      <th></th>\n",
       "      <th></th>\n",
       "      <th></th>\n",
       "      <th></th>\n",
       "      <th></th>\n",
       "      <th></th>\n",
       "      <th></th>\n",
       "      <th></th>\n",
       "      <th></th>\n",
       "      <th></th>\n",
       "    </tr>\n",
       "  </thead>\n",
       "  <tbody>\n",
       "    <tr>\n",
       "      <th>1996-01-09</th>\n",
       "      <td>1.236607</td>\n",
       "      <td>1.236607</td>\n",
       "      <td>1.169643</td>\n",
       "      <td>-0.006067</td>\n",
       "      <td>62804000</td>\n",
       "      <td>0.013638</td>\n",
       "      <td>0.013638</td>\n",
       "      <td>0.004476</td>\n",
       "      <td>0.002268</td>\n",
       "      <td>44.924155</td>\n",
       "    </tr>\n",
       "    <tr>\n",
       "      <th>1996-01-10</th>\n",
       "      <td>1.160714</td>\n",
       "      <td>1.241071</td>\n",
       "      <td>1.151786</td>\n",
       "      <td>0.032183</td>\n",
       "      <td>91358400</td>\n",
       "      <td>0.016287</td>\n",
       "      <td>0.016287</td>\n",
       "      <td>0.005921</td>\n",
       "      <td>0.002998</td>\n",
       "      <td>58.986142</td>\n",
       "    </tr>\n",
       "    <tr>\n",
       "      <th>1996-01-11</th>\n",
       "      <td>1.165179</td>\n",
       "      <td>1.250000</td>\n",
       "      <td>1.156250</td>\n",
       "      <td>0.045678</td>\n",
       "      <td>189184800</td>\n",
       "      <td>0.019961</td>\n",
       "      <td>0.019961</td>\n",
       "      <td>0.008063</td>\n",
       "      <td>0.004011</td>\n",
       "      <td>62.613131</td>\n",
       "    </tr>\n",
       "    <tr>\n",
       "      <th>1996-01-12</th>\n",
       "      <td>1.241071</td>\n",
       "      <td>1.241071</td>\n",
       "      <td>1.187500</td>\n",
       "      <td>0.011206</td>\n",
       "      <td>100464000</td>\n",
       "      <td>0.018988</td>\n",
       "      <td>0.018988</td>\n",
       "      <td>0.006899</td>\n",
       "      <td>0.004589</td>\n",
       "      <td>50.361696</td>\n",
       "    </tr>\n",
       "    <tr>\n",
       "      <th>1996-01-15</th>\n",
       "      <td>1.205357</td>\n",
       "      <td>1.232143</td>\n",
       "      <td>1.191964</td>\n",
       "      <td>0.016185</td>\n",
       "      <td>90770400</td>\n",
       "      <td>0.018708</td>\n",
       "      <td>0.018708</td>\n",
       "      <td>0.006305</td>\n",
       "      <td>0.004932</td>\n",
       "      <td>51.827974</td>\n",
       "    </tr>\n",
       "    <tr>\n",
       "      <th>...</th>\n",
       "      <td>...</td>\n",
       "      <td>...</td>\n",
       "      <td>...</td>\n",
       "      <td>...</td>\n",
       "      <td>...</td>\n",
       "      <td>...</td>\n",
       "      <td>...</td>\n",
       "      <td>...</td>\n",
       "      <td>...</td>\n",
       "      <td>...</td>\n",
       "    </tr>\n",
       "    <tr>\n",
       "      <th>2020-07-31</th>\n",
       "      <td>411.540009</td>\n",
       "      <td>425.660004</td>\n",
       "      <td>403.299988</td>\n",
       "      <td>0.139794</td>\n",
       "      <td>93584200</td>\n",
       "      <td>0.074798</td>\n",
       "      <td>0.079375</td>\n",
       "      <td>-0.005215</td>\n",
       "      <td>-0.007642</td>\n",
       "      <td>63.513921</td>\n",
       "    </tr>\n",
       "    <tr>\n",
       "      <th>2020-08-03</th>\n",
       "      <td>432.799988</td>\n",
       "      <td>446.549988</td>\n",
       "      <td>431.570007</td>\n",
       "      <td>0.155437</td>\n",
       "      <td>77037800</td>\n",
       "      <td>0.077831</td>\n",
       "      <td>0.080935</td>\n",
       "      <td>0.002279</td>\n",
       "      <td>-0.005658</td>\n",
       "      <td>65.648580</td>\n",
       "    </tr>\n",
       "    <tr>\n",
       "      <th>2020-08-04</th>\n",
       "      <td>436.529999</td>\n",
       "      <td>443.160004</td>\n",
       "      <td>433.549988</td>\n",
       "      <td>0.152995</td>\n",
       "      <td>43267900</td>\n",
       "      <td>0.081154</td>\n",
       "      <td>0.082413</td>\n",
       "      <td>0.007929</td>\n",
       "      <td>-0.002941</td>\n",
       "      <td>65.009243</td>\n",
       "    </tr>\n",
       "    <tr>\n",
       "      <th>2020-08-05</th>\n",
       "      <td>437.510010</td>\n",
       "      <td>441.570007</td>\n",
       "      <td>435.589996</td>\n",
       "      <td>0.147823</td>\n",
       "      <td>30498000</td>\n",
       "      <td>0.083375</td>\n",
       "      <td>0.084003</td>\n",
       "      <td>0.011853</td>\n",
       "      <td>0.000018</td>\n",
       "      <td>63.596395</td>\n",
       "    </tr>\n",
       "    <tr>\n",
       "      <th>2020-08-06</th>\n",
       "      <td>441.619995</td>\n",
       "      <td>457.649994</td>\n",
       "      <td>439.190002</td>\n",
       "      <td>0.171896</td>\n",
       "      <td>50490000</td>\n",
       "      <td>0.086887</td>\n",
       "      <td>0.086070</td>\n",
       "      <td>0.016713</td>\n",
       "      <td>0.003357</td>\n",
       "      <td>67.172569</td>\n",
       "    </tr>\n",
       "  </tbody>\n",
       "</table>\n",
       "<p>6188 rows × 10 columns</p>\n",
       "</div>"
      ],
      "text/plain": [
       "                  Open        High         Low     Close     Volume    20_SMA  \\\n",
       "Date                                                                            \n",
       "1996-01-09    1.236607    1.236607    1.169643 -0.006067   62804000  0.013638   \n",
       "1996-01-10    1.160714    1.241071    1.151786  0.032183   91358400  0.016287   \n",
       "1996-01-11    1.165179    1.250000    1.156250  0.045678  189184800  0.019961   \n",
       "1996-01-12    1.241071    1.241071    1.187500  0.011206  100464000  0.018988   \n",
       "1996-01-15    1.205357    1.232143    1.191964  0.016185   90770400  0.018708   \n",
       "...                ...         ...         ...       ...        ...       ...   \n",
       "2020-07-31  411.540009  425.660004  403.299988  0.139794   93584200  0.074798   \n",
       "2020-08-03  432.799988  446.549988  431.570007  0.155437   77037800  0.077831   \n",
       "2020-08-04  436.529999  443.160004  433.549988  0.152995   43267900  0.081154   \n",
       "2020-08-05  437.510010  441.570007  435.589996  0.147823   30498000  0.083375   \n",
       "2020-08-06  441.619995  457.649994  439.190002  0.171896   50490000  0.086887   \n",
       "\n",
       "              50_SMA      MACD  MACD_Signal     RSI_14  \n",
       "Date                                                    \n",
       "1996-01-09  0.013638  0.004476     0.002268  44.924155  \n",
       "1996-01-10  0.016287  0.005921     0.002998  58.986142  \n",
       "1996-01-11  0.019961  0.008063     0.004011  62.613131  \n",
       "1996-01-12  0.018988  0.006899     0.004589  50.361696  \n",
       "1996-01-15  0.018708  0.006305     0.004932  51.827974  \n",
       "...              ...       ...          ...        ...  \n",
       "2020-07-31  0.079375 -0.005215    -0.007642  63.513921  \n",
       "2020-08-03  0.080935  0.002279    -0.005658  65.648580  \n",
       "2020-08-04  0.082413  0.007929    -0.002941  65.009243  \n",
       "2020-08-05  0.084003  0.011853     0.000018  63.596395  \n",
       "2020-08-06  0.086070  0.016713     0.003357  67.172569  \n",
       "\n",
       "[6188 rows x 10 columns]"
      ]
     },
     "execution_count": 34,
     "metadata": {},
     "output_type": "execute_result"
    }
   ],
   "source": [
    "# calculating RSI\n",
    "def get_rsi(close, lookback):\n",
    "    ret = close.diff()\n",
    "    up = []\n",
    "    down = []\n",
    "    for i in range(len(ret)):\n",
    "        if ret[i] < 0:\n",
    "            up.append(0)\n",
    "            down.append(ret[i])\n",
    "        else:\n",
    "            up.append(ret[i])\n",
    "            down.append(0)\n",
    "    up_series = pd.Series(up)\n",
    "    down_series = pd.Series(down).abs()\n",
    "    up_ewm = up_series.ewm(com = lookback - 1, adjust = False).mean()\n",
    "    down_ewm = down_series.ewm(com = lookback - 1, adjust = False).mean()\n",
    "    rs = up_ewm/down_ewm\n",
    "    rsi = 100 - (100 / (1 + rs))\n",
    "    rsi_df = pd.DataFrame(rsi).rename(columns = {0:'rsi'}).set_index(close.index)\n",
    "    rsi_df = rsi_df.dropna()\n",
    "    return rsi_df[3:]\n",
    "\n",
    "apple['RSI_14'] = get_rsi(apple['Close'], 14)\n",
    "apple = apple.dropna()\n",
    "apple"
   ]
  },
  {
   "cell_type": "code",
   "execution_count": 35,
   "id": "2afae3bd",
   "metadata": {},
   "outputs": [
    {
     "name": "stdout",
     "output_type": "stream",
     "text": [
      "<class 'pandas.core.frame.DataFrame'>\n",
      "DatetimeIndex: 6188 entries, 1996-01-09 to 2020-08-06\n",
      "Data columns (total 10 columns):\n",
      " #   Column       Non-Null Count  Dtype  \n",
      "---  ------       --------------  -----  \n",
      " 0   Open         6188 non-null   float64\n",
      " 1   High         6188 non-null   float64\n",
      " 2   Low          6188 non-null   float64\n",
      " 3   Close        6188 non-null   float64\n",
      " 4   Volume       6188 non-null   int64  \n",
      " 5   20_SMA       6188 non-null   float64\n",
      " 6   50_SMA       6188 non-null   float64\n",
      " 7   MACD         6188 non-null   float64\n",
      " 8   MACD_Signal  6188 non-null   float64\n",
      " 9   RSI_14       6188 non-null   float64\n",
      "dtypes: float64(9), int64(1)\n",
      "memory usage: 531.8 KB\n"
     ]
    }
   ],
   "source": [
    "apple.info()"
   ]
  },
  {
   "cell_type": "markdown",
   "id": "4ce0417c",
   "metadata": {},
   "source": [
    "# Bollinger Band"
   ]
  },
  {
   "cell_type": "code",
   "execution_count": 36,
   "id": "939afe2b",
   "metadata": {},
   "outputs": [],
   "source": [
    "def BollingerBand(data, sma, window):\n",
    "    std = data.rolling(window = window).std()\n",
    "    upper_bb = sma + std * 2\n",
    "    lower_bb = sma - std * 2\n",
    "    return upper_bb, lower_bb"
   ]
  },
  {
   "cell_type": "code",
   "execution_count": 37,
   "id": "3aea23f6",
   "metadata": {},
   "outputs": [],
   "source": [
    "apple['Upper_BB'], apple['Lower_BB'] = BollingerBand(apple['Close'], apple['20_SMA'], 20)"
   ]
  },
  {
   "cell_type": "code",
   "execution_count": 38,
   "id": "e3b75057",
   "metadata": {},
   "outputs": [],
   "source": [
    "apple.dropna(inplace=True)"
   ]
  },
  {
   "cell_type": "code",
   "execution_count": 39,
   "id": "afc3d19a",
   "metadata": {},
   "outputs": [
    {
     "data": {
      "text/html": [
       "<div>\n",
       "<style scoped>\n",
       "    .dataframe tbody tr th:only-of-type {\n",
       "        vertical-align: middle;\n",
       "    }\n",
       "\n",
       "    .dataframe tbody tr th {\n",
       "        vertical-align: top;\n",
       "    }\n",
       "\n",
       "    .dataframe thead th {\n",
       "        text-align: right;\n",
       "    }\n",
       "</style>\n",
       "<table border=\"1\" class=\"dataframe\">\n",
       "  <thead>\n",
       "    <tr style=\"text-align: right;\">\n",
       "      <th></th>\n",
       "      <th>Open</th>\n",
       "      <th>High</th>\n",
       "      <th>Low</th>\n",
       "      <th>Close</th>\n",
       "      <th>Volume</th>\n",
       "      <th>20_SMA</th>\n",
       "      <th>50_SMA</th>\n",
       "      <th>MACD</th>\n",
       "      <th>MACD_Signal</th>\n",
       "      <th>RSI_14</th>\n",
       "      <th>Upper_BB</th>\n",
       "      <th>Lower_BB</th>\n",
       "    </tr>\n",
       "    <tr>\n",
       "      <th>Date</th>\n",
       "      <th></th>\n",
       "      <th></th>\n",
       "      <th></th>\n",
       "      <th></th>\n",
       "      <th></th>\n",
       "      <th></th>\n",
       "      <th></th>\n",
       "      <th></th>\n",
       "      <th></th>\n",
       "      <th></th>\n",
       "      <th></th>\n",
       "      <th></th>\n",
       "    </tr>\n",
       "  </thead>\n",
       "  <tbody>\n",
       "    <tr>\n",
       "      <th>1996-02-05</th>\n",
       "      <td>1.060268</td>\n",
       "      <td>1.062500</td>\n",
       "      <td>1.035714</td>\n",
       "      <td>-0.051980</td>\n",
       "      <td>79682400</td>\n",
       "      <td>-0.041878</td>\n",
       "      <td>-0.029986</td>\n",
       "      <td>-0.022839</td>\n",
       "      <td>-0.021595</td>\n",
       "      <td>48.650292</td>\n",
       "      <td>0.068791</td>\n",
       "      <td>-0.152546</td>\n",
       "    </tr>\n",
       "    <tr>\n",
       "      <th>1996-02-06</th>\n",
       "      <td>1.044643</td>\n",
       "      <td>1.071429</td>\n",
       "      <td>1.044643</td>\n",
       "      <td>-0.036407</td>\n",
       "      <td>56554400</td>\n",
       "      <td>-0.043395</td>\n",
       "      <td>-0.030233</td>\n",
       "      <td>-0.018700</td>\n",
       "      <td>-0.021016</td>\n",
       "      <td>50.968288</td>\n",
       "      <td>0.066032</td>\n",
       "      <td>-0.152821</td>\n",
       "    </tr>\n",
       "    <tr>\n",
       "      <th>1996-02-07</th>\n",
       "      <td>1.062500</td>\n",
       "      <td>1.062500</td>\n",
       "      <td>0.991071</td>\n",
       "      <td>-0.077967</td>\n",
       "      <td>90081600</td>\n",
       "      <td>-0.048902</td>\n",
       "      <td>-0.032001</td>\n",
       "      <td>-0.018559</td>\n",
       "      <td>-0.020524</td>\n",
       "      <td>45.115265</td>\n",
       "      <td>0.055479</td>\n",
       "      <td>-0.153284</td>\n",
       "    </tr>\n",
       "    <tr>\n",
       "      <th>1996-02-08</th>\n",
       "      <td>0.982143</td>\n",
       "      <td>1.004464</td>\n",
       "      <td>0.982143</td>\n",
       "      <td>-0.084936</td>\n",
       "      <td>65791600</td>\n",
       "      <td>-0.055433</td>\n",
       "      <td>-0.033892</td>\n",
       "      <td>-0.018793</td>\n",
       "      <td>-0.020178</td>\n",
       "      <td>44.198809</td>\n",
       "      <td>0.039993</td>\n",
       "      <td>-0.150858</td>\n",
       "    </tr>\n",
       "    <tr>\n",
       "      <th>1996-02-09</th>\n",
       "      <td>0.995536</td>\n",
       "      <td>1.017857</td>\n",
       "      <td>0.986607</td>\n",
       "      <td>-0.083254</td>\n",
       "      <td>51422000</td>\n",
       "      <td>-0.060156</td>\n",
       "      <td>-0.035594</td>\n",
       "      <td>-0.018628</td>\n",
       "      <td>-0.019868</td>\n",
       "      <td>44.491806</td>\n",
       "      <td>0.030620</td>\n",
       "      <td>-0.150931</td>\n",
       "    </tr>\n",
       "    <tr>\n",
       "      <th>...</th>\n",
       "      <td>...</td>\n",
       "      <td>...</td>\n",
       "      <td>...</td>\n",
       "      <td>...</td>\n",
       "      <td>...</td>\n",
       "      <td>...</td>\n",
       "      <td>...</td>\n",
       "      <td>...</td>\n",
       "      <td>...</td>\n",
       "      <td>...</td>\n",
       "      <td>...</td>\n",
       "      <td>...</td>\n",
       "    </tr>\n",
       "    <tr>\n",
       "      <th>2020-07-31</th>\n",
       "      <td>411.540009</td>\n",
       "      <td>425.660004</td>\n",
       "      <td>403.299988</td>\n",
       "      <td>0.139794</td>\n",
       "      <td>93584200</td>\n",
       "      <td>0.074798</td>\n",
       "      <td>0.079375</td>\n",
       "      <td>-0.005215</td>\n",
       "      <td>-0.007642</td>\n",
       "      <td>63.513921</td>\n",
       "      <td>0.139645</td>\n",
       "      <td>0.009951</td>\n",
       "    </tr>\n",
       "    <tr>\n",
       "      <th>2020-08-03</th>\n",
       "      <td>432.799988</td>\n",
       "      <td>446.549988</td>\n",
       "      <td>431.570007</td>\n",
       "      <td>0.155437</td>\n",
       "      <td>77037800</td>\n",
       "      <td>0.077831</td>\n",
       "      <td>0.080935</td>\n",
       "      <td>0.002279</td>\n",
       "      <td>-0.005658</td>\n",
       "      <td>65.648580</td>\n",
       "      <td>0.151664</td>\n",
       "      <td>0.003998</td>\n",
       "    </tr>\n",
       "    <tr>\n",
       "      <th>2020-08-04</th>\n",
       "      <td>436.529999</td>\n",
       "      <td>443.160004</td>\n",
       "      <td>433.549988</td>\n",
       "      <td>0.152995</td>\n",
       "      <td>43267900</td>\n",
       "      <td>0.081154</td>\n",
       "      <td>0.082413</td>\n",
       "      <td>0.007929</td>\n",
       "      <td>-0.002941</td>\n",
       "      <td>65.009243</td>\n",
       "      <td>0.162261</td>\n",
       "      <td>0.000047</td>\n",
       "    </tr>\n",
       "    <tr>\n",
       "      <th>2020-08-05</th>\n",
       "      <td>437.510010</td>\n",
       "      <td>441.570007</td>\n",
       "      <td>435.589996</td>\n",
       "      <td>0.147823</td>\n",
       "      <td>30498000</td>\n",
       "      <td>0.083375</td>\n",
       "      <td>0.084003</td>\n",
       "      <td>0.011853</td>\n",
       "      <td>0.000018</td>\n",
       "      <td>63.596395</td>\n",
       "      <td>0.169334</td>\n",
       "      <td>-0.002585</td>\n",
       "    </tr>\n",
       "    <tr>\n",
       "      <th>2020-08-06</th>\n",
       "      <td>441.619995</td>\n",
       "      <td>457.649994</td>\n",
       "      <td>439.190002</td>\n",
       "      <td>0.171896</td>\n",
       "      <td>50490000</td>\n",
       "      <td>0.086887</td>\n",
       "      <td>0.086070</td>\n",
       "      <td>0.016713</td>\n",
       "      <td>0.003357</td>\n",
       "      <td>67.172569</td>\n",
       "      <td>0.181314</td>\n",
       "      <td>-0.007540</td>\n",
       "    </tr>\n",
       "  </tbody>\n",
       "</table>\n",
       "<p>6169 rows × 12 columns</p>\n",
       "</div>"
      ],
      "text/plain": [
       "                  Open        High         Low     Close    Volume    20_SMA  \\\n",
       "Date                                                                           \n",
       "1996-02-05    1.060268    1.062500    1.035714 -0.051980  79682400 -0.041878   \n",
       "1996-02-06    1.044643    1.071429    1.044643 -0.036407  56554400 -0.043395   \n",
       "1996-02-07    1.062500    1.062500    0.991071 -0.077967  90081600 -0.048902   \n",
       "1996-02-08    0.982143    1.004464    0.982143 -0.084936  65791600 -0.055433   \n",
       "1996-02-09    0.995536    1.017857    0.986607 -0.083254  51422000 -0.060156   \n",
       "...                ...         ...         ...       ...       ...       ...   \n",
       "2020-07-31  411.540009  425.660004  403.299988  0.139794  93584200  0.074798   \n",
       "2020-08-03  432.799988  446.549988  431.570007  0.155437  77037800  0.077831   \n",
       "2020-08-04  436.529999  443.160004  433.549988  0.152995  43267900  0.081154   \n",
       "2020-08-05  437.510010  441.570007  435.589996  0.147823  30498000  0.083375   \n",
       "2020-08-06  441.619995  457.649994  439.190002  0.171896  50490000  0.086887   \n",
       "\n",
       "              50_SMA      MACD  MACD_Signal     RSI_14  Upper_BB  Lower_BB  \n",
       "Date                                                                        \n",
       "1996-02-05 -0.029986 -0.022839    -0.021595  48.650292  0.068791 -0.152546  \n",
       "1996-02-06 -0.030233 -0.018700    -0.021016  50.968288  0.066032 -0.152821  \n",
       "1996-02-07 -0.032001 -0.018559    -0.020524  45.115265  0.055479 -0.153284  \n",
       "1996-02-08 -0.033892 -0.018793    -0.020178  44.198809  0.039993 -0.150858  \n",
       "1996-02-09 -0.035594 -0.018628    -0.019868  44.491806  0.030620 -0.150931  \n",
       "...              ...       ...          ...        ...       ...       ...  \n",
       "2020-07-31  0.079375 -0.005215    -0.007642  63.513921  0.139645  0.009951  \n",
       "2020-08-03  0.080935  0.002279    -0.005658  65.648580  0.151664  0.003998  \n",
       "2020-08-04  0.082413  0.007929    -0.002941  65.009243  0.162261  0.000047  \n",
       "2020-08-05  0.084003  0.011853     0.000018  63.596395  0.169334 -0.002585  \n",
       "2020-08-06  0.086070  0.016713     0.003357  67.172569  0.181314 -0.007540  \n",
       "\n",
       "[6169 rows x 12 columns]"
      ]
     },
     "execution_count": 39,
     "metadata": {},
     "output_type": "execute_result"
    }
   ],
   "source": [
    "apple"
   ]
  },
  {
   "cell_type": "code",
   "execution_count": 40,
   "id": "6f5c3ef7",
   "metadata": {},
   "outputs": [],
   "source": [
    "apple.drop(['Open', 'High','Low','Volume'], axis=1, inplace=True)"
   ]
  },
  {
   "cell_type": "code",
   "execution_count": 41,
   "id": "b6beaf21",
   "metadata": {},
   "outputs": [
    {
     "data": {
      "text/html": [
       "<div>\n",
       "<style scoped>\n",
       "    .dataframe tbody tr th:only-of-type {\n",
       "        vertical-align: middle;\n",
       "    }\n",
       "\n",
       "    .dataframe tbody tr th {\n",
       "        vertical-align: top;\n",
       "    }\n",
       "\n",
       "    .dataframe thead th {\n",
       "        text-align: right;\n",
       "    }\n",
       "</style>\n",
       "<table border=\"1\" class=\"dataframe\">\n",
       "  <thead>\n",
       "    <tr style=\"text-align: right;\">\n",
       "      <th></th>\n",
       "      <th>Close</th>\n",
       "      <th>20_SMA</th>\n",
       "      <th>50_SMA</th>\n",
       "      <th>MACD</th>\n",
       "      <th>MACD_Signal</th>\n",
       "      <th>RSI_14</th>\n",
       "      <th>Upper_BB</th>\n",
       "      <th>Lower_BB</th>\n",
       "    </tr>\n",
       "    <tr>\n",
       "      <th>Date</th>\n",
       "      <th></th>\n",
       "      <th></th>\n",
       "      <th></th>\n",
       "      <th></th>\n",
       "      <th></th>\n",
       "      <th></th>\n",
       "      <th></th>\n",
       "      <th></th>\n",
       "    </tr>\n",
       "  </thead>\n",
       "  <tbody>\n",
       "    <tr>\n",
       "      <th>1996-02-05</th>\n",
       "      <td>-0.051980</td>\n",
       "      <td>-0.041878</td>\n",
       "      <td>-0.029986</td>\n",
       "      <td>-0.022839</td>\n",
       "      <td>-0.021595</td>\n",
       "      <td>48.650292</td>\n",
       "      <td>0.068791</td>\n",
       "      <td>-0.152546</td>\n",
       "    </tr>\n",
       "    <tr>\n",
       "      <th>1996-02-06</th>\n",
       "      <td>-0.036407</td>\n",
       "      <td>-0.043395</td>\n",
       "      <td>-0.030233</td>\n",
       "      <td>-0.018700</td>\n",
       "      <td>-0.021016</td>\n",
       "      <td>50.968288</td>\n",
       "      <td>0.066032</td>\n",
       "      <td>-0.152821</td>\n",
       "    </tr>\n",
       "    <tr>\n",
       "      <th>1996-02-07</th>\n",
       "      <td>-0.077967</td>\n",
       "      <td>-0.048902</td>\n",
       "      <td>-0.032001</td>\n",
       "      <td>-0.018559</td>\n",
       "      <td>-0.020524</td>\n",
       "      <td>45.115265</td>\n",
       "      <td>0.055479</td>\n",
       "      <td>-0.153284</td>\n",
       "    </tr>\n",
       "    <tr>\n",
       "      <th>1996-02-08</th>\n",
       "      <td>-0.084936</td>\n",
       "      <td>-0.055433</td>\n",
       "      <td>-0.033892</td>\n",
       "      <td>-0.018793</td>\n",
       "      <td>-0.020178</td>\n",
       "      <td>44.198809</td>\n",
       "      <td>0.039993</td>\n",
       "      <td>-0.150858</td>\n",
       "    </tr>\n",
       "    <tr>\n",
       "      <th>1996-02-09</th>\n",
       "      <td>-0.083254</td>\n",
       "      <td>-0.060156</td>\n",
       "      <td>-0.035594</td>\n",
       "      <td>-0.018628</td>\n",
       "      <td>-0.019868</td>\n",
       "      <td>44.491806</td>\n",
       "      <td>0.030620</td>\n",
       "      <td>-0.150931</td>\n",
       "    </tr>\n",
       "    <tr>\n",
       "      <th>...</th>\n",
       "      <td>...</td>\n",
       "      <td>...</td>\n",
       "      <td>...</td>\n",
       "      <td>...</td>\n",
       "      <td>...</td>\n",
       "      <td>...</td>\n",
       "      <td>...</td>\n",
       "      <td>...</td>\n",
       "    </tr>\n",
       "    <tr>\n",
       "      <th>2020-07-31</th>\n",
       "      <td>0.139794</td>\n",
       "      <td>0.074798</td>\n",
       "      <td>0.079375</td>\n",
       "      <td>-0.005215</td>\n",
       "      <td>-0.007642</td>\n",
       "      <td>63.513921</td>\n",
       "      <td>0.139645</td>\n",
       "      <td>0.009951</td>\n",
       "    </tr>\n",
       "    <tr>\n",
       "      <th>2020-08-03</th>\n",
       "      <td>0.155437</td>\n",
       "      <td>0.077831</td>\n",
       "      <td>0.080935</td>\n",
       "      <td>0.002279</td>\n",
       "      <td>-0.005658</td>\n",
       "      <td>65.648580</td>\n",
       "      <td>0.151664</td>\n",
       "      <td>0.003998</td>\n",
       "    </tr>\n",
       "    <tr>\n",
       "      <th>2020-08-04</th>\n",
       "      <td>0.152995</td>\n",
       "      <td>0.081154</td>\n",
       "      <td>0.082413</td>\n",
       "      <td>0.007929</td>\n",
       "      <td>-0.002941</td>\n",
       "      <td>65.009243</td>\n",
       "      <td>0.162261</td>\n",
       "      <td>0.000047</td>\n",
       "    </tr>\n",
       "    <tr>\n",
       "      <th>2020-08-05</th>\n",
       "      <td>0.147823</td>\n",
       "      <td>0.083375</td>\n",
       "      <td>0.084003</td>\n",
       "      <td>0.011853</td>\n",
       "      <td>0.000018</td>\n",
       "      <td>63.596395</td>\n",
       "      <td>0.169334</td>\n",
       "      <td>-0.002585</td>\n",
       "    </tr>\n",
       "    <tr>\n",
       "      <th>2020-08-06</th>\n",
       "      <td>0.171896</td>\n",
       "      <td>0.086887</td>\n",
       "      <td>0.086070</td>\n",
       "      <td>0.016713</td>\n",
       "      <td>0.003357</td>\n",
       "      <td>67.172569</td>\n",
       "      <td>0.181314</td>\n",
       "      <td>-0.007540</td>\n",
       "    </tr>\n",
       "  </tbody>\n",
       "</table>\n",
       "<p>6169 rows × 8 columns</p>\n",
       "</div>"
      ],
      "text/plain": [
       "               Close    20_SMA    50_SMA      MACD  MACD_Signal     RSI_14  \\\n",
       "Date                                                                         \n",
       "1996-02-05 -0.051980 -0.041878 -0.029986 -0.022839    -0.021595  48.650292   \n",
       "1996-02-06 -0.036407 -0.043395 -0.030233 -0.018700    -0.021016  50.968288   \n",
       "1996-02-07 -0.077967 -0.048902 -0.032001 -0.018559    -0.020524  45.115265   \n",
       "1996-02-08 -0.084936 -0.055433 -0.033892 -0.018793    -0.020178  44.198809   \n",
       "1996-02-09 -0.083254 -0.060156 -0.035594 -0.018628    -0.019868  44.491806   \n",
       "...              ...       ...       ...       ...          ...        ...   \n",
       "2020-07-31  0.139794  0.074798  0.079375 -0.005215    -0.007642  63.513921   \n",
       "2020-08-03  0.155437  0.077831  0.080935  0.002279    -0.005658  65.648580   \n",
       "2020-08-04  0.152995  0.081154  0.082413  0.007929    -0.002941  65.009243   \n",
       "2020-08-05  0.147823  0.083375  0.084003  0.011853     0.000018  63.596395   \n",
       "2020-08-06  0.171896  0.086887  0.086070  0.016713     0.003357  67.172569   \n",
       "\n",
       "            Upper_BB  Lower_BB  \n",
       "Date                            \n",
       "1996-02-05  0.068791 -0.152546  \n",
       "1996-02-06  0.066032 -0.152821  \n",
       "1996-02-07  0.055479 -0.153284  \n",
       "1996-02-08  0.039993 -0.150858  \n",
       "1996-02-09  0.030620 -0.150931  \n",
       "...              ...       ...  \n",
       "2020-07-31  0.139645  0.009951  \n",
       "2020-08-03  0.151664  0.003998  \n",
       "2020-08-04  0.162261  0.000047  \n",
       "2020-08-05  0.169334 -0.002585  \n",
       "2020-08-06  0.181314 -0.007540  \n",
       "\n",
       "[6169 rows x 8 columns]"
      ]
     },
     "execution_count": 41,
     "metadata": {},
     "output_type": "execute_result"
    }
   ],
   "source": [
    "apple"
   ]
  },
  {
   "cell_type": "code",
   "execution_count": 42,
   "id": "4570ac0d",
   "metadata": {},
   "outputs": [
    {
     "data": {
      "text/html": [
       "<div>\n",
       "<style scoped>\n",
       "    .dataframe tbody tr th:only-of-type {\n",
       "        vertical-align: middle;\n",
       "    }\n",
       "\n",
       "    .dataframe tbody tr th {\n",
       "        vertical-align: top;\n",
       "    }\n",
       "\n",
       "    .dataframe thead th {\n",
       "        text-align: right;\n",
       "    }\n",
       "</style>\n",
       "<table border=\"1\" class=\"dataframe\">\n",
       "  <thead>\n",
       "    <tr style=\"text-align: right;\">\n",
       "      <th></th>\n",
       "      <th>Close</th>\n",
       "      <th>20_SMA</th>\n",
       "      <th>50_SMA</th>\n",
       "      <th>MACD</th>\n",
       "      <th>MACD_Signal</th>\n",
       "      <th>RSI_14</th>\n",
       "      <th>Upper_BB</th>\n",
       "      <th>Lower_BB</th>\n",
       "    </tr>\n",
       "  </thead>\n",
       "  <tbody>\n",
       "    <tr>\n",
       "      <th>Close</th>\n",
       "      <td>1.000000</td>\n",
       "      <td>0.742270</td>\n",
       "      <td>0.525811</td>\n",
       "      <td>0.688289</td>\n",
       "      <td>0.635860</td>\n",
       "      <td>0.561128</td>\n",
       "      <td>0.499967</td>\n",
       "      <td>0.683203</td>\n",
       "    </tr>\n",
       "    <tr>\n",
       "      <th>20_SMA</th>\n",
       "      <td>0.742270</td>\n",
       "      <td>1.000000</td>\n",
       "      <td>0.800295</td>\n",
       "      <td>0.266548</td>\n",
       "      <td>0.462396</td>\n",
       "      <td>-0.004644</td>\n",
       "      <td>0.742595</td>\n",
       "      <td>0.869517</td>\n",
       "    </tr>\n",
       "    <tr>\n",
       "      <th>50_SMA</th>\n",
       "      <td>0.525811</td>\n",
       "      <td>0.800295</td>\n",
       "      <td>1.000000</td>\n",
       "      <td>-0.161597</td>\n",
       "      <td>-0.076836</td>\n",
       "      <td>-0.195040</td>\n",
       "      <td>0.588250</td>\n",
       "      <td>0.700328</td>\n",
       "    </tr>\n",
       "    <tr>\n",
       "      <th>MACD</th>\n",
       "      <td>0.688289</td>\n",
       "      <td>0.266548</td>\n",
       "      <td>-0.161597</td>\n",
       "      <td>1.000000</td>\n",
       "      <td>0.915846</td>\n",
       "      <td>0.677033</td>\n",
       "      <td>0.148050</td>\n",
       "      <td>0.268558</td>\n",
       "    </tr>\n",
       "    <tr>\n",
       "      <th>MACD_Signal</th>\n",
       "      <td>0.635860</td>\n",
       "      <td>0.462396</td>\n",
       "      <td>-0.076836</td>\n",
       "      <td>0.915846</td>\n",
       "      <td>1.000000</td>\n",
       "      <td>0.458602</td>\n",
       "      <td>0.321117</td>\n",
       "      <td>0.418474</td>\n",
       "    </tr>\n",
       "    <tr>\n",
       "      <th>RSI_14</th>\n",
       "      <td>0.561128</td>\n",
       "      <td>-0.004644</td>\n",
       "      <td>-0.195040</td>\n",
       "      <td>0.677033</td>\n",
       "      <td>0.458602</td>\n",
       "      <td>1.000000</td>\n",
       "      <td>-0.013000</td>\n",
       "      <td>0.003006</td>\n",
       "    </tr>\n",
       "    <tr>\n",
       "      <th>Upper_BB</th>\n",
       "      <td>0.499967</td>\n",
       "      <td>0.742595</td>\n",
       "      <td>0.588250</td>\n",
       "      <td>0.148050</td>\n",
       "      <td>0.321117</td>\n",
       "      <td>-0.013000</td>\n",
       "      <td>1.000000</td>\n",
       "      <td>0.314912</td>\n",
       "    </tr>\n",
       "    <tr>\n",
       "      <th>Lower_BB</th>\n",
       "      <td>0.683203</td>\n",
       "      <td>0.869517</td>\n",
       "      <td>0.700328</td>\n",
       "      <td>0.268558</td>\n",
       "      <td>0.418474</td>\n",
       "      <td>0.003006</td>\n",
       "      <td>0.314912</td>\n",
       "      <td>1.000000</td>\n",
       "    </tr>\n",
       "  </tbody>\n",
       "</table>\n",
       "</div>"
      ],
      "text/plain": [
       "                Close    20_SMA    50_SMA      MACD  MACD_Signal    RSI_14  \\\n",
       "Close        1.000000  0.742270  0.525811  0.688289     0.635860  0.561128   \n",
       "20_SMA       0.742270  1.000000  0.800295  0.266548     0.462396 -0.004644   \n",
       "50_SMA       0.525811  0.800295  1.000000 -0.161597    -0.076836 -0.195040   \n",
       "MACD         0.688289  0.266548 -0.161597  1.000000     0.915846  0.677033   \n",
       "MACD_Signal  0.635860  0.462396 -0.076836  0.915846     1.000000  0.458602   \n",
       "RSI_14       0.561128 -0.004644 -0.195040  0.677033     0.458602  1.000000   \n",
       "Upper_BB     0.499967  0.742595  0.588250  0.148050     0.321117 -0.013000   \n",
       "Lower_BB     0.683203  0.869517  0.700328  0.268558     0.418474  0.003006   \n",
       "\n",
       "             Upper_BB  Lower_BB  \n",
       "Close        0.499967  0.683203  \n",
       "20_SMA       0.742595  0.869517  \n",
       "50_SMA       0.588250  0.700328  \n",
       "MACD         0.148050  0.268558  \n",
       "MACD_Signal  0.321117  0.418474  \n",
       "RSI_14      -0.013000  0.003006  \n",
       "Upper_BB     1.000000  0.314912  \n",
       "Lower_BB     0.314912  1.000000  "
      ]
     },
     "execution_count": 42,
     "metadata": {},
     "output_type": "execute_result"
    }
   ],
   "source": [
    "apple.corr()"
   ]
  },
  {
   "cell_type": "markdown",
   "id": "1c20a35e",
   "metadata": {},
   "source": [
    "# Scaling and splitting the data"
   ]
  },
  {
   "cell_type": "code",
   "execution_count": 43,
   "id": "1c2477ee",
   "metadata": {},
   "outputs": [],
   "source": [
    "# Use time series split, not random 25%, it will use the last 25% of the data"
   ]
  },
  {
   "cell_type": "code",
   "execution_count": 44,
   "id": "3aac7304",
   "metadata": {},
   "outputs": [],
   "source": [
    "# First Attempt in Slitting the data"
   ]
  },
  {
   "cell_type": "code",
   "execution_count": 45,
   "id": "f1780af1",
   "metadata": {},
   "outputs": [],
   "source": [
    "from sklearn.model_selection import TimeSeriesSplit\n",
    "X = apple.loc[:,apple.columns !=  'Close']\n",
    "y = apple['Close']\n",
    "cv = TimeSeriesSplit(n_splits=3)"
   ]
  },
  {
   "cell_type": "code",
   "execution_count": 46,
   "id": "5cfd5e78",
   "metadata": {},
   "outputs": [
    {
     "data": {
      "text/plain": [
       "pandas.core.frame.DataFrame"
      ]
     },
     "execution_count": 46,
     "metadata": {},
     "output_type": "execute_result"
    }
   ],
   "source": [
    "type(X)"
   ]
  },
  {
   "cell_type": "code",
   "execution_count": 47,
   "id": "5162819b",
   "metadata": {},
   "outputs": [
    {
     "name": "stdout",
     "output_type": "stream",
     "text": [
      "TRAIN: [   0    1    2 ... 1540 1541 1542] TEST: [1543 1544 1545 ... 3082 3083 3084]\n",
      "TRAIN: [   0    1    2 ... 3082 3083 3084] TEST: [3085 3086 3087 ... 4624 4625 4626]\n",
      "TRAIN: [   0    1    2 ... 4624 4625 4626] TEST: [4627 4628 4629 ... 6166 6167 6168]\n"
     ]
    }
   ],
   "source": [
    "for train_index, test_index in cv.split(X):\n",
    "    print(\"TRAIN:\", train_index, \"TEST:\", test_index)\n",
    "    X_train, X_test = X.iloc[train_index], X.iloc[test_index]\n",
    "    y_train, y_test = y.iloc[train_index], y.iloc[test_index]"
   ]
  },
  {
   "cell_type": "code",
   "execution_count": 48,
   "id": "1ea8638e",
   "metadata": {},
   "outputs": [],
   "source": [
    "# Split into train and test data\n",
    "from sklearn.linear_model import LinearRegression\n",
    "from sklearn.preprocessing import LabelEncoder\n",
    "from sklearn.metrics import mean_squared_error\n",
    "#train_X, test_X, train_y,test_y = train_test_split(X,y,test_size=0.25, random_state=42)"
   ]
  },
  {
   "cell_type": "code",
   "execution_count": 49,
   "id": "f854100b",
   "metadata": {},
   "outputs": [
    {
     "name": "stdout",
     "output_type": "stream",
     "text": [
      "(4627, 7) (4627,)\n",
      "(1542, 7) (1542,)\n"
     ]
    }
   ],
   "source": [
    "# We now want to check the shape of the X train, y_train, X_test and y_test to make sure the proportions are right. \n",
    "print(X_train.shape, y_train.shape)\n",
    "print(X_test.shape, y_test.shape)"
   ]
  },
  {
   "cell_type": "markdown",
   "id": "f009cac7",
   "metadata": {},
   "source": [
    "# Build Model"
   ]
  },
  {
   "cell_type": "code",
   "execution_count": 50,
   "id": "8ef250e7",
   "metadata": {},
   "outputs": [
    {
     "data": {
      "text/plain": [
       "LinearRegression()"
      ]
     },
     "execution_count": 50,
     "metadata": {},
     "output_type": "execute_result"
    }
   ],
   "source": [
    "#Creating the Regressor\n",
    "regressor = LinearRegression()\n",
    "regressor.fit(X_train,y_train)"
   ]
  },
  {
   "cell_type": "markdown",
   "id": "94a348db",
   "metadata": {},
   "source": [
    "# Make Predictions"
   ]
  },
  {
   "cell_type": "code",
   "execution_count": 96,
   "id": "051169e5",
   "metadata": {},
   "outputs": [
    {
     "name": "stdout",
     "output_type": "stream",
     "text": [
      "Prediction Score :  0.04821159145879905\n",
      "Mean Squared Error :  0.0023107109824894727\n",
      "Root Mean Squared Error: 0.012288468392527719\n"
     ]
    }
   ],
   "source": [
    "#Make Predictions and Evaluate the results\n",
    "predict_y = regressor.predict(X_test)\n",
    "print('Prediction Score : ' , regressor.score(X_test,y_test))\n",
    "print('Mean Squared Error : ',mean_squared_error(y_test,predict_y))\n",
    "print('Root Mean Squared Error:', np.sqrt(mean_squared_error(y_test, y_pred)))"
   ]
  },
  {
   "cell_type": "code",
   "execution_count": 52,
   "id": "7699e9a1",
   "metadata": {},
   "outputs": [],
   "source": [
    "# Order the data by the date\n",
    "new_df=X_test.merge(y_test, left_index=True, right_index=True)"
   ]
  },
  {
   "cell_type": "code",
   "execution_count": 81,
   "id": "22de0181",
   "metadata": {},
   "outputs": [
    {
     "data": {
      "text/html": [
       "<div>\n",
       "<style scoped>\n",
       "    .dataframe tbody tr th:only-of-type {\n",
       "        vertical-align: middle;\n",
       "    }\n",
       "\n",
       "    .dataframe tbody tr th {\n",
       "        vertical-align: top;\n",
       "    }\n",
       "\n",
       "    .dataframe thead th {\n",
       "        text-align: right;\n",
       "    }\n",
       "</style>\n",
       "<table border=\"1\" class=\"dataframe\">\n",
       "  <thead>\n",
       "    <tr style=\"text-align: right;\">\n",
       "      <th></th>\n",
       "      <th>20_SMA</th>\n",
       "      <th>50_SMA</th>\n",
       "      <th>MACD</th>\n",
       "      <th>MACD_Signal</th>\n",
       "      <th>RSI_14</th>\n",
       "      <th>Upper_BB</th>\n",
       "      <th>Lower_BB</th>\n",
       "      <th>Close</th>\n",
       "      <th>Predition</th>\n",
       "    </tr>\n",
       "    <tr>\n",
       "      <th>Date</th>\n",
       "      <th></th>\n",
       "      <th></th>\n",
       "      <th></th>\n",
       "      <th></th>\n",
       "      <th></th>\n",
       "      <th></th>\n",
       "      <th></th>\n",
       "      <th></th>\n",
       "      <th></th>\n",
       "    </tr>\n",
       "  </thead>\n",
       "  <tbody>\n",
       "    <tr>\n",
       "      <th>2014-06-24</th>\n",
       "      <td>0.060441</td>\n",
       "      <td>0.054333</td>\n",
       "      <td>-0.008920</td>\n",
       "      <td>-0.002265</td>\n",
       "      <td>32.509123</td>\n",
       "      <td>0.105195</td>\n",
       "      <td>0.015687</td>\n",
       "      <td>0.017336</td>\n",
       "      <td>-0.099029</td>\n",
       "    </tr>\n",
       "    <tr>\n",
       "      <th>2014-06-25</th>\n",
       "      <td>0.057688</td>\n",
       "      <td>0.055026</td>\n",
       "      <td>-0.010335</td>\n",
       "      <td>-0.003879</td>\n",
       "      <td>32.464659</td>\n",
       "      <td>0.106013</td>\n",
       "      <td>0.009363</td>\n",
       "      <td>0.017199</td>\n",
       "      <td>-0.099853</td>\n",
       "    </tr>\n",
       "    <tr>\n",
       "      <th>2014-06-26</th>\n",
       "      <td>0.054519</td>\n",
       "      <td>0.055927</td>\n",
       "      <td>-0.010955</td>\n",
       "      <td>-0.005294</td>\n",
       "      <td>35.692568</td>\n",
       "      <td>0.103542</td>\n",
       "      <td>0.005495</td>\n",
       "      <td>0.021858</td>\n",
       "      <td>-0.075843</td>\n",
       "    </tr>\n",
       "    <tr>\n",
       "      <th>2014-06-27</th>\n",
       "      <td>0.052261</td>\n",
       "      <td>0.056962</td>\n",
       "      <td>-0.010524</td>\n",
       "      <td>-0.006340</td>\n",
       "      <td>42.045573</td>\n",
       "      <td>0.101099</td>\n",
       "      <td>0.003424</td>\n",
       "      <td>0.031779</td>\n",
       "      <td>-0.036009</td>\n",
       "    </tr>\n",
       "    <tr>\n",
       "      <th>2014-06-30</th>\n",
       "      <td>0.050941</td>\n",
       "      <td>0.057919</td>\n",
       "      <td>-0.009435</td>\n",
       "      <td>-0.006959</td>\n",
       "      <td>46.579609</td>\n",
       "      <td>0.099631</td>\n",
       "      <td>0.002251</td>\n",
       "      <td>0.039694</td>\n",
       "      <td>-0.011247</td>\n",
       "    </tr>\n",
       "    <tr>\n",
       "      <th>...</th>\n",
       "      <td>...</td>\n",
       "      <td>...</td>\n",
       "      <td>...</td>\n",
       "      <td>...</td>\n",
       "      <td>...</td>\n",
       "      <td>...</td>\n",
       "      <td>...</td>\n",
       "      <td>...</td>\n",
       "      <td>...</td>\n",
       "    </tr>\n",
       "    <tr>\n",
       "      <th>2020-07-31</th>\n",
       "      <td>0.074798</td>\n",
       "      <td>0.079375</td>\n",
       "      <td>-0.005215</td>\n",
       "      <td>-0.007642</td>\n",
       "      <td>63.513921</td>\n",
       "      <td>0.139645</td>\n",
       "      <td>0.009951</td>\n",
       "      <td>0.139794</td>\n",
       "      <td>0.102305</td>\n",
       "    </tr>\n",
       "    <tr>\n",
       "      <th>2020-08-03</th>\n",
       "      <td>0.077831</td>\n",
       "      <td>0.080935</td>\n",
       "      <td>0.002279</td>\n",
       "      <td>-0.005658</td>\n",
       "      <td>65.648580</td>\n",
       "      <td>0.151664</td>\n",
       "      <td>0.003998</td>\n",
       "      <td>0.155437</td>\n",
       "      <td>0.120807</td>\n",
       "    </tr>\n",
       "    <tr>\n",
       "      <th>2020-08-04</th>\n",
       "      <td>0.081154</td>\n",
       "      <td>0.082413</td>\n",
       "      <td>0.007929</td>\n",
       "      <td>-0.002941</td>\n",
       "      <td>65.009243</td>\n",
       "      <td>0.162261</td>\n",
       "      <td>0.000047</td>\n",
       "      <td>0.152995</td>\n",
       "      <td>0.115689</td>\n",
       "    </tr>\n",
       "    <tr>\n",
       "      <th>2020-08-05</th>\n",
       "      <td>0.083375</td>\n",
       "      <td>0.084003</td>\n",
       "      <td>0.011853</td>\n",
       "      <td>0.000018</td>\n",
       "      <td>63.596395</td>\n",
       "      <td>0.169334</td>\n",
       "      <td>-0.002585</td>\n",
       "      <td>0.147823</td>\n",
       "      <td>0.104093</td>\n",
       "    </tr>\n",
       "    <tr>\n",
       "      <th>2020-08-06</th>\n",
       "      <td>0.086887</td>\n",
       "      <td>0.086070</td>\n",
       "      <td>0.016713</td>\n",
       "      <td>0.003357</td>\n",
       "      <td>67.172569</td>\n",
       "      <td>0.181314</td>\n",
       "      <td>-0.007540</td>\n",
       "      <td>0.171896</td>\n",
       "      <td>0.135520</td>\n",
       "    </tr>\n",
       "  </tbody>\n",
       "</table>\n",
       "<p>1542 rows × 9 columns</p>\n",
       "</div>"
      ],
      "text/plain": [
       "              20_SMA    50_SMA      MACD  MACD_Signal     RSI_14  Upper_BB  \\\n",
       "Date                                                                         \n",
       "2014-06-24  0.060441  0.054333 -0.008920    -0.002265  32.509123  0.105195   \n",
       "2014-06-25  0.057688  0.055026 -0.010335    -0.003879  32.464659  0.106013   \n",
       "2014-06-26  0.054519  0.055927 -0.010955    -0.005294  35.692568  0.103542   \n",
       "2014-06-27  0.052261  0.056962 -0.010524    -0.006340  42.045573  0.101099   \n",
       "2014-06-30  0.050941  0.057919 -0.009435    -0.006959  46.579609  0.099631   \n",
       "...              ...       ...       ...          ...        ...       ...   \n",
       "2020-07-31  0.074798  0.079375 -0.005215    -0.007642  63.513921  0.139645   \n",
       "2020-08-03  0.077831  0.080935  0.002279    -0.005658  65.648580  0.151664   \n",
       "2020-08-04  0.081154  0.082413  0.007929    -0.002941  65.009243  0.162261   \n",
       "2020-08-05  0.083375  0.084003  0.011853     0.000018  63.596395  0.169334   \n",
       "2020-08-06  0.086887  0.086070  0.016713     0.003357  67.172569  0.181314   \n",
       "\n",
       "            Lower_BB     Close  Predition  \n",
       "Date                                       \n",
       "2014-06-24  0.015687  0.017336  -0.099029  \n",
       "2014-06-25  0.009363  0.017199  -0.099853  \n",
       "2014-06-26  0.005495  0.021858  -0.075843  \n",
       "2014-06-27  0.003424  0.031779  -0.036009  \n",
       "2014-06-30  0.002251  0.039694  -0.011247  \n",
       "...              ...       ...        ...  \n",
       "2020-07-31  0.009951  0.139794   0.102305  \n",
       "2020-08-03  0.003998  0.155437   0.120807  \n",
       "2020-08-04  0.000047  0.152995   0.115689  \n",
       "2020-08-05 -0.002585  0.147823   0.104093  \n",
       "2020-08-06 -0.007540  0.171896   0.135520  \n",
       "\n",
       "[1542 rows x 9 columns]"
      ]
     },
     "execution_count": 81,
     "metadata": {},
     "output_type": "execute_result"
    }
   ],
   "source": [
    "new_df['Predition'] = predict_y\n",
    "new_df"
   ]
  },
  {
   "cell_type": "code",
   "execution_count": 56,
   "id": "d5a85d8c",
   "metadata": {},
   "outputs": [],
   "source": [
    "new_df.sort_index(inplace=True)"
   ]
  },
  {
   "cell_type": "code",
   "execution_count": 57,
   "id": "b8379c07",
   "metadata": {},
   "outputs": [
    {
     "data": {
      "image/png": "[encoded data removed]",
      "text/plain": [
       "<Figure size 432x288 with 1 Axes>"
      ]
     },
     "metadata": {
      "needs_background": "light"
     },
     "output_type": "display_data"
    }
   ],
   "source": [
    "#Plot the predicted and the expected values as scatterplot\n",
    "fig = plt.figure()\n",
    "plt.plot(new_df.index,new_df['Predition'])\n",
    "plt.plot(new_df.index,new_df['Close'])\n",
    "plt.show()"
   ]
  },
  {
   "cell_type": "markdown",
   "id": "bf451037",
   "metadata": {},
   "source": [
    "# Random Forest"
   ]
  },
  {
   "cell_type": "code",
   "execution_count": 107,
   "id": "f8b6389c",
   "metadata": {},
   "outputs": [
    {
     "data": {
      "text/plain": [
       "RandomForestRegressor(n_estimators=1000, random_state=42)"
      ]
     },
     "execution_count": 107,
     "metadata": {},
     "output_type": "execute_result"
    }
   ],
   "source": [
    "from sklearn.ensemble import RandomForestRegressor\n",
    "# Instantiate model with 1000 decision trees\n",
    "rf = RandomForestRegressor(n_estimators = 1000, random_state = 42)\n",
    "# Train the model on training data\n",
    "rf.fit(X_train, y_train)"
   ]
  },
  {
   "cell_type": "code",
   "execution_count": 108,
   "id": "aa039bd4",
   "metadata": {},
   "outputs": [
    {
     "name": "stdout",
     "output_type": "stream",
     "text": [
      "Mean Absolute Error: 0.01 degrees.\n",
      "Mean Squared Error: 0.00013290263212934524\n",
      "Root Mean Squared Error: 0.011528340389203697\n"
     ]
    }
   ],
   "source": [
    "# Use the forest's predict method on the test data\n",
    "predictions = rf.predict(X_test)\n",
    "# Calculate the absolute errors\n",
    "errors = abs(predictions - y_test)\n",
    "# Print out the mean absolute error (mae)\n",
    "print('Mean Absolute Error:', round(np.mean(errors), 2), 'degrees.')\n",
    "print('Mean Squared Error:', mean_squared_error(y_test, predictions))\n",
    "print('Root Mean Squared Error:', np.sqrt(mean_squared_error(y_test, predictions)))"
   ]
  },
  {
   "cell_type": "markdown",
   "id": "eb55b8a6",
   "metadata": {},
   "source": [
    "# SVM"
   ]
  },
  {
   "cell_type": "code",
   "execution_count": 61,
   "id": "3e15ba61",
   "metadata": {},
   "outputs": [
    {
     "data": {
      "text/plain": [
       "SVR()"
      ]
     },
     "execution_count": 61,
     "metadata": {},
     "output_type": "execute_result"
    }
   ],
   "source": [
    "from sklearn.svm import SVR\n",
    "regressor = SVR(kernel = 'rbf')\n",
    "regressor.fit(X_train, y_train)"
   ]
  },
  {
   "cell_type": "code",
   "execution_count": 62,
   "id": "16f7bec6",
   "metadata": {},
   "outputs": [
    {
     "name": "stdout",
     "output_type": "stream",
     "text": [
      "[-0.09902869 -0.09985332 -0.07584286 ...  0.11568916  0.1040928\n",
      "  0.13551982]\n"
     ]
    }
   ],
   "source": [
    "y_pred = regressor.predict(X_test)\n",
    "#y_pred = y.inverse_transform(y_pred) \n",
    "print(y_pred)"
   ]
  },
  {
   "cell_type": "code",
   "execution_count": 84,
   "id": "b73bd1c4",
   "metadata": {},
   "outputs": [
    {
     "name": "stdout",
     "output_type": "stream",
     "text": [
      "R-squared: 0.5165197437684835\n",
      "MSE: 0.00013614606977148679\n",
      "Root-mean-squared-error: 0.011668164798779917\n"
     ]
    }
   ],
   "source": [
    "score = regressor.score(X_train,y_train)\n",
    "print(\"R-squared:\", score)\n",
    "print(\"MSE:\", mean_squared_error(y_test,y_pred))\n",
    "print(\"Root-mean-squared-error:\",np.sqrt(mean_squared_error(y_test,y_pred)))"
   ]
  },
  {
   "cell_type": "markdown",
   "id": "800c1b0e",
   "metadata": {},
   "source": [
    "# Gradient Boosted Trees"
   ]
  },
  {
   "cell_type": "code",
   "execution_count": 90,
   "id": "7e28e365",
   "metadata": {},
   "outputs": [],
   "source": [
    "from sklearn import datasets, ensemble\n",
    "from sklearn.inspection import permutation_importance\n",
    "from sklearn.metrics import mean_squared_error"
   ]
  },
  {
   "cell_type": "code",
   "execution_count": 91,
   "id": "59ff0df7",
   "metadata": {},
   "outputs": [],
   "source": [
    "params = {'n_estimators': 1000,\n",
    "          'max_depth': 4,\n",
    "          'min_samples_split': 5,\n",
    "          'learning_rate': 0.01,\n",
    "          'loss': 'ls'}"
   ]
  },
  {
   "cell_type": "code",
   "execution_count": 92,
   "id": "1f6a36b7",
   "metadata": {},
   "outputs": [
    {
     "name": "stdout",
     "output_type": "stream",
     "text": [
      "R-squared: 0.991234160803931\n",
      "The mean squared error (MSE) on test set: 0.0002\n",
      "Root-mean-squared-error: 0.012288468392527719\n"
     ]
    }
   ],
   "source": [
    "reg = ensemble.GradientBoostingRegressor(**params)\n",
    "reg.fit(X_train, y_train)\n",
    "score = reg.score(X_train,y_train)\n",
    "mse = mean_squared_error(y_test, reg.predict(X_test))\n",
    "print(\"R-squared:\", score)\n",
    "print(\"The mean squared error (MSE) on test set: {:.4f}\".format(mse))\n",
    "print(\"Root-mean-squared-error:\",np.sqrt(mse))"
   ]
  },
  {
   "cell_type": "code",
   "execution_count": 93,
   "id": "b8ead4df",
   "metadata": {},
   "outputs": [
    {
     "data": {
      "image/png": "[encoded data removed]",
      "text/plain": [
       "<Figure size 432x432 with 1 Axes>"
      ]
     },
     "metadata": {
      "needs_background": "light"
     },
     "output_type": "display_data"
    }
   ],
   "source": [
    "# Plot training deviance\n",
    "\n",
    "test_score = np.zeros((params['n_estimators'],), dtype=np.float64)\n",
    "for i, y_pred in enumerate(reg.staged_predict(X_test)):\n",
    "    test_score[i] = reg.loss_(y_test, y_pred)\n",
    "\n",
    "fig = plt.figure(figsize=(6, 6))\n",
    "plt.subplot(1, 1, 1)\n",
    "#plt.title('Deviance')\n",
    "plt.plot(np.arange(params['n_estimators']) + 1, reg.train_score_, 'b-',\n",
    "         label='Training Set Deviance')\n",
    "plt.plot(np.arange(params['n_estimators']) + 1, test_score, 'r-',\n",
    "         label='Test Set Deviance')\n",
    "plt.legend(loc='upper right')\n",
    "#plt.xlabel('Boosting Iterations')\n",
    "#plt.ylabel('Deviance')\n",
    "fig.tight_layout()\n",
    "plt.show()"
   ]
  },
  {
   "cell_type": "code",
   "execution_count": 94,
   "id": "97004d24",
   "metadata": {},
   "outputs": [
    {
     "name": "stdout",
     "output_type": "stream",
     "text": [
      "MAE: -62.461 (3.245)\n"
     ]
    }
   ],
   "source": [
    "# evaluate gradient boosting ensemble for regression\n",
    "from numpy import mean\n",
    "from numpy import std\n",
    "from sklearn.datasets import make_regression\n",
    "from sklearn.model_selection import cross_val_score\n",
    "from sklearn.model_selection import RepeatedKFold\n",
    "from sklearn.ensemble import GradientBoostingRegressor\n",
    "# define dataset\n",
    "X, y = make_regression(n_samples=1000, n_features=20, n_informative=15, noise=0.1, random_state=7)\n",
    "# define the model\n",
    "model = GradientBoostingRegressor()\n",
    "# define the evaluation procedure\n",
    "cv = RepeatedKFold(n_splits=10, n_repeats=3, random_state=1)\n",
    "# evaluate the model\n",
    "n_scores = cross_val_score(model, X, y, scoring='neg_mean_absolute_error', cv=cv, n_jobs=-1)\n",
    "# report performance\n",
    "print('MAE: %.3f (%.3f)' % (mean(n_scores), std(n_scores)))"
   ]
  },
  {
   "cell_type": "code",
   "execution_count": 95,
   "id": "2827864d",
   "metadata": {},
   "outputs": [
    {
     "name": "stdout",
     "output_type": "stream",
     "text": [
      "Prediction: 37\n"
     ]
    }
   ],
   "source": [
    "# gradient boosting ensemble for making predictions for regression\n",
    "from sklearn.datasets import make_regression\n",
    "from sklearn.ensemble import GradientBoostingRegressor\n",
    "# define dataset\n",
    "X, y = make_regression(n_samples=1000, n_features=20, n_informative=15, noise=0.1, random_state=7)\n",
    "# define the model\n",
    "model = GradientBoostingRegressor()\n",
    "# fit the model on the whole dataset\n",
    "model.fit(X, y)\n",
    "# make a single prediction\n",
    "row = [0.20543991, -0.97049844, -0.81403429, -0.23842689, -0.60704084, -0.48541492, 0.53113006, 2.01834338, -0.90745243, -1.85859731, -1.02334791, -0.6877744, 0.60984819, -0.70630121, -1.29161497, 1.32385441, 1.42150747, 1.26567231, 2.56569098, -0.11154792]\n",
    "yhat = model.predict([row])\n",
    "# summarize prediction\n",
    "print('Prediction: %d' % yhat[0])"
   ]
  },
  {
   "cell_type": "code",
   "execution_count": null,
   "id": "1dc1e43d",
   "metadata": {},
   "outputs": [],
   "source": [
    "# Optimizing (grid search cv, modify the hyper parameters)\n",
    "# pick the fav model (based on the score)"
   ]
  },
  {
   "cell_type": "code",
   "execution_count": null,
   "id": "deb13075",
   "metadata": {},
   "outputs": [],
   "source": [
    "# I have picked Random Forest"
   ]
  },
  {
   "cell_type": "code",
   "execution_count": 109,
   "id": "a033a9af",
   "metadata": {},
   "outputs": [
    {
     "name": "stdout",
     "output_type": "stream",
     "text": [
      "Parameters currently in use:\n",
      "\n",
      "{'bootstrap': True,\n",
      " 'ccp_alpha': 0.0,\n",
      " 'criterion': 'mse',\n",
      " 'max_depth': None,\n",
      " 'max_features': 'auto',\n",
      " 'max_leaf_nodes': None,\n",
      " 'max_samples': None,\n",
      " 'min_impurity_decrease': 0.0,\n",
      " 'min_impurity_split': None,\n",
      " 'min_samples_leaf': 1,\n",
      " 'min_samples_split': 2,\n",
      " 'min_weight_fraction_leaf': 0.0,\n",
      " 'n_estimators': 1000,\n",
      " 'n_jobs': None,\n",
      " 'oob_score': False,\n",
      " 'random_state': 42,\n",
      " 'verbose': 0,\n",
      " 'warm_start': False}\n"
     ]
    }
   ],
   "source": [
    "from pprint import pprint\n",
    "print('Parameters currently in use:\\n')\n",
    "pprint(rf.get_params())"
   ]
  },
  {
   "cell_type": "code",
   "execution_count": 110,
   "id": "87feae0d",
   "metadata": {},
   "outputs": [
    {
     "name": "stdout",
     "output_type": "stream",
     "text": [
      "{'n_estimators': [200, 400, 600, 800, 1000, 1200, 1400, 1600, 1800, 2000], 'max_features': ['auto', 'sqrt'], 'max_depth': [10, 20, 30, 40, 50, 60, 70, 80, 90, 100, 110, None], 'min_samples_split': [2, 5, 10], 'min_samples_leaf': [1, 2, 4], 'bootstrap': [True, False]}\n"
     ]
    }
   ],
   "source": [
    "from sklearn.model_selection import RandomizedSearchCV\n",
    "\n",
    "# Number of trees in random forest\n",
    "n_estimators = [int(x) for x in np.linspace(start = 200, stop = 2000, num = 10)]\n",
    "# Number of features to consider at every split\n",
    "max_features = ['auto', 'sqrt']\n",
    "# Maximum number of levels in tree\n",
    "max_depth = [int(x) for x in np.linspace(10, 110, num = 11)]\n",
    "max_depth.append(None)\n",
    "# Minimum number of samples required to split a node\n",
    "min_samples_split = [2, 5, 10]\n",
    "# Minimum number of samples required at each leaf node\n",
    "min_samples_leaf = [1, 2, 4]\n",
    "# Method of selecting samples for training each tree\n",
    "bootstrap = [True, False]\n",
    "# Create the random grid\n",
    "random_grid = {'n_estimators': n_estimators,\n",
    "               'max_features': max_features,\n",
    "               'max_depth': max_depth,\n",
    "               'min_samples_split': min_samples_split,\n",
    "               'min_samples_leaf': min_samples_leaf,\n",
    "               'bootstrap': bootstrap}\n",
    "print(random_grid)"
   ]
  },
  {
   "cell_type": "code",
   "execution_count": 100,
   "id": "25650110",
   "metadata": {},
   "outputs": [
    {
     "name": "stdout",
     "output_type": "stream",
     "text": [
      "Fitting 3 folds for each of 100 candidates, totalling 300 fits\n"
     ]
    },
    {
     "data": {
      "text/plain": [
       "RandomizedSearchCV(cv=3, estimator=RandomForestRegressor(), n_iter=100,\n",
       "                   n_jobs=-1,\n",
       "                   param_distributions={'bootstrap': [True, False],\n",
       "                                        'max_depth': [10, 20, 30, 40, 50, 60,\n",
       "                                                      70, 80, 90, 100, 110,\n",
       "                                                      None],\n",
       "                                        'max_features': ['auto', 'sqrt'],\n",
       "                                        'min_samples_leaf': [1, 2, 4],\n",
       "                                        'min_samples_split': [2, 5, 10],\n",
       "                                        'n_estimators': [200, 400, 600, 800,\n",
       "                                                         1000, 1200, 1400, 1600,\n",
       "                                                         1800, 2000]},\n",
       "                   random_state=42, verbose=2)"
      ]
     },
     "execution_count": 100,
     "metadata": {},
     "output_type": "execute_result"
    }
   ],
   "source": [
    "# Use the random grid to search for best hyperparameters\n",
    "# First create the base model to tune\n",
    "rf = RandomForestRegressor()\n",
    "# Random search of parameters, using 3 fold cross validation, \n",
    "# search across 100 different combinations, and use all available cores\n",
    "rf_random = RandomizedSearchCV(estimator = rf, param_distributions = random_grid, n_iter = 100, cv = 3, verbose=2, random_state=42, n_jobs = -1)\n",
    "# Fit the random search model\n",
    "rf_random.fit(X_train, y_train)"
   ]
  },
  {
   "cell_type": "code",
   "execution_count": 103,
   "id": "07b58b4a",
   "metadata": {},
   "outputs": [
    {
     "data": {
      "text/plain": [
       "{'n_estimators': 1800,\n",
       " 'min_samples_split': 2,\n",
       " 'min_samples_leaf': 2,\n",
       " 'max_features': 'auto',\n",
       " 'max_depth': None,\n",
       " 'bootstrap': True}"
      ]
     },
     "execution_count": 103,
     "metadata": {},
     "output_type": "execute_result"
    }
   ],
   "source": [
    "rf_random.best_params_"
   ]
  },
  {
   "cell_type": "code",
   "execution_count": 115,
   "id": "32d6d9bc",
   "metadata": {},
   "outputs": [
    {
     "name": "stdout",
     "output_type": "stream",
     "text": [
      "Model Performance\n",
      "Average Error: 0.0077 degrees.\n",
      "MSE = 0.00%.\n",
      "Model Performance\n",
      "Average Error: 0.0073 degrees.\n",
      "MSE = 0.00%.\n",
      "Improvement of 0.76%.\n"
     ]
    }
   ],
   "source": [
    "def evaluate(model, X_test, y_test):\n",
    "    predictions = model.predict(X_test)\n",
    "    errors = abs(predictions - y_test)\n",
    "    mse = mean_squared_error(y_test, predictions)\n",
    "    print('Model Performance')\n",
    "    print('Average Error: {:0.4f} degrees.'.format(np.mean(errors)))\n",
    "    print('MSE = {:0.2f}%.'.format(mse))\n",
    "    \n",
    "    return mse\n",
    "\n",
    "base_model = RandomForestRegressor(n_estimators = 10, random_state = 42)\n",
    "base_model.fit(X_train, y_train)\n",
    "base_mse = evaluate(base_model, X_test, y_test)\n",
    "\n",
    "best_random = rf_random.best_estimator_\n",
    "random_mse = evaluate(best_random, X_test, y_test)\n",
    "\n",
    "print('Improvement of {:0.2f}%.'.format( 100 * (base_mse - random_mse) / base_mse))\n"
   ]
  },
  {
   "cell_type": "code",
   "execution_count": 120,
   "id": "304693f5",
   "metadata": {},
   "outputs": [],
   "source": [
    "# Grid Search CV\n",
    "from sklearn.model_selection import GridSearchCV\n",
    "# Create the parameter grid based on the results of random search \n",
    "param_grid = {'n_estimators': [1400,1600, 1800, 2000],\n",
    " 'min_samples_split':[2] ,\n",
    " 'min_samples_leaf': [2],\n",
    " 'max_features': ['auto'],\n",
    " 'max_depth': [None],\n",
    " 'bootstrap': [True]}\n",
    "# Create a based model\n",
    "rf = RandomForestRegressor(random_state=42)\n",
    "# Instantiate the grid search model\n",
    "grid_search = GridSearchCV(estimator = rf, param_grid = param_grid, \n",
    "                          cv = 3, n_jobs = -1, verbose = 2)"
   ]
  },
  {
   "cell_type": "code",
   "execution_count": 121,
   "id": "d0cfc71a",
   "metadata": {},
   "outputs": [
    {
     "name": "stdout",
     "output_type": "stream",
     "text": [
      "Fitting 3 folds for each of 4 candidates, totalling 12 fits\n"
     ]
    },
    {
     "data": {
      "text/plain": [
       "{'bootstrap': True,\n",
       " 'max_depth': None,\n",
       " 'max_features': 'auto',\n",
       " 'min_samples_leaf': 2,\n",
       " 'min_samples_split': 2,\n",
       " 'n_estimators': 2000}"
      ]
     },
     "execution_count": 121,
     "metadata": {},
     "output_type": "execute_result"
    }
   ],
   "source": [
    "# Fit the grid search to the data\n",
    "grid_search.fit(X_train, y_train)\n",
    "grid_search.best_params_"
   ]
  },
  {
   "cell_type": "code",
   "execution_count": 122,
   "id": "d32fc697",
   "metadata": {},
   "outputs": [
    {
     "name": "stdout",
     "output_type": "stream",
     "text": [
      "Model Performance\n",
      "Average Error: 0.0072 degrees.\n",
      "MSE = 0.00%.\n",
      "Improvement of 4.44%.\n"
     ]
    }
   ],
   "source": [
    "best_grid = grid_search.best_estimator_\n",
    "grid_mse = evaluate(best_grid, X_test, y_test)\n",
    "\n",
    "print('Improvement of {:0.2f}%.'.format( 100 * (base_mse - grid_mse) / base_mse))"
   ]
  },
  {
   "cell_type": "code",
   "execution_count": null,
   "id": "f84a3c92",
   "metadata": {},
   "outputs": [],
   "source": [
    "# do the visualization for all the algorithms and the main grid"
   ]
  },
  {
   "cell_type": "code",
   "execution_count": null,
   "id": "3338318b",
   "metadata": {},
   "outputs": [],
   "source": [
    "# summary"
   ]
  }
 ],
 "metadata": {
  "kernelspec": {
   "display_name": "Python 3",
   "language": "python",
   "name": "python3"
  },
  "language_info": {
   "codemirror_mode": {
    "name": "ipython",
    "version": 3
   },
   "file_extension": ".py",
   "mimetype": "text/x-python",
   "name": "python",
   "nbconvert_exporter": "python",
   "pygments_lexer": "ipython3",
   "version": "3.7.6"
  }
 },
 "nbformat": 4,
 "nbformat_minor": 5
}
