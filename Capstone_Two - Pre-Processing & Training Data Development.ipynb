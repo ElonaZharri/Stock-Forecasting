{
 "cells": [
  {
   "cell_type": "markdown",
   "id": "c0c1f4c5",
   "metadata": {},
   "source": [
    "# Stock Forecasting"
   ]
  },
  {
   "cell_type": "markdown",
   "id": "3ceb103c",
   "metadata": {},
   "source": [
    "Time Series is a collection of data points collected at constant time intervals.\n",
    "It is time dependent. \n",
    "Along with an increasing or decreasing trend, most TS have some form of seasonality trends, i.e. variations specific to a particular time frame. For example, if you see the sales of a woolen jacket over time, you will invariably find higher sales in winter seasons."
   ]
  },
  {
   "cell_type": "code",
   "execution_count": 68,
   "id": "c1379f22",
   "metadata": {},
   "outputs": [],
   "source": [
    "import numpy as np\n",
    "import pandas as pd\n",
    "import matplotlib.pyplot as plt\n",
    "import seaborn as sns\n",
    "from datetime import datetime"
   ]
  },
  {
   "cell_type": "markdown",
   "id": "31ef5a4b",
   "metadata": {},
   "source": [
    "# Loading and Handling Time Series in Pandas"
   ]
  },
  {
   "cell_type": "code",
   "execution_count": 69,
   "id": "31988e0f",
   "metadata": {},
   "outputs": [
    {
     "data": {
      "text/html": [
       "<div>\n",
       "<style scoped>\n",
       "    .dataframe tbody tr th:only-of-type {\n",
       "        vertical-align: middle;\n",
       "    }\n",
       "\n",
       "    .dataframe tbody tr th {\n",
       "        vertical-align: top;\n",
       "    }\n",
       "\n",
       "    .dataframe thead th {\n",
       "        text-align: right;\n",
       "    }\n",
       "</style>\n",
       "<table border=\"1\" class=\"dataframe\">\n",
       "  <thead>\n",
       "    <tr style=\"text-align: right;\">\n",
       "      <th></th>\n",
       "      <th>Date</th>\n",
       "      <th>Open</th>\n",
       "      <th>High</th>\n",
       "      <th>Low</th>\n",
       "      <th>Close</th>\n",
       "      <th>Adj Close</th>\n",
       "      <th>Volume</th>\n",
       "    </tr>\n",
       "  </thead>\n",
       "  <tbody>\n",
       "    <tr>\n",
       "      <th>0</th>\n",
       "      <td>1996-01-02</td>\n",
       "      <td>1.151786</td>\n",
       "      <td>1.151786</td>\n",
       "      <td>1.133929</td>\n",
       "      <td>1.147321</td>\n",
       "      <td>0.993233</td>\n",
       "      <td>34823600</td>\n",
       "    </tr>\n",
       "    <tr>\n",
       "      <th>1</th>\n",
       "      <td>1996-01-03</td>\n",
       "      <td>1.142857</td>\n",
       "      <td>1.174107</td>\n",
       "      <td>1.138393</td>\n",
       "      <td>1.147321</td>\n",
       "      <td>0.993233</td>\n",
       "      <td>107458400</td>\n",
       "    </tr>\n",
       "    <tr>\n",
       "      <th>2</th>\n",
       "      <td>1996-01-04</td>\n",
       "      <td>1.156250</td>\n",
       "      <td>1.156250</td>\n",
       "      <td>1.120536</td>\n",
       "      <td>1.127232</td>\n",
       "      <td>0.975842</td>\n",
       "      <td>75045600</td>\n",
       "    </tr>\n",
       "    <tr>\n",
       "      <th>3</th>\n",
       "      <td>1996-01-05</td>\n",
       "      <td>1.129464</td>\n",
       "      <td>1.223214</td>\n",
       "      <td>1.120536</td>\n",
       "      <td>1.223214</td>\n",
       "      <td>1.058933</td>\n",
       "      <td>111482000</td>\n",
       "    </tr>\n",
       "    <tr>\n",
       "      <th>4</th>\n",
       "      <td>1996-01-08</td>\n",
       "      <td>1.232143</td>\n",
       "      <td>1.267857</td>\n",
       "      <td>1.214286</td>\n",
       "      <td>1.236607</td>\n",
       "      <td>1.070527</td>\n",
       "      <td>30335200</td>\n",
       "    </tr>\n",
       "  </tbody>\n",
       "</table>\n",
       "</div>"
      ],
      "text/plain": [
       "         Date      Open      High       Low     Close  Adj Close     Volume\n",
       "0  1996-01-02  1.151786  1.151786  1.133929  1.147321   0.993233   34823600\n",
       "1  1996-01-03  1.142857  1.174107  1.138393  1.147321   0.993233  107458400\n",
       "2  1996-01-04  1.156250  1.156250  1.120536  1.127232   0.975842   75045600\n",
       "3  1996-01-05  1.129464  1.223214  1.120536  1.223214   1.058933  111482000\n",
       "4  1996-01-08  1.232143  1.267857  1.214286  1.236607   1.070527   30335200"
      ]
     },
     "execution_count": 69,
     "metadata": {},
     "output_type": "execute_result"
    }
   ],
   "source": [
    "# load the raw data\n",
    "apple = pd.read_csv(\"AAPL.csv\")\n",
    "apple.head()"
   ]
  },
  {
   "cell_type": "code",
   "execution_count": 70,
   "id": "416eb322",
   "metadata": {},
   "outputs": [
    {
     "name": "stdout",
     "output_type": "stream",
     "text": [
      "<class 'pandas.core.frame.DataFrame'>\n",
      "RangeIndex: 6193 entries, 0 to 6192\n",
      "Data columns (total 7 columns):\n",
      " #   Column     Non-Null Count  Dtype  \n",
      "---  ------     --------------  -----  \n",
      " 0   Date       6193 non-null   object \n",
      " 1   Open       6193 non-null   float64\n",
      " 2   High       6193 non-null   float64\n",
      " 3   Low        6193 non-null   float64\n",
      " 4   Close      6193 non-null   float64\n",
      " 5   Adj Close  6193 non-null   float64\n",
      " 6   Volume     6193 non-null   int64  \n",
      "dtypes: float64(5), int64(1), object(1)\n",
      "memory usage: 338.8+ KB\n"
     ]
    }
   ],
   "source": [
    "# identify the data type\n",
    "apple.info()"
   ]
  },
  {
   "cell_type": "markdown",
   "id": "efda7ae6",
   "metadata": {},
   "source": [
    "# Time Series Data Structure\n",
    "3 types of structures are used with TS data:\n",
    "    - DatetimeIndex (mostly used)\n",
    "    - PeriodIndex\n",
    "    - TimedeltaIndex\n",
    "Why do we need to convert the time into datetime while working with TS data?\n",
    "Time series data can come in with so many different formats. But not all of those formats are friendly to python’s pandas’ library. The most convenient format is the timestamp format for Pandas. But most of the time time-series data come in string formats. That is the reason why we need to change the date type from object to timestamp."
   ]
  },
  {
   "cell_type": "markdown",
   "id": "a3103ad6",
   "metadata": {},
   "source": [
    "We will make it to the DatetimeIndex format and put it as the index column.\n",
    "Because when the ‘date’ column is the index column we will be able to resample it very easily. "
   ]
  },
  {
   "cell_type": "code",
   "execution_count": 71,
   "id": "ad08bae7",
   "metadata": {},
   "outputs": [
    {
     "data": {
      "text/html": [
       "<div>\n",
       "<style scoped>\n",
       "    .dataframe tbody tr th:only-of-type {\n",
       "        vertical-align: middle;\n",
       "    }\n",
       "\n",
       "    .dataframe tbody tr th {\n",
       "        vertical-align: top;\n",
       "    }\n",
       "\n",
       "    .dataframe thead th {\n",
       "        text-align: right;\n",
       "    }\n",
       "</style>\n",
       "<table border=\"1\" class=\"dataframe\">\n",
       "  <thead>\n",
       "    <tr style=\"text-align: right;\">\n",
       "      <th></th>\n",
       "      <th>Open</th>\n",
       "      <th>High</th>\n",
       "      <th>Low</th>\n",
       "      <th>Close</th>\n",
       "      <th>Adj Close</th>\n",
       "      <th>Volume</th>\n",
       "    </tr>\n",
       "    <tr>\n",
       "      <th>Date</th>\n",
       "      <th></th>\n",
       "      <th></th>\n",
       "      <th></th>\n",
       "      <th></th>\n",
       "      <th></th>\n",
       "      <th></th>\n",
       "    </tr>\n",
       "  </thead>\n",
       "  <tbody>\n",
       "    <tr>\n",
       "      <th>1996-01-02</th>\n",
       "      <td>1.151786</td>\n",
       "      <td>1.151786</td>\n",
       "      <td>1.133929</td>\n",
       "      <td>1.147321</td>\n",
       "      <td>0.993233</td>\n",
       "      <td>34823600</td>\n",
       "    </tr>\n",
       "    <tr>\n",
       "      <th>1996-01-03</th>\n",
       "      <td>1.142857</td>\n",
       "      <td>1.174107</td>\n",
       "      <td>1.138393</td>\n",
       "      <td>1.147321</td>\n",
       "      <td>0.993233</td>\n",
       "      <td>107458400</td>\n",
       "    </tr>\n",
       "    <tr>\n",
       "      <th>1996-01-04</th>\n",
       "      <td>1.156250</td>\n",
       "      <td>1.156250</td>\n",
       "      <td>1.120536</td>\n",
       "      <td>1.127232</td>\n",
       "      <td>0.975842</td>\n",
       "      <td>75045600</td>\n",
       "    </tr>\n",
       "    <tr>\n",
       "      <th>1996-01-05</th>\n",
       "      <td>1.129464</td>\n",
       "      <td>1.223214</td>\n",
       "      <td>1.120536</td>\n",
       "      <td>1.223214</td>\n",
       "      <td>1.058933</td>\n",
       "      <td>111482000</td>\n",
       "    </tr>\n",
       "    <tr>\n",
       "      <th>1996-01-08</th>\n",
       "      <td>1.232143</td>\n",
       "      <td>1.267857</td>\n",
       "      <td>1.214286</td>\n",
       "      <td>1.236607</td>\n",
       "      <td>1.070527</td>\n",
       "      <td>30335200</td>\n",
       "    </tr>\n",
       "  </tbody>\n",
       "</table>\n",
       "</div>"
      ],
      "text/plain": [
       "                Open      High       Low     Close  Adj Close     Volume\n",
       "Date                                                                    \n",
       "1996-01-02  1.151786  1.151786  1.133929  1.147321   0.993233   34823600\n",
       "1996-01-03  1.142857  1.174107  1.138393  1.147321   0.993233  107458400\n",
       "1996-01-04  1.156250  1.156250  1.120536  1.127232   0.975842   75045600\n",
       "1996-01-05  1.129464  1.223214  1.120536  1.223214   1.058933  111482000\n",
       "1996-01-08  1.232143  1.267857  1.214286  1.236607   1.070527   30335200"
      ]
     },
     "execution_count": 71,
     "metadata": {},
     "output_type": "execute_result"
    }
   ],
   "source": [
    "apple = pd.read_csv(\"AAPL.csv\", parse_dates=['Date'], index_col=\"Date\")\n",
    "apple.head()"
   ]
  },
  {
   "cell_type": "markdown",
   "id": "71590e5d",
   "metadata": {},
   "source": [
    "# Why is resampling important?\n",
    "Because we do not always need all the data in a huge dataset. For example, we may need only the data from June 2019. \n",
    "If your date format is in DatetimeIndex, it is very easy:"
   ]
  },
  {
   "cell_type": "code",
   "execution_count": 72,
   "id": "5c4d58bb",
   "metadata": {},
   "outputs": [
    {
     "name": "stderr",
     "output_type": "stream",
     "text": [
      "/Users/elonazharri/opt/anaconda3/lib/python3.7/site-packages/ipykernel_launcher.py:1: FutureWarning: Indexing a DataFrame with a datetimelike index using a single string to slice the rows, like `frame[string]`, is deprecated and will be removed in a future version. Use `frame.loc[string]` instead.\n",
      "  \"\"\"Entry point for launching an IPython kernel.\n"
     ]
    },
    {
     "data": {
      "text/html": [
       "<div>\n",
       "<style scoped>\n",
       "    .dataframe tbody tr th:only-of-type {\n",
       "        vertical-align: middle;\n",
       "    }\n",
       "\n",
       "    .dataframe tbody tr th {\n",
       "        vertical-align: top;\n",
       "    }\n",
       "\n",
       "    .dataframe thead th {\n",
       "        text-align: right;\n",
       "    }\n",
       "</style>\n",
       "<table border=\"1\" class=\"dataframe\">\n",
       "  <thead>\n",
       "    <tr style=\"text-align: right;\">\n",
       "      <th></th>\n",
       "      <th>Open</th>\n",
       "      <th>High</th>\n",
       "      <th>Low</th>\n",
       "      <th>Close</th>\n",
       "      <th>Adj Close</th>\n",
       "      <th>Volume</th>\n",
       "    </tr>\n",
       "    <tr>\n",
       "      <th>Date</th>\n",
       "      <th></th>\n",
       "      <th></th>\n",
       "      <th></th>\n",
       "      <th></th>\n",
       "      <th></th>\n",
       "      <th></th>\n",
       "    </tr>\n",
       "  </thead>\n",
       "  <tbody>\n",
       "    <tr>\n",
       "      <th>2019-01-02</th>\n",
       "      <td>154.889999</td>\n",
       "      <td>158.850006</td>\n",
       "      <td>154.229996</td>\n",
       "      <td>157.919998</td>\n",
       "      <td>154.794983</td>\n",
       "      <td>37039700</td>\n",
       "    </tr>\n",
       "    <tr>\n",
       "      <th>2019-01-03</th>\n",
       "      <td>143.979996</td>\n",
       "      <td>145.720001</td>\n",
       "      <td>142.000000</td>\n",
       "      <td>142.190002</td>\n",
       "      <td>139.376251</td>\n",
       "      <td>91312200</td>\n",
       "    </tr>\n",
       "    <tr>\n",
       "      <th>2019-01-04</th>\n",
       "      <td>144.529999</td>\n",
       "      <td>148.550003</td>\n",
       "      <td>143.800003</td>\n",
       "      <td>148.259995</td>\n",
       "      <td>145.326126</td>\n",
       "      <td>58607100</td>\n",
       "    </tr>\n",
       "    <tr>\n",
       "      <th>2019-01-07</th>\n",
       "      <td>148.699997</td>\n",
       "      <td>148.830002</td>\n",
       "      <td>145.899994</td>\n",
       "      <td>147.929993</td>\n",
       "      <td>145.002686</td>\n",
       "      <td>54777800</td>\n",
       "    </tr>\n",
       "    <tr>\n",
       "      <th>2019-01-08</th>\n",
       "      <td>149.559998</td>\n",
       "      <td>151.820007</td>\n",
       "      <td>148.520004</td>\n",
       "      <td>150.750000</td>\n",
       "      <td>147.766861</td>\n",
       "      <td>41025300</td>\n",
       "    </tr>\n",
       "    <tr>\n",
       "      <th>...</th>\n",
       "      <td>...</td>\n",
       "      <td>...</td>\n",
       "      <td>...</td>\n",
       "      <td>...</td>\n",
       "      <td>...</td>\n",
       "      <td>...</td>\n",
       "    </tr>\n",
       "    <tr>\n",
       "      <th>2019-12-24</th>\n",
       "      <td>284.690002</td>\n",
       "      <td>284.890015</td>\n",
       "      <td>282.920013</td>\n",
       "      <td>284.269989</td>\n",
       "      <td>282.831299</td>\n",
       "      <td>12119700</td>\n",
       "    </tr>\n",
       "    <tr>\n",
       "      <th>2019-12-26</th>\n",
       "      <td>284.820007</td>\n",
       "      <td>289.980011</td>\n",
       "      <td>284.700012</td>\n",
       "      <td>289.910004</td>\n",
       "      <td>288.442780</td>\n",
       "      <td>23280300</td>\n",
       "    </tr>\n",
       "    <tr>\n",
       "      <th>2019-12-27</th>\n",
       "      <td>291.119995</td>\n",
       "      <td>293.970001</td>\n",
       "      <td>288.119995</td>\n",
       "      <td>289.799988</td>\n",
       "      <td>288.333313</td>\n",
       "      <td>36566500</td>\n",
       "    </tr>\n",
       "    <tr>\n",
       "      <th>2019-12-30</th>\n",
       "      <td>289.459991</td>\n",
       "      <td>292.690002</td>\n",
       "      <td>285.220001</td>\n",
       "      <td>291.519989</td>\n",
       "      <td>290.044617</td>\n",
       "      <td>36028600</td>\n",
       "    </tr>\n",
       "    <tr>\n",
       "      <th>2019-12-31</th>\n",
       "      <td>289.929993</td>\n",
       "      <td>293.679993</td>\n",
       "      <td>289.519989</td>\n",
       "      <td>293.649994</td>\n",
       "      <td>292.163818</td>\n",
       "      <td>25201400</td>\n",
       "    </tr>\n",
       "  </tbody>\n",
       "</table>\n",
       "<p>252 rows × 6 columns</p>\n",
       "</div>"
      ],
      "text/plain": [
       "                  Open        High         Low       Close   Adj Close  \\\n",
       "Date                                                                     \n",
       "2019-01-02  154.889999  158.850006  154.229996  157.919998  154.794983   \n",
       "2019-01-03  143.979996  145.720001  142.000000  142.190002  139.376251   \n",
       "2019-01-04  144.529999  148.550003  143.800003  148.259995  145.326126   \n",
       "2019-01-07  148.699997  148.830002  145.899994  147.929993  145.002686   \n",
       "2019-01-08  149.559998  151.820007  148.520004  150.750000  147.766861   \n",
       "...                ...         ...         ...         ...         ...   \n",
       "2019-12-24  284.690002  284.890015  282.920013  284.269989  282.831299   \n",
       "2019-12-26  284.820007  289.980011  284.700012  289.910004  288.442780   \n",
       "2019-12-27  291.119995  293.970001  288.119995  289.799988  288.333313   \n",
       "2019-12-30  289.459991  292.690002  285.220001  291.519989  290.044617   \n",
       "2019-12-31  289.929993  293.679993  289.519989  293.649994  292.163818   \n",
       "\n",
       "              Volume  \n",
       "Date                  \n",
       "2019-01-02  37039700  \n",
       "2019-01-03  91312200  \n",
       "2019-01-04  58607100  \n",
       "2019-01-07  54777800  \n",
       "2019-01-08  41025300  \n",
       "...              ...  \n",
       "2019-12-24  12119700  \n",
       "2019-12-26  23280300  \n",
       "2019-12-27  36566500  \n",
       "2019-12-30  36028600  \n",
       "2019-12-31  25201400  \n",
       "\n",
       "[252 rows x 6 columns]"
      ]
     },
     "execution_count": 72,
     "metadata": {},
     "output_type": "execute_result"
    }
   ],
   "source": [
    "apple['2019']"
   ]
  },
  {
   "cell_type": "code",
   "execution_count": 92,
   "id": "823278f8",
   "metadata": {},
   "outputs": [
    {
     "data": {
      "text/plain": [
       "Open         2.894600e+02\n",
       "High         2.926900e+02\n",
       "Low          2.852200e+02\n",
       "Close        2.915200e+02\n",
       "Adj Close    2.900446e+02\n",
       "Volume       3.602860e+07\n",
       "Name: 2019-12-30 00:00:00, dtype: float64"
      ]
     },
     "execution_count": 92,
     "metadata": {},
     "output_type": "execute_result"
    }
   ],
   "source": [
    "# Or we can get the data for a single day\n",
    "apple.loc['2019-12-30']"
   ]
  },
  {
   "cell_type": "code",
   "execution_count": 74,
   "id": "fa6bfea9",
   "metadata": {},
   "outputs": [
    {
     "data": {
      "text/plain": [
       "Open         0\n",
       "High         0\n",
       "Low          0\n",
       "Close        0\n",
       "Adj Close    0\n",
       "Volume       0\n",
       "dtype: int64"
      ]
     },
     "execution_count": 74,
     "metadata": {},
     "output_type": "execute_result"
    }
   ],
   "source": [
    "# Check if there is any missing data\n",
    "apple.isna().sum()"
   ]
  },
  {
   "cell_type": "code",
   "execution_count": 75,
   "id": "db8b1ac6",
   "metadata": {},
   "outputs": [
    {
     "data": {
      "text/html": [
       "<div>\n",
       "<style scoped>\n",
       "    .dataframe tbody tr th:only-of-type {\n",
       "        vertical-align: middle;\n",
       "    }\n",
       "\n",
       "    .dataframe tbody tr th {\n",
       "        vertical-align: top;\n",
       "    }\n",
       "\n",
       "    .dataframe thead th {\n",
       "        text-align: right;\n",
       "    }\n",
       "</style>\n",
       "<table border=\"1\" class=\"dataframe\">\n",
       "  <thead>\n",
       "    <tr style=\"text-align: right;\">\n",
       "      <th></th>\n",
       "      <th>Open</th>\n",
       "      <th>High</th>\n",
       "      <th>Low</th>\n",
       "      <th>Close</th>\n",
       "      <th>Adj Close</th>\n",
       "      <th>Volume</th>\n",
       "    </tr>\n",
       "  </thead>\n",
       "  <tbody>\n",
       "    <tr>\n",
       "      <th>Open</th>\n",
       "      <td>1.000000</td>\n",
       "      <td>0.999920</td>\n",
       "      <td>0.999916</td>\n",
       "      <td>0.999839</td>\n",
       "      <td>0.998900</td>\n",
       "      <td>-0.359337</td>\n",
       "    </tr>\n",
       "    <tr>\n",
       "      <th>High</th>\n",
       "      <td>0.999920</td>\n",
       "      <td>1.000000</td>\n",
       "      <td>0.999868</td>\n",
       "      <td>0.999911</td>\n",
       "      <td>0.999056</td>\n",
       "      <td>-0.357955</td>\n",
       "    </tr>\n",
       "    <tr>\n",
       "      <th>Low</th>\n",
       "      <td>0.999916</td>\n",
       "      <td>0.999868</td>\n",
       "      <td>1.000000</td>\n",
       "      <td>0.999913</td>\n",
       "      <td>0.998961</td>\n",
       "      <td>-0.361110</td>\n",
       "    </tr>\n",
       "    <tr>\n",
       "      <th>Close</th>\n",
       "      <td>0.999839</td>\n",
       "      <td>0.999911</td>\n",
       "      <td>0.999913</td>\n",
       "      <td>1.000000</td>\n",
       "      <td>0.999117</td>\n",
       "      <td>-0.359471</td>\n",
       "    </tr>\n",
       "    <tr>\n",
       "      <th>Adj Close</th>\n",
       "      <td>0.998900</td>\n",
       "      <td>0.999056</td>\n",
       "      <td>0.998961</td>\n",
       "      <td>0.999117</td>\n",
       "      <td>1.000000</td>\n",
       "      <td>-0.360740</td>\n",
       "    </tr>\n",
       "    <tr>\n",
       "      <th>Volume</th>\n",
       "      <td>-0.359337</td>\n",
       "      <td>-0.357955</td>\n",
       "      <td>-0.361110</td>\n",
       "      <td>-0.359471</td>\n",
       "      <td>-0.360740</td>\n",
       "      <td>1.000000</td>\n",
       "    </tr>\n",
       "  </tbody>\n",
       "</table>\n",
       "</div>"
      ],
      "text/plain": [
       "               Open      High       Low     Close  Adj Close    Volume\n",
       "Open       1.000000  0.999920  0.999916  0.999839   0.998900 -0.359337\n",
       "High       0.999920  1.000000  0.999868  0.999911   0.999056 -0.357955\n",
       "Low        0.999916  0.999868  1.000000  0.999913   0.998961 -0.361110\n",
       "Close      0.999839  0.999911  0.999913  1.000000   0.999117 -0.359471\n",
       "Adj Close  0.998900  0.999056  0.998961  0.999117   1.000000 -0.360740\n",
       "Volume    -0.359337 -0.357955 -0.361110 -0.359471  -0.360740  1.000000"
      ]
     },
     "execution_count": 75,
     "metadata": {},
     "output_type": "execute_result"
    }
   ],
   "source": [
    "# Call the .corr() method on the apple dataset to view the relationships among the features of the dataset\n",
    "apple.corr()"
   ]
  },
  {
   "cell_type": "code",
   "execution_count": 76,
   "id": "dc031c43",
   "metadata": {},
   "outputs": [
    {
     "name": "stderr",
     "output_type": "stream",
     "text": [
      "/Users/elonazharri/opt/anaconda3/lib/python3.7/site-packages/ipykernel_launcher.py:3: FutureWarning: the 'freq'' keyword is deprecated, use 'period' instead\n",
      "  This is separate from the ipykernel package so we can avoid doing imports until\n"
     ]
    },
    {
     "data": {
      "text/plain": [
       "<Figure size 432x288 with 0 Axes>"
      ]
     },
     "metadata": {},
     "output_type": "display_data"
    },
    {
     "data": {
      "image/png": "[encoded data removed]",
      "text/plain": [
       "<Figure size 1080x576 with 4 Axes>"
      ]
     },
     "metadata": {
      "needs_background": "light"
     },
     "output_type": "display_data"
    }
   ],
   "source": [
    "# Visualize the data to gain some insight\n",
    "from statsmodels.tsa.seasonal import seasonal_decompose\n",
    "decomposition = seasonal_decompose(apple['Adj Close'], freq=12)  \n",
    "fig = plt.figure()  \n",
    "fig = decomposition.plot()  \n",
    "fig.set_size_inches(15, 8)"
   ]
  },
  {
   "cell_type": "markdown",
   "id": "68effd86",
   "metadata": {},
   "source": [
    "It is clearly evident that there is an overall increasing trend in the data along with some seasonal variations. "
   ]
  },
  {
   "cell_type": "code",
   "execution_count": 77,
   "id": "b3377a54",
   "metadata": {},
   "outputs": [
    {
     "data": {
      "text/plain": [
       "(Date\n",
       " 1996-01-02   NaN\n",
       " 1996-01-03   NaN\n",
       " 1996-01-04   NaN\n",
       " 1996-01-05   NaN\n",
       " 1996-01-08   NaN\n",
       "               ..\n",
       " 2020-07-31   NaN\n",
       " 2020-08-03   NaN\n",
       " 2020-08-04   NaN\n",
       " 2020-08-05   NaN\n",
       " 2020-08-06   NaN\n",
       " Name: trend, Length: 6193, dtype: float64,\n",
       " Date\n",
       " 1996-01-02   -0.051986\n",
       " 1996-01-03    0.008759\n",
       " 1996-01-04   -0.036232\n",
       " 1996-01-05   -0.105675\n",
       " 1996-01-08    0.114776\n",
       "                 ...   \n",
       " 2020-07-31   -0.026454\n",
       " 2020-08-03   -0.096059\n",
       " 2020-08-04   -0.044672\n",
       " 2020-08-05   -0.040719\n",
       " 2020-08-06   -0.051986\n",
       " Name: seasonal, Length: 6193, dtype: float64)"
      ]
     },
     "execution_count": 77,
     "metadata": {},
     "output_type": "execute_result"
    }
   ],
   "source": [
    "trend = decomposition.trend\n",
    "seasonal = decomposition.seasonal \n",
    "#residual = decomposition.residual  \n",
    "trend,seasonal"
   ]
  },
  {
   "cell_type": "markdown",
   "id": "9ad664b1",
   "metadata": {},
   "source": [
    "# How to Check Stationarity of our TS data?"
   ]
  },
  {
   "cell_type": "markdown",
   "id": "eb2180b3",
   "metadata": {},
   "source": [
    "We can check stationarity using the following:\n",
    "- Plotting Rolling Statistics: We can plot the moving average or moving variance and see if it varies with time. By moving average/variance I mean that at any instant ‘t’, we’ll take the average/variance of the last year, i.e. last 12 months.\n",
    "\n",
    "- Dickey-Fuller Test: This is one of the statistical tests for checking stationarity. Here the null hypothesis is that the TS is non-stationary. The test results comprise of a Test Statistic and some Critical Values for difference confidence levels. If the ‘Test Statistic’ is less than the ‘Critical Value’, we can reject the null hypothesis and say that the series is stationary."
   ]
  },
  {
   "cell_type": "code",
   "execution_count": 78,
   "id": "91190033",
   "metadata": {},
   "outputs": [],
   "source": [
    "from statsmodels.tsa.stattools import adfuller\n",
    "def test_stationarity(timeseries):\n",
    "    \n",
    "    #Determing rolling statistics\n",
    "    rolmean = pd.Series(timeseries).rolling(window=12).mean()\n",
    "    rolstd = pd.Series(timeseries).rolling(window=12).std()\n",
    "\n",
    "    #Plot rolling statistics:\n",
    "    orig = plt.plot(timeseries, color='blue',label='Original')\n",
    "    mean = plt.plot(rolmean, color='red', label='Rolling Mean')\n",
    "    std = plt.plot(rolstd, color='black', label = 'Rolling Std')\n",
    "    plt.legend(loc='best')\n",
    "    plt.title('Rolling Mean & Standard Deviation')\n",
    "    plt.show(block=False)\n",
    "    \n",
    "    #Perform Dickey-Fuller test:\n",
    "    print('Results of Dickey-Fuller Test:')\n",
    "    dftest = adfuller(timeseries, autolag='AIC')\n",
    "    dfoutput = pd.Series(dftest[0:4], index=['Test Statistic','p-value','#Lags Used','Number of Observations Used'])\n",
    "    for key,value in dftest[4].items():\n",
    "        dfoutput['Critical Value (%s)'%key] = value\n",
    "    print(dfoutput)"
   ]
  },
  {
   "cell_type": "code",
   "execution_count": 86,
   "id": "9b8c1e39",
   "metadata": {},
   "outputs": [
    {
     "data": {
      "image/png": "[encoded data removed]",
      "text/plain": [
       "<Figure size 432x288 with 1 Axes>"
      ]
     },
     "metadata": {
      "needs_background": "light"
     },
     "output_type": "display_data"
    },
    {
     "name": "stdout",
     "output_type": "stream",
     "text": [
      "Results of Dickey-Fuller Test:\n",
      "Test Statistic                   0.667945\n",
      "p-value                          0.989176\n",
      "#Lags Used                       0.000000\n",
      "Number of Observations Used    251.000000\n",
      "Critical Value (1%)             -3.456674\n",
      "Critical Value (5%)             -2.873125\n",
      "Critical Value (10%)            -2.572944\n",
      "dtype: float64\n"
     ]
    }
   ],
   "source": [
    "test_stationarity(apple.loc['2019','Adj Close'])"
   ]
  },
  {
   "cell_type": "code",
   "execution_count": null,
   "id": "e3c31354",
   "metadata": {},
   "outputs": [],
   "source": []
  },
  {
   "cell_type": "markdown",
   "id": "85c9defd",
   "metadata": {},
   "source": [
    "# Plot the ACF and PACF charts and find the optimal parameters\n",
    "The next step is to determine the tuning parameters of the model by looking at the autocorrelation and partial autocorrelation graphs."
   ]
  },
  {
   "cell_type": "markdown",
   "id": "da9b5926",
   "metadata": {},
   "source": [
    "# Build Model"
   ]
  },
  {
   "cell_type": "code",
   "execution_count": null,
   "id": "b9e249c8",
   "metadata": {},
   "outputs": [],
   "source": []
  },
  {
   "cell_type": "markdown",
   "id": "da127cac",
   "metadata": {},
   "source": [
    "# Make Predictions"
   ]
  },
  {
   "cell_type": "code",
   "execution_count": null,
   "id": "9934ce1b",
   "metadata": {},
   "outputs": [],
   "source": []
  }
 ],
 "metadata": {
  "kernelspec": {
   "display_name": "Python 3",
   "language": "python",
   "name": "python3"
  },
  "language_info": {
   "codemirror_mode": {
    "name": "ipython",
    "version": 3
   },
   "file_extension": ".py",
   "mimetype": "text/x-python",
   "name": "python",
   "nbconvert_exporter": "python",
   "pygments_lexer": "ipython3",
   "version": "3.7.6"
  }
 },
 "nbformat": 4,
 "nbformat_minor": 5
}
