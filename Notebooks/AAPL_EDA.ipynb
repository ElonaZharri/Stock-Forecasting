{
 "cells": [
  {
   "cell_type": "markdown",
   "metadata": {},
   "source": [
    "## Stock Forecasting\n",
    "Time Series is a collection of data points collected at constant time intervals. It is time dependent. Along with an increasing or decreasing trend, most TS have some form of seasonality trends, i.e. variations specific to a particular time frame. For example, if you see the sales of a woolen jacket over time, you will invariably find higher sales in winter seasons."
   ]
  },
  {
   "cell_type": "code",
   "execution_count": 3,
   "metadata": {},
   "outputs": [],
   "source": [
    "# importing necessary libraries \n",
    "import numpy as np\n",
    "import pandas as pd\n",
    "import seaborn as sns\n",
    "import matplotlib.pyplot as plt\n",
    "from datetime import datetime"
   ]
  },
  {
   "cell_type": "markdown",
   "metadata": {},
   "source": [
    "### Loading and Handling Time Series in Pandas"
   ]
  },
  {
   "cell_type": "code",
   "execution_count": 4,
   "metadata": {},
   "outputs": [
    {
     "data": {
      "text/html": [
       "<div>\n",
       "<style scoped>\n",
       "    .dataframe tbody tr th:only-of-type {\n",
       "        vertical-align: middle;\n",
       "    }\n",
       "\n",
       "    .dataframe tbody tr th {\n",
       "        vertical-align: top;\n",
       "    }\n",
       "\n",
       "    .dataframe thead th {\n",
       "        text-align: right;\n",
       "    }\n",
       "</style>\n",
       "<table border=\"1\" class=\"dataframe\">\n",
       "  <thead>\n",
       "    <tr style=\"text-align: right;\">\n",
       "      <th></th>\n",
       "      <th>Date</th>\n",
       "      <th>Open</th>\n",
       "      <th>High</th>\n",
       "      <th>Low</th>\n",
       "      <th>Close</th>\n",
       "      <th>Adj Close</th>\n",
       "      <th>Volume</th>\n",
       "    </tr>\n",
       "  </thead>\n",
       "  <tbody>\n",
       "    <tr>\n",
       "      <th>0</th>\n",
       "      <td>1996-01-02</td>\n",
       "      <td>1.151786</td>\n",
       "      <td>1.151786</td>\n",
       "      <td>1.133929</td>\n",
       "      <td>1.147321</td>\n",
       "      <td>0.993233</td>\n",
       "      <td>34823600</td>\n",
       "    </tr>\n",
       "    <tr>\n",
       "      <th>1</th>\n",
       "      <td>1996-01-03</td>\n",
       "      <td>1.142857</td>\n",
       "      <td>1.174107</td>\n",
       "      <td>1.138393</td>\n",
       "      <td>1.147321</td>\n",
       "      <td>0.993233</td>\n",
       "      <td>107458400</td>\n",
       "    </tr>\n",
       "    <tr>\n",
       "      <th>2</th>\n",
       "      <td>1996-01-04</td>\n",
       "      <td>1.156250</td>\n",
       "      <td>1.156250</td>\n",
       "      <td>1.120536</td>\n",
       "      <td>1.127232</td>\n",
       "      <td>0.975842</td>\n",
       "      <td>75045600</td>\n",
       "    </tr>\n",
       "    <tr>\n",
       "      <th>3</th>\n",
       "      <td>1996-01-05</td>\n",
       "      <td>1.129464</td>\n",
       "      <td>1.223214</td>\n",
       "      <td>1.120536</td>\n",
       "      <td>1.223214</td>\n",
       "      <td>1.058933</td>\n",
       "      <td>111482000</td>\n",
       "    </tr>\n",
       "    <tr>\n",
       "      <th>4</th>\n",
       "      <td>1996-01-08</td>\n",
       "      <td>1.232143</td>\n",
       "      <td>1.267857</td>\n",
       "      <td>1.214286</td>\n",
       "      <td>1.236607</td>\n",
       "      <td>1.070527</td>\n",
       "      <td>30335200</td>\n",
       "    </tr>\n",
       "  </tbody>\n",
       "</table>\n",
       "</div>"
      ],
      "text/plain": [
       "         Date      Open      High       Low     Close  Adj Close     Volume\n",
       "0  1996-01-02  1.151786  1.151786  1.133929  1.147321   0.993233   34823600\n",
       "1  1996-01-03  1.142857  1.174107  1.138393  1.147321   0.993233  107458400\n",
       "2  1996-01-04  1.156250  1.156250  1.120536  1.127232   0.975842   75045600\n",
       "3  1996-01-05  1.129464  1.223214  1.120536  1.223214   1.058933  111482000\n",
       "4  1996-01-08  1.232143  1.267857  1.214286  1.236607   1.070527   30335200"
      ]
     },
     "execution_count": 4,
     "metadata": {},
     "output_type": "execute_result"
    }
   ],
   "source": [
    "# load the data\n",
    "apple = pd.read_csv(\"AAPL.csv\")\n",
    "apple.head()"
   ]
  },
  {
   "cell_type": "code",
   "execution_count": 5,
   "metadata": {},
   "outputs": [
    {
     "name": "stdout",
     "output_type": "stream",
     "text": [
      "<class 'pandas.core.frame.DataFrame'>\n",
      "RangeIndex: 6193 entries, 0 to 6192\n",
      "Data columns (total 7 columns):\n",
      " #   Column     Non-Null Count  Dtype  \n",
      "---  ------     --------------  -----  \n",
      " 0   Date       6193 non-null   object \n",
      " 1   Open       6193 non-null   float64\n",
      " 2   High       6193 non-null   float64\n",
      " 3   Low        6193 non-null   float64\n",
      " 4   Close      6193 non-null   float64\n",
      " 5   Adj Close  6193 non-null   float64\n",
      " 6   Volume     6193 non-null   int64  \n",
      "dtypes: float64(5), int64(1), object(1)\n",
      "memory usage: 338.8+ KB\n"
     ]
    }
   ],
   "source": [
    "# identify the data types\n",
    "apple.info()"
   ]
  },
  {
   "cell_type": "code",
   "execution_count": 6,
   "metadata": {},
   "outputs": [
    {
     "data": {
      "text/html": [
       "<div>\n",
       "<style scoped>\n",
       "    .dataframe tbody tr th:only-of-type {\n",
       "        vertical-align: middle;\n",
       "    }\n",
       "\n",
       "    .dataframe tbody tr th {\n",
       "        vertical-align: top;\n",
       "    }\n",
       "\n",
       "    .dataframe thead th {\n",
       "        text-align: right;\n",
       "    }\n",
       "</style>\n",
       "<table border=\"1\" class=\"dataframe\">\n",
       "  <thead>\n",
       "    <tr style=\"text-align: right;\">\n",
       "      <th></th>\n",
       "      <th>Open</th>\n",
       "      <th>High</th>\n",
       "      <th>Low</th>\n",
       "      <th>Close</th>\n",
       "      <th>Adj Close</th>\n",
       "      <th>Volume</th>\n",
       "    </tr>\n",
       "  </thead>\n",
       "  <tbody>\n",
       "    <tr>\n",
       "      <th>count</th>\n",
       "      <td>6193.000000</td>\n",
       "      <td>6193.000000</td>\n",
       "      <td>6193.000000</td>\n",
       "      <td>6193.000000</td>\n",
       "      <td>6193.000000</td>\n",
       "      <td>6.193000e+03</td>\n",
       "    </tr>\n",
       "    <tr>\n",
       "      <th>mean</th>\n",
       "      <td>56.237443</td>\n",
       "      <td>56.820016</td>\n",
       "      <td>55.671111</td>\n",
       "      <td>56.272008</td>\n",
       "      <td>52.994036</td>\n",
       "      <td>1.096375e+08</td>\n",
       "    </tr>\n",
       "    <tr>\n",
       "      <th>std</th>\n",
       "      <td>74.910837</td>\n",
       "      <td>75.740761</td>\n",
       "      <td>74.210479</td>\n",
       "      <td>75.039504</td>\n",
       "      <td>73.670390</td>\n",
       "      <td>9.725212e+07</td>\n",
       "    </tr>\n",
       "    <tr>\n",
       "      <th>min</th>\n",
       "      <td>0.459821</td>\n",
       "      <td>0.473214</td>\n",
       "      <td>0.455357</td>\n",
       "      <td>0.462054</td>\n",
       "      <td>0.399999</td>\n",
       "      <td>9.835000e+06</td>\n",
       "    </tr>\n",
       "    <tr>\n",
       "      <th>25%</th>\n",
       "      <td>1.633929</td>\n",
       "      <td>1.665179</td>\n",
       "      <td>1.600714</td>\n",
       "      <td>1.634286</td>\n",
       "      <td>1.414797</td>\n",
       "      <td>4.438730e+07</td>\n",
       "    </tr>\n",
       "    <tr>\n",
       "      <th>50%</th>\n",
       "      <td>18.492857</td>\n",
       "      <td>18.900000</td>\n",
       "      <td>18.090000</td>\n",
       "      <td>18.485714</td>\n",
       "      <td>16.003035</td>\n",
       "      <td>8.156190e+07</td>\n",
       "    </tr>\n",
       "    <tr>\n",
       "      <th>75%</th>\n",
       "      <td>94.040001</td>\n",
       "      <td>94.820000</td>\n",
       "      <td>93.040001</td>\n",
       "      <td>94.019997</td>\n",
       "      <td>84.512062</td>\n",
       "      <td>1.429260e+08</td>\n",
       "    </tr>\n",
       "    <tr>\n",
       "      <th>max</th>\n",
       "      <td>441.619995</td>\n",
       "      <td>457.649994</td>\n",
       "      <td>439.190002</td>\n",
       "      <td>455.609985</td>\n",
       "      <td>455.609985</td>\n",
       "      <td>1.855410e+09</td>\n",
       "    </tr>\n",
       "  </tbody>\n",
       "</table>\n",
       "</div>"
      ],
      "text/plain": [
       "              Open         High          Low        Close    Adj Close  \\\n",
       "count  6193.000000  6193.000000  6193.000000  6193.000000  6193.000000   \n",
       "mean     56.237443    56.820016    55.671111    56.272008    52.994036   \n",
       "std      74.910837    75.740761    74.210479    75.039504    73.670390   \n",
       "min       0.459821     0.473214     0.455357     0.462054     0.399999   \n",
       "25%       1.633929     1.665179     1.600714     1.634286     1.414797   \n",
       "50%      18.492857    18.900000    18.090000    18.485714    16.003035   \n",
       "75%      94.040001    94.820000    93.040001    94.019997    84.512062   \n",
       "max     441.619995   457.649994   439.190002   455.609985   455.609985   \n",
       "\n",
       "             Volume  \n",
       "count  6.193000e+03  \n",
       "mean   1.096375e+08  \n",
       "std    9.725212e+07  \n",
       "min    9.835000e+06  \n",
       "25%    4.438730e+07  \n",
       "50%    8.156190e+07  \n",
       "75%    1.429260e+08  \n",
       "max    1.855410e+09  "
      ]
     },
     "execution_count": 6,
     "metadata": {},
     "output_type": "execute_result"
    }
   ],
   "source": [
    "# decribed data\n",
    "apple.describe()"
   ]
  },
  {
   "cell_type": "code",
   "execution_count": 7,
   "metadata": {},
   "outputs": [
    {
     "data": {
      "text/plain": [
       "(6193, 7)"
      ]
     },
     "execution_count": 7,
     "metadata": {},
     "output_type": "execute_result"
    }
   ],
   "source": [
    "# identifying the shape of the data\n",
    "apple.shape"
   ]
  },
  {
   "cell_type": "markdown",
   "metadata": {},
   "source": [
    "### Time Series Data Structure\n",
    "3 types of structures are used with TS data: \n",
    "- DatetimeIndex (mostly used) \n",
    "- PeriodIndex \n",
    "- TimedeltaIndex \n",
    "\n",
    "Why do we need to convert the time into datetime while working with TS data? \n",
    "Time series data can come in with so many different formats. But not all of those formats are friendly to python’s pandas’ library. The most convenient format is the timestamp format for Pandas. But most of the time time-series data come in string formats. That is the reason why we need to change the date type from object to timestamp.\n",
    "We will make it to the DatetimeIndex format and put it as the index column. Because when the ‘date’ column is the index column we will be able to resample it very easily."
   ]
  },
  {
   "cell_type": "code",
   "execution_count": 8,
   "metadata": {},
   "outputs": [
    {
     "data": {
      "text/html": [
       "<div>\n",
       "<style scoped>\n",
       "    .dataframe tbody tr th:only-of-type {\n",
       "        vertical-align: middle;\n",
       "    }\n",
       "\n",
       "    .dataframe tbody tr th {\n",
       "        vertical-align: top;\n",
       "    }\n",
       "\n",
       "    .dataframe thead th {\n",
       "        text-align: right;\n",
       "    }\n",
       "</style>\n",
       "<table border=\"1\" class=\"dataframe\">\n",
       "  <thead>\n",
       "    <tr style=\"text-align: right;\">\n",
       "      <th></th>\n",
       "      <th>Open</th>\n",
       "      <th>High</th>\n",
       "      <th>Low</th>\n",
       "      <th>Close</th>\n",
       "      <th>Adj Close</th>\n",
       "      <th>Volume</th>\n",
       "    </tr>\n",
       "    <tr>\n",
       "      <th>Date</th>\n",
       "      <th></th>\n",
       "      <th></th>\n",
       "      <th></th>\n",
       "      <th></th>\n",
       "      <th></th>\n",
       "      <th></th>\n",
       "    </tr>\n",
       "  </thead>\n",
       "  <tbody>\n",
       "    <tr>\n",
       "      <th>2020-07-31</th>\n",
       "      <td>411.540009</td>\n",
       "      <td>425.660004</td>\n",
       "      <td>403.299988</td>\n",
       "      <td>425.040009</td>\n",
       "      <td>425.040009</td>\n",
       "      <td>93584200</td>\n",
       "    </tr>\n",
       "    <tr>\n",
       "      <th>2020-08-03</th>\n",
       "      <td>432.799988</td>\n",
       "      <td>446.549988</td>\n",
       "      <td>431.570007</td>\n",
       "      <td>435.750000</td>\n",
       "      <td>435.750000</td>\n",
       "      <td>77037800</td>\n",
       "    </tr>\n",
       "    <tr>\n",
       "      <th>2020-08-04</th>\n",
       "      <td>436.529999</td>\n",
       "      <td>443.160004</td>\n",
       "      <td>433.549988</td>\n",
       "      <td>438.660004</td>\n",
       "      <td>438.660004</td>\n",
       "      <td>43267900</td>\n",
       "    </tr>\n",
       "    <tr>\n",
       "      <th>2020-08-05</th>\n",
       "      <td>437.510010</td>\n",
       "      <td>441.570007</td>\n",
       "      <td>435.589996</td>\n",
       "      <td>440.250000</td>\n",
       "      <td>440.250000</td>\n",
       "      <td>30498000</td>\n",
       "    </tr>\n",
       "    <tr>\n",
       "      <th>2020-08-06</th>\n",
       "      <td>441.619995</td>\n",
       "      <td>457.649994</td>\n",
       "      <td>439.190002</td>\n",
       "      <td>455.609985</td>\n",
       "      <td>455.609985</td>\n",
       "      <td>50490000</td>\n",
       "    </tr>\n",
       "  </tbody>\n",
       "</table>\n",
       "</div>"
      ],
      "text/plain": [
       "                  Open        High         Low       Close   Adj Close  \\\n",
       "Date                                                                     \n",
       "2020-07-31  411.540009  425.660004  403.299988  425.040009  425.040009   \n",
       "2020-08-03  432.799988  446.549988  431.570007  435.750000  435.750000   \n",
       "2020-08-04  436.529999  443.160004  433.549988  438.660004  438.660004   \n",
       "2020-08-05  437.510010  441.570007  435.589996  440.250000  440.250000   \n",
       "2020-08-06  441.619995  457.649994  439.190002  455.609985  455.609985   \n",
       "\n",
       "              Volume  \n",
       "Date                  \n",
       "2020-07-31  93584200  \n",
       "2020-08-03  77037800  \n",
       "2020-08-04  43267900  \n",
       "2020-08-05  30498000  \n",
       "2020-08-06  50490000  "
      ]
     },
     "execution_count": 8,
     "metadata": {},
     "output_type": "execute_result"
    }
   ],
   "source": [
    "# convert the data from object to datetime, to prevent future problems in plotting on a histogram\n",
    "apple = pd.read_csv(\"AAPL.csv\", parse_dates=['Date'], index_col=\"Date\")\n",
    "apple.tail()"
   ]
  },
  {
   "cell_type": "markdown",
   "metadata": {},
   "source": [
    "##### Why is resampling important?\n",
    "Because we do not always need all the data in a huge dataset. For example, we may need only the data from June 2019. If your date format is in DatetimeIndex, it is very easy:"
   ]
  },
  {
   "cell_type": "code",
   "execution_count": 9,
   "metadata": {},
   "outputs": [
    {
     "name": "stderr",
     "output_type": "stream",
     "text": [
      "/Users/elonazharri/opt/anaconda3/lib/python3.7/site-packages/ipykernel_launcher.py:2: FutureWarning: Indexing a DataFrame with a datetimelike index using a single string to slice the rows, like `frame[string]`, is deprecated and will be removed in a future version. Use `frame.loc[string]` instead.\n",
      "  \n"
     ]
    },
    {
     "data": {
      "text/html": [
       "<div>\n",
       "<style scoped>\n",
       "    .dataframe tbody tr th:only-of-type {\n",
       "        vertical-align: middle;\n",
       "    }\n",
       "\n",
       "    .dataframe tbody tr th {\n",
       "        vertical-align: top;\n",
       "    }\n",
       "\n",
       "    .dataframe thead th {\n",
       "        text-align: right;\n",
       "    }\n",
       "</style>\n",
       "<table border=\"1\" class=\"dataframe\">\n",
       "  <thead>\n",
       "    <tr style=\"text-align: right;\">\n",
       "      <th></th>\n",
       "      <th>Open</th>\n",
       "      <th>High</th>\n",
       "      <th>Low</th>\n",
       "      <th>Close</th>\n",
       "      <th>Adj Close</th>\n",
       "      <th>Volume</th>\n",
       "    </tr>\n",
       "    <tr>\n",
       "      <th>Date</th>\n",
       "      <th></th>\n",
       "      <th></th>\n",
       "      <th></th>\n",
       "      <th></th>\n",
       "      <th></th>\n",
       "      <th></th>\n",
       "    </tr>\n",
       "  </thead>\n",
       "  <tbody>\n",
       "    <tr>\n",
       "      <th>2019-01-02</th>\n",
       "      <td>154.889999</td>\n",
       "      <td>158.850006</td>\n",
       "      <td>154.229996</td>\n",
       "      <td>157.919998</td>\n",
       "      <td>154.794983</td>\n",
       "      <td>37039700</td>\n",
       "    </tr>\n",
       "    <tr>\n",
       "      <th>2019-01-03</th>\n",
       "      <td>143.979996</td>\n",
       "      <td>145.720001</td>\n",
       "      <td>142.000000</td>\n",
       "      <td>142.190002</td>\n",
       "      <td>139.376251</td>\n",
       "      <td>91312200</td>\n",
       "    </tr>\n",
       "    <tr>\n",
       "      <th>2019-01-04</th>\n",
       "      <td>144.529999</td>\n",
       "      <td>148.550003</td>\n",
       "      <td>143.800003</td>\n",
       "      <td>148.259995</td>\n",
       "      <td>145.326126</td>\n",
       "      <td>58607100</td>\n",
       "    </tr>\n",
       "    <tr>\n",
       "      <th>2019-01-07</th>\n",
       "      <td>148.699997</td>\n",
       "      <td>148.830002</td>\n",
       "      <td>145.899994</td>\n",
       "      <td>147.929993</td>\n",
       "      <td>145.002686</td>\n",
       "      <td>54777800</td>\n",
       "    </tr>\n",
       "    <tr>\n",
       "      <th>2019-01-08</th>\n",
       "      <td>149.559998</td>\n",
       "      <td>151.820007</td>\n",
       "      <td>148.520004</td>\n",
       "      <td>150.750000</td>\n",
       "      <td>147.766861</td>\n",
       "      <td>41025300</td>\n",
       "    </tr>\n",
       "    <tr>\n",
       "      <th>...</th>\n",
       "      <td>...</td>\n",
       "      <td>...</td>\n",
       "      <td>...</td>\n",
       "      <td>...</td>\n",
       "      <td>...</td>\n",
       "      <td>...</td>\n",
       "    </tr>\n",
       "    <tr>\n",
       "      <th>2019-12-24</th>\n",
       "      <td>284.690002</td>\n",
       "      <td>284.890015</td>\n",
       "      <td>282.920013</td>\n",
       "      <td>284.269989</td>\n",
       "      <td>282.831299</td>\n",
       "      <td>12119700</td>\n",
       "    </tr>\n",
       "    <tr>\n",
       "      <th>2019-12-26</th>\n",
       "      <td>284.820007</td>\n",
       "      <td>289.980011</td>\n",
       "      <td>284.700012</td>\n",
       "      <td>289.910004</td>\n",
       "      <td>288.442780</td>\n",
       "      <td>23280300</td>\n",
       "    </tr>\n",
       "    <tr>\n",
       "      <th>2019-12-27</th>\n",
       "      <td>291.119995</td>\n",
       "      <td>293.970001</td>\n",
       "      <td>288.119995</td>\n",
       "      <td>289.799988</td>\n",
       "      <td>288.333313</td>\n",
       "      <td>36566500</td>\n",
       "    </tr>\n",
       "    <tr>\n",
       "      <th>2019-12-30</th>\n",
       "      <td>289.459991</td>\n",
       "      <td>292.690002</td>\n",
       "      <td>285.220001</td>\n",
       "      <td>291.519989</td>\n",
       "      <td>290.044617</td>\n",
       "      <td>36028600</td>\n",
       "    </tr>\n",
       "    <tr>\n",
       "      <th>2019-12-31</th>\n",
       "      <td>289.929993</td>\n",
       "      <td>293.679993</td>\n",
       "      <td>289.519989</td>\n",
       "      <td>293.649994</td>\n",
       "      <td>292.163818</td>\n",
       "      <td>25201400</td>\n",
       "    </tr>\n",
       "  </tbody>\n",
       "</table>\n",
       "<p>252 rows × 6 columns</p>\n",
       "</div>"
      ],
      "text/plain": [
       "                  Open        High         Low       Close   Adj Close  \\\n",
       "Date                                                                     \n",
       "2019-01-02  154.889999  158.850006  154.229996  157.919998  154.794983   \n",
       "2019-01-03  143.979996  145.720001  142.000000  142.190002  139.376251   \n",
       "2019-01-04  144.529999  148.550003  143.800003  148.259995  145.326126   \n",
       "2019-01-07  148.699997  148.830002  145.899994  147.929993  145.002686   \n",
       "2019-01-08  149.559998  151.820007  148.520004  150.750000  147.766861   \n",
       "...                ...         ...         ...         ...         ...   \n",
       "2019-12-24  284.690002  284.890015  282.920013  284.269989  282.831299   \n",
       "2019-12-26  284.820007  289.980011  284.700012  289.910004  288.442780   \n",
       "2019-12-27  291.119995  293.970001  288.119995  289.799988  288.333313   \n",
       "2019-12-30  289.459991  292.690002  285.220001  291.519989  290.044617   \n",
       "2019-12-31  289.929993  293.679993  289.519989  293.649994  292.163818   \n",
       "\n",
       "              Volume  \n",
       "Date                  \n",
       "2019-01-02  37039700  \n",
       "2019-01-03  91312200  \n",
       "2019-01-04  58607100  \n",
       "2019-01-07  54777800  \n",
       "2019-01-08  41025300  \n",
       "...              ...  \n",
       "2019-12-24  12119700  \n",
       "2019-12-26  23280300  \n",
       "2019-12-27  36566500  \n",
       "2019-12-30  36028600  \n",
       "2019-12-31  25201400  \n",
       "\n",
       "[252 rows x 6 columns]"
      ]
     },
     "execution_count": 9,
     "metadata": {},
     "output_type": "execute_result"
    }
   ],
   "source": [
    "# selecting data for a specific year\n",
    "apple['2019']"
   ]
  },
  {
   "cell_type": "code",
   "execution_count": 10,
   "metadata": {},
   "outputs": [
    {
     "data": {
      "text/plain": [
       "Open         2.894600e+02\n",
       "High         2.926900e+02\n",
       "Low          2.852200e+02\n",
       "Close        2.915200e+02\n",
       "Adj Close    2.900446e+02\n",
       "Volume       3.602860e+07\n",
       "Name: 2019-12-30 00:00:00, dtype: float64"
      ]
     },
     "execution_count": 10,
     "metadata": {},
     "output_type": "execute_result"
    }
   ],
   "source": [
    "# Or we can get the data for a single day\n",
    "apple.loc['2019-12-30']"
   ]
  },
  {
   "cell_type": "code",
   "execution_count": 11,
   "metadata": {},
   "outputs": [
    {
     "data": {
      "text/plain": [
       "Open         0\n",
       "High         0\n",
       "Low          0\n",
       "Close        0\n",
       "Adj Close    0\n",
       "Volume       0\n",
       "dtype: int64"
      ]
     },
     "execution_count": 11,
     "metadata": {},
     "output_type": "execute_result"
    }
   ],
   "source": [
    "# Check if there is any missing data\n",
    "apple.isna().sum()"
   ]
  },
  {
   "cell_type": "code",
   "execution_count": 12,
   "metadata": {},
   "outputs": [
    {
     "data": {
      "text/html": [
       "<div>\n",
       "<style scoped>\n",
       "    .dataframe tbody tr th:only-of-type {\n",
       "        vertical-align: middle;\n",
       "    }\n",
       "\n",
       "    .dataframe tbody tr th {\n",
       "        vertical-align: top;\n",
       "    }\n",
       "\n",
       "    .dataframe thead th {\n",
       "        text-align: right;\n",
       "    }\n",
       "</style>\n",
       "<table border=\"1\" class=\"dataframe\">\n",
       "  <thead>\n",
       "    <tr style=\"text-align: right;\">\n",
       "      <th></th>\n",
       "      <th>Open</th>\n",
       "      <th>High</th>\n",
       "      <th>Low</th>\n",
       "      <th>Close</th>\n",
       "      <th>Volume</th>\n",
       "    </tr>\n",
       "    <tr>\n",
       "      <th>Date</th>\n",
       "      <th></th>\n",
       "      <th></th>\n",
       "      <th></th>\n",
       "      <th></th>\n",
       "      <th></th>\n",
       "    </tr>\n",
       "  </thead>\n",
       "  <tbody>\n",
       "    <tr>\n",
       "      <th>1996-01-02</th>\n",
       "      <td>1.151786</td>\n",
       "      <td>1.151786</td>\n",
       "      <td>1.133929</td>\n",
       "      <td>0.993233</td>\n",
       "      <td>34823600</td>\n",
       "    </tr>\n",
       "    <tr>\n",
       "      <th>1996-01-03</th>\n",
       "      <td>1.142857</td>\n",
       "      <td>1.174107</td>\n",
       "      <td>1.138393</td>\n",
       "      <td>0.993233</td>\n",
       "      <td>107458400</td>\n",
       "    </tr>\n",
       "    <tr>\n",
       "      <th>1996-01-04</th>\n",
       "      <td>1.156250</td>\n",
       "      <td>1.156250</td>\n",
       "      <td>1.120536</td>\n",
       "      <td>0.975842</td>\n",
       "      <td>75045600</td>\n",
       "    </tr>\n",
       "    <tr>\n",
       "      <th>1996-01-05</th>\n",
       "      <td>1.129464</td>\n",
       "      <td>1.223214</td>\n",
       "      <td>1.120536</td>\n",
       "      <td>1.058933</td>\n",
       "      <td>111482000</td>\n",
       "    </tr>\n",
       "    <tr>\n",
       "      <th>1996-01-08</th>\n",
       "      <td>1.232143</td>\n",
       "      <td>1.267857</td>\n",
       "      <td>1.214286</td>\n",
       "      <td>1.070527</td>\n",
       "      <td>30335200</td>\n",
       "    </tr>\n",
       "    <tr>\n",
       "      <th>...</th>\n",
       "      <td>...</td>\n",
       "      <td>...</td>\n",
       "      <td>...</td>\n",
       "      <td>...</td>\n",
       "      <td>...</td>\n",
       "    </tr>\n",
       "    <tr>\n",
       "      <th>2020-07-31</th>\n",
       "      <td>411.540009</td>\n",
       "      <td>425.660004</td>\n",
       "      <td>403.299988</td>\n",
       "      <td>425.040009</td>\n",
       "      <td>93584200</td>\n",
       "    </tr>\n",
       "    <tr>\n",
       "      <th>2020-08-03</th>\n",
       "      <td>432.799988</td>\n",
       "      <td>446.549988</td>\n",
       "      <td>431.570007</td>\n",
       "      <td>435.750000</td>\n",
       "      <td>77037800</td>\n",
       "    </tr>\n",
       "    <tr>\n",
       "      <th>2020-08-04</th>\n",
       "      <td>436.529999</td>\n",
       "      <td>443.160004</td>\n",
       "      <td>433.549988</td>\n",
       "      <td>438.660004</td>\n",
       "      <td>43267900</td>\n",
       "    </tr>\n",
       "    <tr>\n",
       "      <th>2020-08-05</th>\n",
       "      <td>437.510010</td>\n",
       "      <td>441.570007</td>\n",
       "      <td>435.589996</td>\n",
       "      <td>440.250000</td>\n",
       "      <td>30498000</td>\n",
       "    </tr>\n",
       "    <tr>\n",
       "      <th>2020-08-06</th>\n",
       "      <td>441.619995</td>\n",
       "      <td>457.649994</td>\n",
       "      <td>439.190002</td>\n",
       "      <td>455.609985</td>\n",
       "      <td>50490000</td>\n",
       "    </tr>\n",
       "  </tbody>\n",
       "</table>\n",
       "<p>6193 rows × 5 columns</p>\n",
       "</div>"
      ],
      "text/plain": [
       "                  Open        High         Low       Close     Volume\n",
       "Date                                                                 \n",
       "1996-01-02    1.151786    1.151786    1.133929    0.993233   34823600\n",
       "1996-01-03    1.142857    1.174107    1.138393    0.993233  107458400\n",
       "1996-01-04    1.156250    1.156250    1.120536    0.975842   75045600\n",
       "1996-01-05    1.129464    1.223214    1.120536    1.058933  111482000\n",
       "1996-01-08    1.232143    1.267857    1.214286    1.070527   30335200\n",
       "...                ...         ...         ...         ...        ...\n",
       "2020-07-31  411.540009  425.660004  403.299988  425.040009   93584200\n",
       "2020-08-03  432.799988  446.549988  431.570007  435.750000   77037800\n",
       "2020-08-04  436.529999  443.160004  433.549988  438.660004   43267900\n",
       "2020-08-05  437.510010  441.570007  435.589996  440.250000   30498000\n",
       "2020-08-06  441.619995  457.649994  439.190002  455.609985   50490000\n",
       "\n",
       "[6193 rows x 5 columns]"
      ]
     },
     "execution_count": 12,
     "metadata": {},
     "output_type": "execute_result"
    }
   ],
   "source": [
    "# dropping Close column, as we will use the Adjusted Close column for our model\n",
    "apple = apple.drop('Close', axis=1)\n",
    "apple = apple.rename(columns={\"Adj Close\": \"Close\"})\n",
    "apple"
   ]
  },
  {
   "cell_type": "code",
   "execution_count": 13,
   "metadata": {},
   "outputs": [
    {
     "data": {
      "image/png": "[encoded data removed]",
      "text/plain": [
       "<Figure size 1800x576 with 1 Axes>"
      ]
     },
     "metadata": {
      "needs_background": "light"
     },
     "output_type": "display_data"
    }
   ],
   "source": [
    "# visualize the data to gain some insight\n",
    "plt.figure(figsize=(25,8))\n",
    "plt.plot(apple.index,'Close', data=apple)\n",
    "plt.xlabel('Date')\n",
    "plt.ylabel('Close Price')\n",
    "plt.xticks(rotation=45)\n",
    "plt.show()"
   ]
  },
  {
   "cell_type": "code",
   "execution_count": 14,
   "metadata": {
    "scrolled": true
   },
   "outputs": [
    {
     "data": {
      "text/html": [
       "<div>\n",
       "<style scoped>\n",
       "    .dataframe tbody tr th:only-of-type {\n",
       "        vertical-align: middle;\n",
       "    }\n",
       "\n",
       "    .dataframe tbody tr th {\n",
       "        vertical-align: top;\n",
       "    }\n",
       "\n",
       "    .dataframe thead th {\n",
       "        text-align: right;\n",
       "    }\n",
       "</style>\n",
       "<table border=\"1\" class=\"dataframe\">\n",
       "  <thead>\n",
       "    <tr style=\"text-align: right;\">\n",
       "      <th></th>\n",
       "      <th>Open</th>\n",
       "      <th>High</th>\n",
       "      <th>Low</th>\n",
       "      <th>Close</th>\n",
       "      <th>Volume</th>\n",
       "    </tr>\n",
       "  </thead>\n",
       "  <tbody>\n",
       "    <tr>\n",
       "      <th>Open</th>\n",
       "      <td>1.000000</td>\n",
       "      <td>0.999920</td>\n",
       "      <td>0.999916</td>\n",
       "      <td>0.998900</td>\n",
       "      <td>-0.359337</td>\n",
       "    </tr>\n",
       "    <tr>\n",
       "      <th>High</th>\n",
       "      <td>0.999920</td>\n",
       "      <td>1.000000</td>\n",
       "      <td>0.999868</td>\n",
       "      <td>0.999056</td>\n",
       "      <td>-0.357955</td>\n",
       "    </tr>\n",
       "    <tr>\n",
       "      <th>Low</th>\n",
       "      <td>0.999916</td>\n",
       "      <td>0.999868</td>\n",
       "      <td>1.000000</td>\n",
       "      <td>0.998961</td>\n",
       "      <td>-0.361110</td>\n",
       "    </tr>\n",
       "    <tr>\n",
       "      <th>Close</th>\n",
       "      <td>0.998900</td>\n",
       "      <td>0.999056</td>\n",
       "      <td>0.998961</td>\n",
       "      <td>1.000000</td>\n",
       "      <td>-0.360740</td>\n",
       "    </tr>\n",
       "    <tr>\n",
       "      <th>Volume</th>\n",
       "      <td>-0.359337</td>\n",
       "      <td>-0.357955</td>\n",
       "      <td>-0.361110</td>\n",
       "      <td>-0.360740</td>\n",
       "      <td>1.000000</td>\n",
       "    </tr>\n",
       "  </tbody>\n",
       "</table>\n",
       "</div>"
      ],
      "text/plain": [
       "            Open      High       Low     Close    Volume\n",
       "Open    1.000000  0.999920  0.999916  0.998900 -0.359337\n",
       "High    0.999920  1.000000  0.999868  0.999056 -0.357955\n",
       "Low     0.999916  0.999868  1.000000  0.998961 -0.361110\n",
       "Close   0.998900  0.999056  0.998961  1.000000 -0.360740\n",
       "Volume -0.359337 -0.357955 -0.361110 -0.360740  1.000000"
      ]
     },
     "execution_count": 14,
     "metadata": {},
     "output_type": "execute_result"
    }
   ],
   "source": [
    "# Call the .corr() method on the apple dataset \n",
    "apple.corr()"
   ]
  },
  {
   "cell_type": "code",
   "execution_count": 15,
   "metadata": {},
   "outputs": [
    {
     "data": {
      "image/png": "[encoded data removed]",
      "text/plain": [
       "<Figure size 1008x864 with 2 Axes>"
      ]
     },
     "metadata": {
      "needs_background": "light"
     },
     "output_type": "display_data"
    }
   ],
   "source": [
    "#create the correlation matrix heat map\n",
    "plt.figure(figsize=(14,12))\n",
    "sns.heatmap(apple.corr(),linewidths=.1,cmap=\"YlGnBu\", annot=True)\n",
    "plt.yticks(rotation=0);"
   ]
  },
  {
   "cell_type": "markdown",
   "metadata": {},
   "source": [
    "# EDA"
   ]
  },
  {
   "cell_type": "markdown",
   "metadata": {},
   "source": [
    "### How to Check Stationarity of our TS data?\n",
    "We can check stationarity using the following:\n",
    "Plotting Rolling Statistics: We can plot the moving average or moving variance and see if it varies with time. By moving average/variance I mean that at any instant ‘t’, we’ll take the average/variance of the last year, i.e. last 12 months.\n",
    "Dickey-Fuller Test: This is one of the statistical tests for checking stationarity. Here the null hypothesis is that the TS is non-stationary. The test results comprise of a Test Statistic and some Critical Values for difference confidence levels. If the ‘Test Statistic’ is less than the ‘Critical Value’, we can reject the null hypothesis and say that the series is stationary."
   ]
  },
  {
   "cell_type": "markdown",
   "metadata": {},
   "source": [
    "### Plotting Rolling Statistics"
   ]
  },
  {
   "cell_type": "code",
   "execution_count": 17,
   "metadata": {},
   "outputs": [
    {
     "data": {
      "image/png": "[encoded data removed]",
      "text/plain": [
       "<Figure size 432x288 with 1 Axes>"
      ]
     },
     "metadata": {
      "needs_background": "light"
     },
     "output_type": "display_data"
    }
   ],
   "source": [
    "# plot mean and std\n",
    "rolmean = apple['Close'].rolling(window=12).mean()\n",
    "rolstd = apple['Close'].rolling(window=12).std()\n",
    "orig = plt.plot(apple['Close'], color='black', label='Original')\n",
    "mean = plt.plot(rolmean, color='red', label='Mean')\n",
    "std = plt.plot(rolstd, color='blue', label='Std')\n",
    "plt.legend(loc='best')\n",
    "plt.title = (\"Rolling mean and STD\")\n",
    "plt.show(block=False)"
   ]
  },
  {
   "cell_type": "markdown",
   "metadata": {},
   "source": [
    "### Dickey-Fuller Test"
   ]
  },
  {
   "cell_type": "markdown",
   "metadata": {},
   "source": [
    "Null hypothesis in ADF test is that Data is not stationary.\n",
    "- if Test Statistic < Critical Values => Rejects the null hypothesis.\n",
    "- if Test Statistic >Critical Values => failed to reject the null hypothesis."
   ]
  },
  {
   "cell_type": "code",
   "execution_count": 18,
   "metadata": {},
   "outputs": [
    {
     "name": "stdout",
     "output_type": "stream",
     "text": [
      "Results of Dickey-Fuller Test:\n",
      "Test Statistic                    5.150154\n",
      "p-value                           1.000000\n",
      "#Lags Used                       34.000000\n",
      "Number of Observations Used    6158.000000\n",
      "Critical Value (1%)              -3.431412\n",
      "Critical Value (5%)              -2.862009\n",
      "Critical Value (10%)             -2.567020\n",
      "dtype: float64\n"
     ]
    }
   ],
   "source": [
    "# checking the stationarity of the data by using adfuller test\n",
    "from statsmodels.tsa.stattools import adfuller\n",
    "def test_stationarity(timeseries):\n",
    "    #Perform Dickey-Fuller test:\n",
    "    print('Results of Dickey-Fuller Test:')\n",
    "    dftest = adfuller(timeseries, autolag='AIC')\n",
    "    dfoutput = pd.Series(dftest[0:4], index=['Test Statistic','p-value','#Lags Used','Number of Observations Used'])\n",
    "    for key,value in dftest[4].items():\n",
    "        dfoutput['Critical Value (%s)'%key] = value\n",
    "    print(dfoutput)\n",
    "    \n",
    "test_stationarity(apple['Close'])"
   ]
  },
  {
   "cell_type": "markdown",
   "metadata": {},
   "source": [
    "From the results of Dickey-Fuller Test, the p-value is not less than 5%, so we can not reject the null hypothesis that the series is a random walk. As we know that a random walk is a non-stationary series, our next step is to make the series stationary."
   ]
  },
  {
   "cell_type": "markdown",
   "metadata": {},
   "source": [
    "### Estimating & Eliminating Trend\n",
    "One of the first tricks to reduce trend can be transformation. For example, in this case we can clearly see that the there is an exponential growth and significant positive trend. So we can apply transformation which penalize higher values more than smaller values. These can be taking a log, square root, cube root, etc. We can first take the differences and than take a log transform to bring the data close to stationarity."
   ]
  },
  {
   "cell_type": "code",
   "execution_count": 19,
   "metadata": {},
   "outputs": [
    {
     "data": {
      "image/png": "[encoded data removed]",
      "text/plain": [
       "<Figure size 432x288 with 2 Axes>"
      ]
     },
     "metadata": {
      "needs_background": "light"
     },
     "output_type": "display_data"
    }
   ],
   "source": [
    "# Calculating and visualizing the difference\n",
    "fig, (ax1, ax2) = plt.subplots(1, 2)\n",
    "fig.suptitle('Non-Stationary into Stationary')\n",
    "# apple data as a non-stationary random walk\n",
    "ax1.plot(apple['Close'])\n",
    "# by computing the first differences, it becomes a stationary white noise process\n",
    "ax2.plot(apple['Close'].diff().diff())\n",
    "plt.show()"
   ]
  },
  {
   "cell_type": "markdown",
   "metadata": {},
   "source": [
    "So we can use some techniques to estimate or model this trend and then remove it from the series. There can be many ways of doing it and some of most commonly used are:\n",
    "- Aggregation – taking average for a time period like monthly/weekly averages\n",
    "- Smoothing – taking rolling averages\n",
    "- Polynomial Fitting – fit a regression model"
   ]
  },
  {
   "cell_type": "code",
   "execution_count": 20,
   "metadata": {},
   "outputs": [
    {
     "data": {
      "image/png": "[encoded data removed]",
      "text/plain": [
       "<Figure size 432x288 with 1 Axes>"
      ]
     },
     "metadata": {
      "needs_background": "light"
     },
     "output_type": "display_data"
    },
    {
     "name": "stdout",
     "output_type": "stream",
     "text": [
      "Results of Dicky-Fuller Test:\n",
      "Test Statistic                    0.070866\n",
      "p-value                           0.964015\n",
      "#Lags Used                       22.000000\n",
      "Number of Observations Used    6170.000000\n",
      "Critical Value(1%                -3.431410\n",
      "Critical Value(5%                -2.862009\n",
      "Critical Value(10%               -2.567019\n",
      "dtype: float64\n"
     ]
    }
   ],
   "source": [
    "# Taking the log\n",
    "appleLogScale = np.log(apple['Close'])\n",
    "\n",
    "# Smoothing the data\n",
    "# Here we can take the average over the past 1 year, i.e. last 12 values.\n",
    "moving_avg = appleLogScale.rolling(window = 12).mean()\n",
    "movingSTD = appleLogScale.rolling(window=12).std()\n",
    "orig = plt.plot(appleLogScale , color='black', label='Original')\n",
    "mean = plt.plot(moving_avg, color='red', label='Mean')\n",
    "std = plt.plot(movingSTD, color='blue', label='Std')\n",
    "plt.legend(loc='best')\n",
    "plt.title = (\"Rolling mean and STD\")\n",
    "plt.show(block=False)\n",
    "\n",
    "\n",
    "from statsmodels.tsa.stattools import adfuller\n",
    "print(\"Results of Dicky-Fuller Test:\")\n",
    "dftest = adfuller(appleLogScale, autolag='AIC')\n",
    "\n",
    "dfoutput = pd.Series(dftest[0:4], index=['Test Statistic', 'p-value', '#Lags Used', 'Number of Observations Used'])\n",
    "for key,value in dftest[4].items():\n",
    "    dfoutput['Critical Value(%s' %key] = value\n",
    "    \n",
    "print(dfoutput)"
   ]
  },
  {
   "cell_type": "markdown",
   "metadata": {},
   "source": [
    "By taking only the log of the series we simply eliminate the exponatial growth. Applying the difference and the log at the same time, the transformed series looks stationary."
   ]
  },
  {
   "cell_type": "code",
   "execution_count": 21,
   "metadata": {},
   "outputs": [
    {
     "data": {
      "image/png": "[encoded data removed]",
      "text/plain": [
       "<Figure size 432x288 with 1 Axes>"
      ]
     },
     "metadata": {
      "needs_background": "light"
     },
     "output_type": "display_data"
    }
   ],
   "source": [
    "# taking the difference and plotting\n",
    "appleLogScaleMinusMA = appleLogScale - moving_avg\n",
    "appleLogScaleMinusMA.dropna(inplace=True)\n",
    "plt.plot(appleLogScaleMinusMA)\n",
    "plt.show()"
   ]
  },
  {
   "cell_type": "code",
   "execution_count": 22,
   "metadata": {},
   "outputs": [
    {
     "name": "stdout",
     "output_type": "stream",
     "text": [
      "Results of Dickey-Fuller Test:\n",
      "Test Statistic                -1.614457e+01\n",
      "p-value                        4.637799e-29\n",
      "#Lags Used                     1.700000e+01\n",
      "Number of Observations Used    6.164000e+03\n",
      "Critical Value (1%)           -3.431411e+00\n",
      "Critical Value (5%)           -2.862009e+00\n",
      "Critical Value (10%)          -2.567020e+00\n",
      "dtype: float64\n"
     ]
    }
   ],
   "source": [
    "# ADF test after taking the log anf difference \n",
    "test_stationarity(appleLogScaleMinusMA)"
   ]
  },
  {
   "cell_type": "markdown",
   "metadata": {},
   "source": [
    "This looks like a much better series. However, a drawback in this particular approach is that the time-period has to be strictly defined. In this case we can take yearly averages but in complex situations like forecasting a stock price, its difficult to come up with a number. So we take a ‘weighted moving average’ where more recent values are given a higher weight. There can be many technique for assigning weights. A popular one is exponentially weighted moving average where weights are assigned to all the previous values with a decay factor."
   ]
  },
  {
   "cell_type": "code",
   "execution_count": 24,
   "metadata": {},
   "outputs": [
    {
     "data": {
      "image/png": "[encoded data removed]",
      "text/plain": [
       "<Figure size 432x288 with 1 Axes>"
      ]
     },
     "metadata": {
      "needs_background": "light"
     },
     "output_type": "display_data"
    }
   ],
   "source": [
    "# calculating the weighted moving average\n",
    "exponentialWeightedAVG = appleLogScale.ewm(halflife=12, min_periods=0, adjust=True).mean()\n",
    "appleLogScaleMinusMovingEWA = appleLogScale - exponentialWeightedAVG\n",
    "plt.plot(exponentialWeightedAVG,  color='red')\n",
    "plt.plot(appleLogScale)\n",
    "plt.show()"
   ]
  },
  {
   "cell_type": "code",
   "execution_count": 25,
   "metadata": {},
   "outputs": [
    {
     "name": "stdout",
     "output_type": "stream",
     "text": [
      "Results of Dickey-Fuller Test:\n",
      "Test Statistic                -9.936328e+00\n",
      "p-value                        2.737526e-17\n",
      "#Lags Used                     2.200000e+01\n",
      "Number of Observations Used    6.170000e+03\n",
      "Critical Value (1%)           -3.431410e+00\n",
      "Critical Value (5%)           -2.862009e+00\n",
      "Critical Value (10%)          -2.567019e+00\n",
      "dtype: float64\n"
     ]
    }
   ],
   "source": [
    "# ADF test after calculating the weighted moving average\n",
    "test_stationarity(appleLogScaleMinusMovingEWA)"
   ]
  }
 ],
 "metadata": {
  "kernelspec": {
   "display_name": "Python 3",
   "language": "python",
   "name": "python3"
  },
  "language_info": {
   "codemirror_mode": {
    "name": "ipython",
    "version": 3
   },
   "file_extension": ".py",
   "mimetype": "text/x-python",
   "name": "python",
   "nbconvert_exporter": "python",
   "pygments_lexer": "ipython3",
   "version": "3.7.6"
  }
 },
 "nbformat": 4,
 "nbformat_minor": 4
}
